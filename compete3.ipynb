{
  "nbformat": 4,
  "nbformat_minor": 0,
  "metadata": {
    "colab": {
      "name": "compete3.ipynb",
      "provenance": []
    },
    "kernelspec": {
      "name": "python3",
      "display_name": "Python 3"
    },
    "language_info": {
      "name": "python"
    }
  },
  "cells": [
    {
      "cell_type": "code",
      "metadata": {
        "colab": {
          "base_uri": "https://localhost:8080/"
        },
        "id": "qSw52CQb-0Gc",
        "outputId": "9592b9ce-7af7-411d-b1cc-8b0a357bcad8"
      },
      "source": [
        "from google.colab import drive\n",
        "drive.mount('/content/gdrive')"
      ],
      "execution_count": null,
      "outputs": [
        {
          "output_type": "stream",
          "text": [
            "Drive already mounted at /content/gdrive; to attempt to forcibly remount, call drive.mount(\"/content/gdrive\", force_remount=True).\n"
          ],
          "name": "stdout"
        }
      ]
    },
    {
      "cell_type": "code",
      "metadata": {
        "colab": {
          "base_uri": "https://localhost:8080/"
        },
        "id": "sbf4pvLF_ueF",
        "outputId": "29348b8d-8046-4f38-81f3-74e7b4238c86"
      },
      "source": [
        "!pip install category_encoders"
      ],
      "execution_count": null,
      "outputs": [
        {
          "output_type": "stream",
          "text": [
            "Requirement already satisfied: category_encoders in /usr/local/lib/python3.7/dist-packages (2.2.2)\n",
            "Requirement already satisfied: pandas>=0.21.1 in /usr/local/lib/python3.7/dist-packages (from category_encoders) (1.1.5)\n",
            "Requirement already satisfied: scipy>=1.0.0 in /usr/local/lib/python3.7/dist-packages (from category_encoders) (1.4.1)\n",
            "Requirement already satisfied: scikit-learn>=0.20.0 in /usr/local/lib/python3.7/dist-packages (from category_encoders) (0.22.2.post1)\n",
            "Requirement already satisfied: statsmodels>=0.9.0 in /usr/local/lib/python3.7/dist-packages (from category_encoders) (0.10.2)\n",
            "Requirement already satisfied: patsy>=0.5.1 in /usr/local/lib/python3.7/dist-packages (from category_encoders) (0.5.1)\n",
            "Requirement already satisfied: numpy>=1.14.0 in /usr/local/lib/python3.7/dist-packages (from category_encoders) (1.19.5)\n",
            "Requirement already satisfied: python-dateutil>=2.7.3 in /usr/local/lib/python3.7/dist-packages (from pandas>=0.21.1->category_encoders) (2.8.1)\n",
            "Requirement already satisfied: pytz>=2017.2 in /usr/local/lib/python3.7/dist-packages (from pandas>=0.21.1->category_encoders) (2018.9)\n",
            "Requirement already satisfied: joblib>=0.11 in /usr/local/lib/python3.7/dist-packages (from scikit-learn>=0.20.0->category_encoders) (1.0.1)\n",
            "Requirement already satisfied: six in /usr/local/lib/python3.7/dist-packages (from patsy>=0.5.1->category_encoders) (1.15.0)\n"
          ],
          "name": "stdout"
        }
      ]
    },
    {
      "cell_type": "code",
      "metadata": {
        "colab": {
          "base_uri": "https://localhost:8080/"
        },
        "id": "PtgX5NLD_c50",
        "outputId": "de361e67-be82-4314-894e-98045d0119c7"
      },
      "source": [
        "import pandas as pd\n",
        "import numpy as np\n",
        "import matplotlib.pyplot as plt\n",
        "import plotly.express as px\n",
        "\n",
        "from sklearn.preprocessing import LabelEncoder\n",
        "from sklearn.compose import ColumnTransformer\n",
        "from sklearn.linear_model import Lasso\n",
        "from sklearn.preprocessing import OneHotEncoder\n",
        "import category_encoders as ce\n",
        "from sklearn.svm import LinearSVR\n",
        "from sklearn.ensemble import RandomForestRegressor\n",
        "from sklearn.ensemble import StackingRegressor\n",
        "from sklearn.preprocessing import OneHotEncoder, LabelEncoder, StandardScaler\n",
        "import xgboost as xgb\n",
        "from sklearn.metrics import mean_squared_log_error, r2_score, mean_squared_error\n",
        "from sklearn.utils import shuffle\n",
        "from sklearn.model_selection import train_test_split\n",
        "import seaborn as sns\n",
        "\n",
        "SEED = 42"
      ],
      "execution_count": null,
      "outputs": [
        {
          "output_type": "stream",
          "text": [
            "/usr/local/lib/python3.7/dist-packages/statsmodels/tools/_testing.py:19: FutureWarning:\n",
            "\n",
            "pandas.util.testing is deprecated. Use the functions in the public API at pandas.testing instead.\n",
            "\n"
          ],
          "name": "stderr"
        }
      ]
    },
    {
      "cell_type": "code",
      "metadata": {
        "colab": {
          "base_uri": "https://localhost:8080/"
        },
        "id": "HKSm2lGA_rx9",
        "outputId": "a963a18b-fa95-4492-b187-7d2b728e8050"
      },
      "source": [
        "cd gdrive/MyDrive"
      ],
      "execution_count": null,
      "outputs": [
        {
          "output_type": "stream",
          "text": [
            "/content/gdrive/MyDrive\n"
          ],
          "name": "stdout"
        }
      ]
    },
    {
      "cell_type": "code",
      "metadata": {
        "id": "aKIMUKpA_vO8"
      },
      "source": [
        "train = pd.read_csv(\"train.csv\")\n",
        "test = pd.read_csv(\"test.csv\")"
      ],
      "execution_count": null,
      "outputs": []
    },
    {
      "cell_type": "code",
      "metadata": {
        "colab": {
          "base_uri": "https://localhost:8080/"
        },
        "id": "1A1HUpHS_v3z",
        "outputId": "1f9273a3-0314-4248-d7e6-21d70169a59f"
      },
      "source": [
        "train.columns"
      ],
      "execution_count": null,
      "outputs": [
        {
          "output_type": "execute_result",
          "data": {
            "text/plain": [
              "Index(['ID', 'Price', 'Levy', 'Manufacturer', 'Model', 'Prod. year',\n",
              "       'Category', 'Leather interior', 'Fuel type', 'Engine volume', 'Mileage',\n",
              "       'Cylinders', 'Gear box type', 'Drive wheels', 'Doors', 'Wheel', 'Color',\n",
              "       'Airbags'],\n",
              "      dtype='object')"
            ]
          },
          "metadata": {
            "tags": []
          },
          "execution_count": 6
        }
      ]
    },
    {
      "cell_type": "code",
      "metadata": {
        "colab": {
          "base_uri": "https://localhost:8080/"
        },
        "id": "1JT6w8rSABcK",
        "outputId": "5d26c79a-04f2-4f62-bb4b-2c56d58ca7d3"
      },
      "source": [
        "len(train)"
      ],
      "execution_count": null,
      "outputs": [
        {
          "output_type": "execute_result",
          "data": {
            "text/plain": [
              "19237"
            ]
          },
          "metadata": {
            "tags": []
          },
          "execution_count": 7
        }
      ]
    },
    {
      "cell_type": "code",
      "metadata": {
        "id": "_CI4-cDt_v6e"
      },
      "source": [
        "train.drop_duplicates(inplace = True)"
      ],
      "execution_count": null,
      "outputs": []
    },
    {
      "cell_type": "code",
      "metadata": {
        "colab": {
          "base_uri": "https://localhost:8080/"
        },
        "id": "CX1RvGnh_v80",
        "outputId": "eeb1aff8-9f10-475b-def2-f8276a1b2881"
      },
      "source": [
        "len(train)"
      ],
      "execution_count": null,
      "outputs": [
        {
          "output_type": "execute_result",
          "data": {
            "text/plain": [
              "18924"
            ]
          },
          "metadata": {
            "tags": []
          },
          "execution_count": 9
        }
      ]
    },
    {
      "cell_type": "code",
      "metadata": {
        "id": "8_3NQnm3AEtR"
      },
      "source": [
        "train.drop([\"ID\", \"Manufacturer\"], axis = 1, inplace = True)"
      ],
      "execution_count": null,
      "outputs": []
    },
    {
      "cell_type": "code",
      "metadata": {
        "colab": {
          "base_uri": "https://localhost:8080/",
          "height": 360
        },
        "id": "GHVpqx_dAFDB",
        "outputId": "f191dc25-bc90-428e-d7af-a6b41ca3a7ac"
      },
      "source": [
        "train.head()"
      ],
      "execution_count": null,
      "outputs": [
        {
          "output_type": "execute_result",
          "data": {
            "text/html": [
              "<div>\n",
              "<style scoped>\n",
              "    .dataframe tbody tr th:only-of-type {\n",
              "        vertical-align: middle;\n",
              "    }\n",
              "\n",
              "    .dataframe tbody tr th {\n",
              "        vertical-align: top;\n",
              "    }\n",
              "\n",
              "    .dataframe thead th {\n",
              "        text-align: right;\n",
              "    }\n",
              "</style>\n",
              "<table border=\"1\" class=\"dataframe\">\n",
              "  <thead>\n",
              "    <tr style=\"text-align: right;\">\n",
              "      <th></th>\n",
              "      <th>Price</th>\n",
              "      <th>Levy</th>\n",
              "      <th>Model</th>\n",
              "      <th>Prod. year</th>\n",
              "      <th>Category</th>\n",
              "      <th>Leather interior</th>\n",
              "      <th>Fuel type</th>\n",
              "      <th>Engine volume</th>\n",
              "      <th>Mileage</th>\n",
              "      <th>Cylinders</th>\n",
              "      <th>Gear box type</th>\n",
              "      <th>Drive wheels</th>\n",
              "      <th>Doors</th>\n",
              "      <th>Wheel</th>\n",
              "      <th>Color</th>\n",
              "      <th>Airbags</th>\n",
              "    </tr>\n",
              "  </thead>\n",
              "  <tbody>\n",
              "    <tr>\n",
              "      <th>0</th>\n",
              "      <td>13328</td>\n",
              "      <td>1399</td>\n",
              "      <td>RX 450</td>\n",
              "      <td>2010</td>\n",
              "      <td>Jeep</td>\n",
              "      <td>Yes</td>\n",
              "      <td>Hybrid</td>\n",
              "      <td>3.5</td>\n",
              "      <td>186005 km</td>\n",
              "      <td>6.0</td>\n",
              "      <td>Automatic</td>\n",
              "      <td>4x4</td>\n",
              "      <td>04-May</td>\n",
              "      <td>Left wheel</td>\n",
              "      <td>Silver</td>\n",
              "      <td>12</td>\n",
              "    </tr>\n",
              "    <tr>\n",
              "      <th>1</th>\n",
              "      <td>16621</td>\n",
              "      <td>1018</td>\n",
              "      <td>Equinox</td>\n",
              "      <td>2011</td>\n",
              "      <td>Jeep</td>\n",
              "      <td>No</td>\n",
              "      <td>Petrol</td>\n",
              "      <td>3</td>\n",
              "      <td>192000 km</td>\n",
              "      <td>6.0</td>\n",
              "      <td>Tiptronic</td>\n",
              "      <td>4x4</td>\n",
              "      <td>04-May</td>\n",
              "      <td>Left wheel</td>\n",
              "      <td>Black</td>\n",
              "      <td>8</td>\n",
              "    </tr>\n",
              "    <tr>\n",
              "      <th>2</th>\n",
              "      <td>8467</td>\n",
              "      <td>-</td>\n",
              "      <td>FIT</td>\n",
              "      <td>2006</td>\n",
              "      <td>Hatchback</td>\n",
              "      <td>No</td>\n",
              "      <td>Petrol</td>\n",
              "      <td>1.3</td>\n",
              "      <td>200000 km</td>\n",
              "      <td>4.0</td>\n",
              "      <td>Variator</td>\n",
              "      <td>Front</td>\n",
              "      <td>04-May</td>\n",
              "      <td>Right-hand drive</td>\n",
              "      <td>Black</td>\n",
              "      <td>2</td>\n",
              "    </tr>\n",
              "    <tr>\n",
              "      <th>3</th>\n",
              "      <td>3607</td>\n",
              "      <td>862</td>\n",
              "      <td>Escape</td>\n",
              "      <td>2011</td>\n",
              "      <td>Jeep</td>\n",
              "      <td>Yes</td>\n",
              "      <td>Hybrid</td>\n",
              "      <td>2.5</td>\n",
              "      <td>168966 km</td>\n",
              "      <td>4.0</td>\n",
              "      <td>Automatic</td>\n",
              "      <td>4x4</td>\n",
              "      <td>04-May</td>\n",
              "      <td>Left wheel</td>\n",
              "      <td>White</td>\n",
              "      <td>0</td>\n",
              "    </tr>\n",
              "    <tr>\n",
              "      <th>4</th>\n",
              "      <td>11726</td>\n",
              "      <td>446</td>\n",
              "      <td>FIT</td>\n",
              "      <td>2014</td>\n",
              "      <td>Hatchback</td>\n",
              "      <td>Yes</td>\n",
              "      <td>Petrol</td>\n",
              "      <td>1.3</td>\n",
              "      <td>91901 km</td>\n",
              "      <td>4.0</td>\n",
              "      <td>Automatic</td>\n",
              "      <td>Front</td>\n",
              "      <td>04-May</td>\n",
              "      <td>Left wheel</td>\n",
              "      <td>Silver</td>\n",
              "      <td>4</td>\n",
              "    </tr>\n",
              "  </tbody>\n",
              "</table>\n",
              "</div>"
            ],
            "text/plain": [
              "   Price  Levy    Model  Prod. year  ...   Doors             Wheel   Color Airbags\n",
              "0  13328  1399   RX 450        2010  ...  04-May        Left wheel  Silver      12\n",
              "1  16621  1018  Equinox        2011  ...  04-May        Left wheel   Black       8\n",
              "2   8467     -      FIT        2006  ...  04-May  Right-hand drive   Black       2\n",
              "3   3607   862   Escape        2011  ...  04-May        Left wheel   White       0\n",
              "4  11726   446      FIT        2014  ...  04-May        Left wheel  Silver       4\n",
              "\n",
              "[5 rows x 16 columns]"
            ]
          },
          "metadata": {
            "tags": []
          },
          "execution_count": 11
        }
      ]
    },
    {
      "cell_type": "code",
      "metadata": {
        "colab": {
          "base_uri": "https://localhost:8080/"
        },
        "id": "hineGhoiAFF0",
        "outputId": "3977b82a-123f-4941-c8d4-ddd4ffe6d033"
      },
      "source": [
        "train.dtypes"
      ],
      "execution_count": null,
      "outputs": [
        {
          "output_type": "execute_result",
          "data": {
            "text/plain": [
              "Price                 int64\n",
              "Levy                 object\n",
              "Model                object\n",
              "Prod. year            int64\n",
              "Category             object\n",
              "Leather interior     object\n",
              "Fuel type            object\n",
              "Engine volume        object\n",
              "Mileage              object\n",
              "Cylinders           float64\n",
              "Gear box type        object\n",
              "Drive wheels         object\n",
              "Doors                object\n",
              "Wheel                object\n",
              "Color                object\n",
              "Airbags               int64\n",
              "dtype: object"
            ]
          },
          "metadata": {
            "tags": []
          },
          "execution_count": 12
        }
      ]
    },
    {
      "cell_type": "code",
      "metadata": {
        "id": "MuFvFpIuAFMc"
      },
      "source": [
        "train['Engine volume'] = train['Engine volume'].replace(['2.0 Turbo', '2.2 Turbo','3.0 Turbo','1.4 Turbo','1.5 Turbo', '1.6 Turbo','2.3 Turbo','2.8 Turbo','1.8 Turbo', '2.4 Turbo', '3.5 Turbo', '3.2 Turbo','1.3 Turbo','2.5 Turbo','1.9 Turbo', '4.4 Turbo', '4.7 Turbo', '0.2 Turbo','4.8 Turbo', '4.6 Turbo','1.2 Turbo','1.7 Turbo', '6.3 Turbo', '2.7 Turbo','2.9 Turbo', '4.0 Turbo','3.6 Turbo','3.7 Turbo','5.5 Turbo','2.1 Turbo','0.7 Turbo', '0.6 Turbo','1.0 Turbo', '4.5 Turbo', '0.8 Turbo', '4.2 Turbo', '3.1', '5.0 Turbo','5.7 Turbo','0.4 Turbo', '5.4 Turbo', '0.3 Turbo','1.1 Turbo', '6.0 Turbo', '2.6 Turbo'],'Turbo')\n",
        "train['Engine volume'] = train['Engine volume'].replace(['3.5','3','1.3','2.5','2','1.8','2.4','4','1.6','3.3','4.7','1.5','4.4','3.6','2.3','2.2','1.4','5.5','3.2','3.8','4.6','1.2','5', '1.7', '2.9', '0.5','1.9','2.7','4.8','5.3','0.4','2.8','1.1','2.1','0.7','5.4','3.7','1','2.6','5.7','3.4','4.3','4.2','5.9','6.8','4.5','0.6','7.3','0.1','6.3','6.4','5.2','5.8','0.8', '6.7', '6.2', '0', '20', '0.3', '0.2','5.6', '6', '3.9', '0.9', '6.6', '6.1', '10.8'],'Non-Turbo')\n",
        "\n",
        "\n",
        "test['Engine volume'] = test['Engine volume'].replace(['2.0 Turbo', '2.2 Turbo','3.0 Turbo','1.4 Turbo','1.5 Turbo', '1.6 Turbo','2.3 Turbo','2.8 Turbo','1.8 Turbo', '2.4 Turbo', '3.5 Turbo', '3.2 Turbo','1.3 Turbo','2.5 Turbo','1.9 Turbo', '4.4 Turbo', '4.7 Turbo', '0.2 Turbo','4.8 Turbo', '4.6 Turbo','1.2 Turbo','1.7 Turbo', '6.3 Turbo', '2.7 Turbo','2.9 Turbo', '4.0 Turbo','3.6 Turbo','3.7 Turbo','5.5 Turbo','2.1 Turbo','0.7 Turbo', '0.6 Turbo','1.0 Turbo', '4.5 Turbo', '0.8 Turbo', '4.2 Turbo', '3.1', '5.0 Turbo','5.7 Turbo','0.4 Turbo', '5.4 Turbo', '0.3 Turbo','1.1 Turbo', '6.0 Turbo', '2.6 Turbo'],'Turbo')\n",
        "test['Engine volume'] = test['Engine volume'].replace(['3.5','3','1.3','2.5','2','1.8','2.4','4','1.6','3.3','4.7','1.5','4.4','3.6','2.3','2.2','1.4','5.5','3.2','3.8','4.6','1.2','5', '1.7', '2.9', '0.5','1.9','2.7','4.8','5.3','0.4','2.8','1.1','2.1','0.7','5.4','3.7','1','2.6','5.7','3.4','4.3','4.2','5.9','6.8','4.5','0.6','7.3','0.1','6.3','6.4','5.2','5.8','0.8', '6.7', '6.2', '0', '20', '0.3', '0.2','5.6', '6', '3.9', '0.9', '6.6', '6.1', '10.8'],'Non-Turbo')"
      ],
      "execution_count": null,
      "outputs": []
    },
    {
      "cell_type": "code",
      "metadata": {
        "id": "lXgNpjwBCt8s"
      },
      "source": [
        "lb = LabelEncoder()\n",
        "\n",
        "train[\"Leather interior\"] = lb.fit_transform(train[\"Leather interior\"])\n",
        "test[\"Leather interior\"] = lb.fit_transform(test[\"Leather interior\"])\n",
        "\n",
        "train[\"Drive wheels\"] = lb.fit_transform(train[\"Drive wheels\"])\n",
        "test[\"Drive wheels\"] = lb.fit_transform(test[\"Drive wheels\"])\n",
        "\n",
        "train[\"Doors\"] = lb.fit_transform(train[\"Doors\"])\n",
        "test[\"Doors\"] = lb.fit_transform(test[\"Doors\"])\n",
        "\n",
        "train[\"Wheel\"] = lb.fit_transform(train[\"Wheel\"])\n",
        "test[\"Wheel\"] = lb.fit_transform(test[\"Wheel\"])\n",
        "\n",
        "train[\"Color\"] = lb.fit_transform(train[\"Color\"])\n",
        "test[\"Color\"] = lb.fit_transform(test[\"Color\"])\n",
        " \n",
        "train[\"Engine volume\"] = lb.fit_transform(train[\"Engine volume\"])\n",
        "test[\"Engine volume\"] = lb.fit_transform(test[\"Engine volume\"])\n",
        "\n",
        "train[\"Gear box type\"] = lb.fit_transform(train[\"Gear box type\"])\n",
        "test[\"Gear box type\"] = lb.fit_transform(test[\"Gear box type\"])\n",
        "\n",
        "train[\"Fuel type\"] = lb.fit_transform(train[\"Fuel type\"])\n",
        "test[\"Fuel type\"] = lb.fit_transform(test[\"Fuel type\"])\n",
        "\n",
        "train[\"Category\"] = lb.fit_transform(train[\"Category\"])\n",
        "test[\"Category\"] = lb.fit_transform(test[\"Category\"])\n",
        "\n",
        "train[\"Model\"] = lb.fit_transform(train[\"Model\"])\n",
        "test[\"Model\"] = lb.fit_transform(test[\"Model\"])\n",
        "\n",
        "train['Levy'] = train['Levy'].replace(\"-\", \"0\")\n",
        "test['Levy'] = test['Levy'].replace(\"-\", \"0\")\n",
        "train[\"Levy\"] = train[\"Levy\"].astype(\"str\").astype(\"int\")\n",
        "test[\"Levy\"] = test[\"Levy\"].astype(\"str\").astype(\"int\")\n",
        "\n",
        "train[\"Cylinders\"] = train[\"Cylinders\"].astype(int)\n",
        "test[\"Cylinders\"] = test[\"Cylinders\"].astype(int)\n",
        "\n",
        "train[['Mileage']] = train[['Mileage']].replace(to_replace=r'([a-z/]+|[A-Z/]+)', value='', regex=True)\n",
        "train[\"Mileage\"] = train[\"Mileage\"].astype(\"str\").astype(\"int\") \n",
        "test[['Mileage']] = test[['Mileage']].replace(to_replace=r'([a-z/]+|[A-Z/]+)', value='', regex=True)\n",
        "test[\"Mileage\"] = test[\"Mileage\"].astype(\"str\").astype(\"int\")"
      ],
      "execution_count": null,
      "outputs": []
    },
    {
      "cell_type": "code",
      "metadata": {
        "id": "Dzizw3VbEuDj"
      },
      "source": [
        "X = train.iloc[ : ,  1: ]\n",
        "Y = train.iloc[ : , : 1]"
      ],
      "execution_count": null,
      "outputs": []
    },
    {
      "cell_type": "code",
      "metadata": {
        "id": "LY_-Hgo-EyqN"
      },
      "source": [
        "X_train, X_test, Y_train, Y_test = train_test_split(X, Y, test_size = 0.2, random_state = SEED, shuffle = True)"
      ],
      "execution_count": null,
      "outputs": []
    },
    {
      "cell_type": "code",
      "metadata": {
        "colab": {
          "base_uri": "https://localhost:8080/"
        },
        "id": "PzpQ58lDE4c3",
        "outputId": "11ed7a89-7728-4ab3-b20a-9e658837bffd"
      },
      "source": [
        "regressor = RandomForestRegressor(random_state = SEED)\n",
        "regressor.fit(X_train, Y_train)\n",
        "\n",
        "predicted = regressor.predict(X_test)\n",
        "check1 = np.sqrt(mean_squared_log_error(Y_test, predicted))\n",
        "r2 = r2_score(Y_test, predicted)\n",
        "\n",
        "print(f\"The np.sqrt is : {check1}\")\n",
        "print(f\"The r2 score is : {r2}\")"
      ],
      "execution_count": null,
      "outputs": [
        {
          "output_type": "stream",
          "text": [
            "/usr/local/lib/python3.7/dist-packages/ipykernel_launcher.py:2: DataConversionWarning:\n",
            "\n",
            "A column-vector y was passed when a 1d array was expected. Please change the shape of y to (n_samples,), for example using ravel().\n",
            "\n"
          ],
          "name": "stderr"
        },
        {
          "output_type": "stream",
          "text": [
            "The np.sqrt is : 1.0621995100249675\n",
            "The r2 score is : -3.0239479017128623\n"
          ],
          "name": "stdout"
        }
      ]
    },
    {
      "cell_type": "code",
      "metadata": {
        "colab": {
          "base_uri": "https://localhost:8080/"
        },
        "id": "wwvqCakpFILK",
        "outputId": "5c710d97-b1c4-4d3c-8aff-6cc1c1f151a6"
      },
      "source": [
        "estimators = [\n",
        "              (\"xgb\", RandomForestRegressor(random_state = SEED)),\n",
        "              (\"svr\", LinearSVR(random_state = SEED)),\n",
        "              (\"rf\", xgb.XGBRegressor()),\n",
        "            \n",
        "]\n",
        "\n",
        "reg = StackingRegressor(\n",
        "    estimators = estimators, \n",
        "    final_estimator = RandomForestRegressor(random_state = SEED)\n",
        ")\n",
        "\n",
        "reg.fit(X_train, Y_train)\n",
        "predicted = reg.predict(X_test)\n",
        "\n",
        "check1 = np.sqrt(mean_squared_log_error(Y_test, predicted))\n",
        "r2 = r2_score(Y_test, predicted)\n",
        "\n",
        "print(f\"The np.sqrt is : {check1}\")\n",
        "print(f\"The r2 score is : {r2}\")"
      ],
      "execution_count": null,
      "outputs": [
        {
          "output_type": "stream",
          "text": [
            "/usr/local/lib/python3.7/dist-packages/sklearn/ensemble/_stacking.py:642: DataConversionWarning:\n",
            "\n",
            "A column-vector y was passed when a 1d array was expected. Please change the shape of y to (n_samples, ), for example using ravel().\n",
            "\n",
            "/usr/local/lib/python3.7/dist-packages/sklearn/svm/_base.py:947: ConvergenceWarning:\n",
            "\n",
            "Liblinear failed to converge, increase the number of iterations.\n",
            "\n"
          ],
          "name": "stderr"
        },
        {
          "output_type": "stream",
          "text": [
            "[16:56:29] WARNING: /workspace/src/objective/regression_obj.cu:152: reg:linear is now deprecated in favor of reg:squarederror.\n"
          ],
          "name": "stdout"
        },
        {
          "output_type": "stream",
          "text": [
            "/usr/local/lib/python3.7/dist-packages/sklearn/svm/_base.py:947: ConvergenceWarning:\n",
            "\n",
            "Liblinear failed to converge, increase the number of iterations.\n",
            "\n",
            "/usr/local/lib/python3.7/dist-packages/sklearn/svm/_base.py:947: ConvergenceWarning:\n",
            "\n",
            "Liblinear failed to converge, increase the number of iterations.\n",
            "\n",
            "/usr/local/lib/python3.7/dist-packages/sklearn/svm/_base.py:947: ConvergenceWarning:\n",
            "\n",
            "Liblinear failed to converge, increase the number of iterations.\n",
            "\n",
            "/usr/local/lib/python3.7/dist-packages/sklearn/svm/_base.py:947: ConvergenceWarning:\n",
            "\n",
            "Liblinear failed to converge, increase the number of iterations.\n",
            "\n",
            "/usr/local/lib/python3.7/dist-packages/sklearn/svm/_base.py:947: ConvergenceWarning:\n",
            "\n",
            "Liblinear failed to converge, increase the number of iterations.\n",
            "\n"
          ],
          "name": "stderr"
        },
        {
          "output_type": "stream",
          "text": [
            "[16:57:04] WARNING: /workspace/src/objective/regression_obj.cu:152: reg:linear is now deprecated in favor of reg:squarederror.\n",
            "[16:57:05] WARNING: /workspace/src/objective/regression_obj.cu:152: reg:linear is now deprecated in favor of reg:squarederror.\n",
            "[16:57:05] WARNING: /workspace/src/objective/regression_obj.cu:152: reg:linear is now deprecated in favor of reg:squarederror.\n",
            "[16:57:06] WARNING: /workspace/src/objective/regression_obj.cu:152: reg:linear is now deprecated in favor of reg:squarederror.\n",
            "[16:57:07] WARNING: /workspace/src/objective/regression_obj.cu:152: reg:linear is now deprecated in favor of reg:squarederror.\n",
            "The np.sqrt is : 1.093467524897885\n",
            "The r2 score is : -34.102103421507074\n"
          ],
          "name": "stdout"
        }
      ]
    },
    {
      "cell_type": "code",
      "metadata": {
        "colab": {
          "base_uri": "https://localhost:8080/"
        },
        "id": "omlpUyRnH_FS",
        "outputId": "3687ad86-980d-4125-b68e-10b54529f35e"
      },
      "source": [
        "sc = StandardScaler()\n",
        "\n",
        "X_train = sc.fit_transform(X_train)\n",
        "X_test = sc.fit_transform(X_test)\n",
        "\n",
        "\n",
        "estimators = [\n",
        "              (\"xgb\", RandomForestRegressor(random_state = SEED)),\n",
        "              (\"svr\", LinearSVR(random_state = SEED)),\n",
        "              (\"rf\", xgb.XGBRegressor()),\n",
        "            \n",
        "]\n",
        "\n",
        "reg = StackingRegressor(\n",
        "    estimators = estimators, \n",
        "    final_estimator = RandomForestRegressor(random_state = SEED)\n",
        ")\n",
        "\n",
        "reg.fit(X_train, Y_train)\n",
        "predicted = reg.predict(X_test)\n",
        "\n",
        "\n",
        "check1 = np.sqrt(mean_squared_log_error(Y_test, predicted))\n",
        "r2 = r2_score(Y_test, predicted)\n",
        "\n",
        "print(f\"The np.sqrt is : {check1}\")\n",
        "print(f\"The r2 score is : {r2}\")"
      ],
      "execution_count": null,
      "outputs": [
        {
          "output_type": "stream",
          "text": [
            "/usr/local/lib/python3.7/dist-packages/sklearn/ensemble/_stacking.py:642: DataConversionWarning:\n",
            "\n",
            "A column-vector y was passed when a 1d array was expected. Please change the shape of y to (n_samples, ), for example using ravel().\n",
            "\n"
          ],
          "name": "stderr"
        },
        {
          "output_type": "stream",
          "text": [
            "[16:57:20] WARNING: /workspace/src/objective/regression_obj.cu:152: reg:linear is now deprecated in favor of reg:squarederror.\n",
            "[16:57:48] WARNING: /workspace/src/objective/regression_obj.cu:152: reg:linear is now deprecated in favor of reg:squarederror.\n",
            "[16:57:49] WARNING: /workspace/src/objective/regression_obj.cu:152: reg:linear is now deprecated in favor of reg:squarederror.\n",
            "[16:57:50] WARNING: /workspace/src/objective/regression_obj.cu:152: reg:linear is now deprecated in favor of reg:squarederror.\n",
            "[16:57:51] WARNING: /workspace/src/objective/regression_obj.cu:152: reg:linear is now deprecated in favor of reg:squarederror.\n",
            "[16:57:51] WARNING: /workspace/src/objective/regression_obj.cu:152: reg:linear is now deprecated in favor of reg:squarederror.\n",
            "The np.sqrt is : 1.2857713143423204\n",
            "The r2 score is : -116.2448386971482\n"
          ],
          "name": "stdout"
        }
      ]
    },
    {
      "cell_type": "code",
      "metadata": {
        "id": "_6Fx83X4qpiW"
      },
      "source": [
        "train.drop([\"Mileage\"], axis = 1, inplace = True)"
      ],
      "execution_count": null,
      "outputs": []
    },
    {
      "cell_type": "code",
      "metadata": {
        "colab": {
          "base_uri": "https://localhost:8080/"
        },
        "id": "NW4u0BSKrPGv",
        "outputId": "23ed9aec-8b97-44e6-d1cd-3986eb7a020c"
      },
      "source": [
        "X = train.iloc[ : ,  1: ]\n",
        "Y = train.iloc[ : , : 1]\n",
        "\n",
        "X_train, X_test, Y_train, Y_test = train_test_split(X, Y, test_size = 0.2, random_state = SEED, shuffle = True)\n",
        "\n",
        "sc = StandardScaler()\n",
        "\n",
        "X_train = sc.fit_transform(X_train)\n",
        "X_test = sc.fit_transform(X_test)\n",
        "\n",
        "\n",
        "estimators = [\n",
        "              (\"xgb\", RandomForestRegressor(random_state = SEED)),\n",
        "              (\"svr\", LinearSVR(random_state = SEED)),\n",
        "              (\"rf\", xgb.XGBRegressor()),\n",
        "            \n",
        "]\n",
        "\n",
        "reg = StackingRegressor(\n",
        "    estimators = estimators, \n",
        "    final_estimator = RandomForestRegressor(random_state = SEED)\n",
        ")\n",
        "\n",
        "reg.fit(X_train, Y_train)\n",
        "predicted = reg.predict(X_test)\n",
        "\n",
        "\n",
        "check1 = np.sqrt(mean_squared_log_error(Y_test, predicted))\n",
        "r2 = r2_score(Y_test, predicted)\n",
        "\n",
        "print(f\"The np.sqrt is : {check1}\")\n",
        "print(f\"The r2 score is : {r2}\")"
      ],
      "execution_count": null,
      "outputs": [
        {
          "output_type": "stream",
          "text": [
            "/usr/local/lib/python3.7/dist-packages/sklearn/ensemble/_stacking.py:642: DataConversionWarning:\n",
            "\n",
            "A column-vector y was passed when a 1d array was expected. Please change the shape of y to (n_samples, ), for example using ravel().\n",
            "\n"
          ],
          "name": "stderr"
        },
        {
          "output_type": "stream",
          "text": [
            "[16:58:03] WARNING: /workspace/src/objective/regression_obj.cu:152: reg:linear is now deprecated in favor of reg:squarederror.\n",
            "[16:58:24] WARNING: /workspace/src/objective/regression_obj.cu:152: reg:linear is now deprecated in favor of reg:squarederror.\n",
            "[16:58:25] WARNING: /workspace/src/objective/regression_obj.cu:152: reg:linear is now deprecated in favor of reg:squarederror.\n",
            "[16:58:25] WARNING: /workspace/src/objective/regression_obj.cu:152: reg:linear is now deprecated in favor of reg:squarederror.\n",
            "[16:58:26] WARNING: /workspace/src/objective/regression_obj.cu:152: reg:linear is now deprecated in favor of reg:squarederror.\n",
            "[16:58:27] WARNING: /workspace/src/objective/regression_obj.cu:152: reg:linear is now deprecated in favor of reg:squarederror.\n",
            "The np.sqrt is : 1.2424651076024316\n",
            "The r2 score is : 0.5729589446857358\n"
          ],
          "name": "stdout"
        }
      ]
    },
    {
      "cell_type": "code",
      "metadata": {
        "colab": {
          "base_uri": "https://localhost:8080/"
        },
        "id": "KOKag1Cqr6gU",
        "outputId": "c6e5e952-c193-4aee-94c0-2076fbd270f2"
      },
      "source": [
        "train.drop([\"Drive wheels\"], axis = 1, inplace = True)\n",
        "\n",
        "X = train.iloc[ : ,  1: ]\n",
        "Y = train.iloc[ : , : 1]\n",
        "\n",
        "X_train, X_test, Y_train, Y_test = train_test_split(X, Y, test_size = 0.2, random_state = SEED, shuffle = True)\n",
        "\n",
        "sc = StandardScaler()\n",
        "\n",
        "X_train = sc.fit_transform(X_train)\n",
        "X_test = sc.fit_transform(X_test)\n",
        "\n",
        "\n",
        "estimators = [\n",
        "              (\"xgb\", RandomForestRegressor(random_state = SEED)),\n",
        "              (\"svr\", LinearSVR(random_state = SEED)),\n",
        "              (\"rf\", xgb.XGBRegressor()),\n",
        "            \n",
        "]\n",
        "\n",
        "reg = StackingRegressor(\n",
        "    estimators = estimators, \n",
        "    final_estimator = RandomForestRegressor(random_state = SEED)\n",
        ")\n",
        "\n",
        "reg.fit(X_train, Y_train)\n",
        "predicted = reg.predict(X_test)\n",
        "\n",
        "\n",
        "check1 = np.sqrt(mean_squared_log_error(Y_test, predicted))\n",
        "r2 = r2_score(Y_test, predicted)\n",
        "\n",
        "print(f\"The np.sqrt is : {check1}\")\n",
        "print(f\"The r2 score is : {r2}\")\n"
      ],
      "execution_count": null,
      "outputs": [
        {
          "output_type": "stream",
          "text": [
            "/usr/local/lib/python3.7/dist-packages/sklearn/ensemble/_stacking.py:642: DataConversionWarning:\n",
            "\n",
            "A column-vector y was passed when a 1d array was expected. Please change the shape of y to (n_samples, ), for example using ravel().\n",
            "\n"
          ],
          "name": "stderr"
        },
        {
          "output_type": "stream",
          "text": [
            "[16:58:38] WARNING: /workspace/src/objective/regression_obj.cu:152: reg:linear is now deprecated in favor of reg:squarederror.\n",
            "[16:58:58] WARNING: /workspace/src/objective/regression_obj.cu:152: reg:linear is now deprecated in favor of reg:squarederror.\n",
            "[16:58:59] WARNING: /workspace/src/objective/regression_obj.cu:152: reg:linear is now deprecated in favor of reg:squarederror.\n",
            "[16:58:59] WARNING: /workspace/src/objective/regression_obj.cu:152: reg:linear is now deprecated in favor of reg:squarederror.\n",
            "[16:59:00] WARNING: /workspace/src/objective/regression_obj.cu:152: reg:linear is now deprecated in favor of reg:squarederror.\n",
            "[16:59:01] WARNING: /workspace/src/objective/regression_obj.cu:152: reg:linear is now deprecated in favor of reg:squarederror.\n",
            "The np.sqrt is : 1.257905755990164\n",
            "The r2 score is : 0.37276649277627183\n"
          ],
          "name": "stdout"
        }
      ]
    },
    {
      "cell_type": "code",
      "metadata": {
        "colab": {
          "base_uri": "https://localhost:8080/"
        },
        "id": "eA9L8XJLsTo2",
        "outputId": "2f78af25-7d1c-49d0-b133-3d2d9434e846"
      },
      "source": [
        "train = pd.read_csv(\"train.csv\")\n",
        "test = pd.read_csv(\"test.csv\")\n",
        "\n",
        "train.drop([\"ID\"], axis = 1, inplace = True)\n",
        "test.drop([\"ID\"], axis = 1, inplace = True)\n",
        "\n",
        "train['Engine volume'] = train['Engine volume'].replace(['2.0 Turbo', '2.2 Turbo','3.0 Turbo','1.4 Turbo','1.5 Turbo', '1.6 Turbo','2.3 Turbo','2.8 Turbo','1.8 Turbo', '2.4 Turbo', '3.5 Turbo', '3.2 Turbo','1.3 Turbo','2.5 Turbo','1.9 Turbo', '4.4 Turbo', '4.7 Turbo', '0.2 Turbo','4.8 Turbo', '4.6 Turbo','1.2 Turbo','1.7 Turbo', '6.3 Turbo', '2.7 Turbo','2.9 Turbo', '4.0 Turbo','3.6 Turbo','3.7 Turbo','5.5 Turbo','2.1 Turbo','0.7 Turbo', '0.6 Turbo','1.0 Turbo', '4.5 Turbo', '0.8 Turbo', '4.2 Turbo', '3.1', '5.0 Turbo','5.7 Turbo','0.4 Turbo', '5.4 Turbo', '0.3 Turbo','1.1 Turbo', '6.0 Turbo', '2.6 Turbo'],'Turbo')\n",
        "train['Engine volume'] = train['Engine volume'].replace(['3.5','3','1.3','2.5','2','1.8','2.4','4','1.6','3.3','4.7','1.5','4.4','3.6','2.3','2.2','1.4','5.5','3.2','3.8','4.6','1.2','5', '1.7', '2.9', '0.5','1.9','2.7','4.8','5.3','0.4','2.8','1.1','2.1','0.7','5.4','3.7','1','2.6','5.7','3.4','4.3','4.2','5.9','6.8','4.5','0.6','7.3','0.1','6.3','6.4','5.2','5.8','0.8', '6.7', '6.2', '0', '20', '0.3', '0.2','5.6', '6', '3.9', '0.9', '6.6', '6.1', '10.8'],'Non-Turbo')\n",
        "\n",
        "test['Engine volume'] = test['Engine volume'].replace(['2.0 Turbo', '2.2 Turbo','3.0 Turbo','1.4 Turbo','1.5 Turbo', '1.6 Turbo','2.3 Turbo','2.8 Turbo','1.8 Turbo', '2.4 Turbo', '3.5 Turbo', '3.2 Turbo','1.3 Turbo','2.5 Turbo','1.9 Turbo', '4.4 Turbo', '4.7 Turbo', '0.2 Turbo','4.8 Turbo', '4.6 Turbo','1.2 Turbo','1.7 Turbo', '6.3 Turbo', '2.7 Turbo','2.9 Turbo', '4.0 Turbo','3.6 Turbo','3.7 Turbo','5.5 Turbo','2.1 Turbo','0.7 Turbo', '0.6 Turbo','1.0 Turbo', '4.5 Turbo', '0.8 Turbo', '4.2 Turbo', '3.1', '5.0 Turbo','5.7 Turbo','0.4 Turbo', '5.4 Turbo', '0.3 Turbo','1.1 Turbo', '6.0 Turbo', '2.6 Turbo'],'Turbo')\n",
        "test['Engine volume'] = test['Engine volume'].replace(['3.5','3','1.3','2.5','2','1.8','2.4','4','1.6','3.3','4.7','1.5','4.4','3.6','2.3','2.2','1.4','5.5','3.2','3.8','4.6','1.2','5', '1.7', '2.9', '0.5','1.9','2.7','4.8','5.3','0.4','2.8','1.1','2.1','0.7','5.4','3.7','1','2.6','5.7','3.4','4.3','4.2','5.9','6.8','4.5','0.6','7.3','0.1','6.3','6.4','5.2','5.8','0.8', '6.7', '6.2', '0', '20', '0.3', '0.2','5.6', '6', '3.9', '0.9', '6.6', '6.1', '10.8'],'Non-Turbo')\n",
        "\n",
        "lb = LabelEncoder()\n",
        "\n",
        "train[\"Manufacturer\"] = lb.fit_transform(train[\"Manufacturer\"])\n",
        "test[\"Manufacturer\"] = lb.fit_transform(test[\"Manufacturer\"])\n",
        "\n",
        "train[\"Leather interior\"] = lb.fit_transform(train[\"Leather interior\"])\n",
        "test[\"Leather interior\"] = lb.fit_transform(test[\"Leather interior\"])\n",
        "\n",
        "train[\"Drive wheels\"] = lb.fit_transform(train[\"Drive wheels\"])\n",
        "test[\"Drive wheels\"] = lb.fit_transform(test[\"Drive wheels\"])\n",
        "\n",
        "train[\"Doors\"] = lb.fit_transform(train[\"Doors\"])\n",
        "test[\"Doors\"] = lb.fit_transform(test[\"Doors\"])\n",
        "\n",
        "train[\"Wheel\"] = lb.fit_transform(train[\"Wheel\"])\n",
        "test[\"Wheel\"] = lb.fit_transform(test[\"Wheel\"])\n",
        "\n",
        "train[\"Color\"] = lb.fit_transform(train[\"Color\"])\n",
        "test[\"Color\"] = lb.fit_transform(test[\"Color\"])\n",
        " \n",
        "train[\"Engine volume\"] = lb.fit_transform(train[\"Engine volume\"])\n",
        "test[\"Engine volume\"] = lb.fit_transform(test[\"Engine volume\"])\n",
        "\n",
        "train[\"Gear box type\"] = lb.fit_transform(train[\"Gear box type\"])\n",
        "test[\"Gear box type\"] = lb.fit_transform(test[\"Gear box type\"])\n",
        "\n",
        "train[\"Fuel type\"] = lb.fit_transform(train[\"Fuel type\"])\n",
        "test[\"Fuel type\"] = lb.fit_transform(test[\"Fuel type\"])\n",
        "\n",
        "train[\"Category\"] = lb.fit_transform(train[\"Category\"])\n",
        "test[\"Category\"] = lb.fit_transform(test[\"Category\"])\n",
        "\n",
        "train[\"Model\"] = lb.fit_transform(train[\"Model\"])\n",
        "test[\"Model\"] = lb.fit_transform(test[\"Model\"])\n",
        "\n",
        "train['Levy'] = train['Levy'].replace(\"-\", \"0\")\n",
        "test['Levy'] = test['Levy'].replace(\"-\", \"0\")\n",
        "train[\"Levy\"] = train[\"Levy\"].astype(\"str\").astype(\"int\")\n",
        "test[\"Levy\"] = test[\"Levy\"].astype(\"str\").astype(\"int\")\n",
        "\n",
        "train[\"Cylinders\"] = train[\"Cylinders\"].astype(int)\n",
        "test[\"Cylinders\"] = test[\"Cylinders\"].astype(int)\n",
        "\n",
        "train[['Mileage']] = train[['Mileage']].replace(to_replace=r'([a-z/]+|[A-Z/]+)', value='', regex=True)\n",
        "train[\"Mileage\"] = train[\"Mileage\"].astype(\"str\").astype(\"int\") \n",
        "test[['Mileage']] = test[['Mileage']].replace(to_replace=r'([a-z/]+|[A-Z/]+)', value='', regex=True)\n",
        "test[\"Mileage\"] = test[\"Mileage\"].astype(\"str\").astype(\"int\")\n",
        "\n",
        "X = train.iloc[ : ,  1: ]\n",
        "Y = train.iloc[ : , : 1]\n",
        "\n",
        "X_train, X_test, Y_train, Y_test = train_test_split(X, Y, test_size = 0.2, random_state = SEED, shuffle = True)\n",
        "\n",
        "sc = StandardScaler()\n",
        "\n",
        "X_train = sc.fit_transform(X_train)\n",
        "X_test = sc.fit_transform(X_test)\n",
        "\n",
        "\n",
        "estimators = [\n",
        "              (\"xgb\", RandomForestRegressor(random_state = SEED)),\n",
        "              (\"svr\", LinearSVR(random_state = SEED)),\n",
        "              (\"rf\", xgb.XGBRegressor()),\n",
        "            \n",
        "]\n",
        "\n",
        "reg = StackingRegressor(\n",
        "    estimators = estimators, \n",
        "    final_estimator = RandomForestRegressor(random_state = SEED)\n",
        ")\n",
        "\n",
        "reg.fit(X_train, Y_train)\n",
        "predicted = reg.predict(X_test)\n",
        "\n",
        "check1 = np.sqrt(mean_squared_log_error(Y_test, predicted))\n",
        "r2 = r2_score(Y_test, predicted)\n",
        "\n",
        "print(f\"The np.sqrt is : {check1}\")\n",
        "print(f\"The r2 score is : {r2}\")"
      ],
      "execution_count": null,
      "outputs": [
        {
          "output_type": "stream",
          "text": [
            "/usr/local/lib/python3.7/dist-packages/sklearn/ensemble/_stacking.py:642: DataConversionWarning:\n",
            "\n",
            "A column-vector y was passed when a 1d array was expected. Please change the shape of y to (n_samples, ), for example using ravel().\n",
            "\n"
          ],
          "name": "stderr"
        },
        {
          "output_type": "stream",
          "text": [
            "[16:59:15] WARNING: /workspace/src/objective/regression_obj.cu:152: reg:linear is now deprecated in favor of reg:squarederror.\n",
            "[16:59:45] WARNING: /workspace/src/objective/regression_obj.cu:152: reg:linear is now deprecated in favor of reg:squarederror.\n",
            "[16:59:46] WARNING: /workspace/src/objective/regression_obj.cu:152: reg:linear is now deprecated in favor of reg:squarederror.\n",
            "[16:59:47] WARNING: /workspace/src/objective/regression_obj.cu:152: reg:linear is now deprecated in favor of reg:squarederror.\n",
            "[16:59:47] WARNING: /workspace/src/objective/regression_obj.cu:152: reg:linear is now deprecated in favor of reg:squarederror.\n",
            "[16:59:48] WARNING: /workspace/src/objective/regression_obj.cu:152: reg:linear is now deprecated in favor of reg:squarederror.\n",
            "The np.sqrt is : 1.2448956093533732\n",
            "The r2 score is : -121.24987398042214\n"
          ],
          "name": "stdout"
        }
      ]
    },
    {
      "cell_type": "code",
      "metadata": {
        "colab": {
          "base_uri": "https://localhost:8080/"
        },
        "id": "C-ezLtJMtX_o",
        "outputId": "325a4163-b7b1-4fc5-f0a0-dfb5c031f260"
      },
      "source": [
        "train = pd.read_csv(\"train.csv\")\n",
        "test = pd.read_csv(\"test.csv\")\n",
        "\n",
        "train.drop([\"ID\", \"Mileage\", \"Manufacturer\"], axis = 1, inplace = True)\n",
        "test.drop([\"ID\", \"Mileage\", \"Manufacturer\"], axis = 1, inplace = True)\n",
        "\n",
        "train['Engine volume'] = train['Engine volume'].replace(['2.0 Turbo', '2.2 Turbo','3.0 Turbo','1.4 Turbo','1.5 Turbo', '1.6 Turbo','2.3 Turbo','2.8 Turbo','1.8 Turbo', '2.4 Turbo', '3.5 Turbo', '3.2 Turbo','1.3 Turbo','2.5 Turbo','1.9 Turbo', '4.4 Turbo', '4.7 Turbo', '0.2 Turbo','4.8 Turbo', '4.6 Turbo','1.2 Turbo','1.7 Turbo', '6.3 Turbo', '2.7 Turbo','2.9 Turbo', '4.0 Turbo','3.6 Turbo','3.7 Turbo','5.5 Turbo','2.1 Turbo','0.7 Turbo', '0.6 Turbo','1.0 Turbo', '4.5 Turbo', '0.8 Turbo', '4.2 Turbo', '3.1', '5.0 Turbo','5.7 Turbo','0.4 Turbo', '5.4 Turbo', '0.3 Turbo','1.1 Turbo', '6.0 Turbo', '2.6 Turbo'],'Turbo')\n",
        "train['Engine volume'] = train['Engine volume'].replace(['3.5','3','1.3','2.5','2','1.8','2.4','4','1.6','3.3','4.7','1.5','4.4','3.6','2.3','2.2','1.4','5.5','3.2','3.8','4.6','1.2','5', '1.7', '2.9', '0.5','1.9','2.7','4.8','5.3','0.4','2.8','1.1','2.1','0.7','5.4','3.7','1','2.6','5.7','3.4','4.3','4.2','5.9','6.8','4.5','0.6','7.3','0.1','6.3','6.4','5.2','5.8','0.8', '6.7', '6.2', '0', '20', '0.3', '0.2','5.6', '6', '3.9', '0.9', '6.6', '6.1', '10.8'],'Non-Turbo')\n",
        "\n",
        "test['Engine volume'] = test['Engine volume'].replace(['2.0 Turbo', '2.2 Turbo','3.0 Turbo','1.4 Turbo','1.5 Turbo', '1.6 Turbo','2.3 Turbo','2.8 Turbo','1.8 Turbo', '2.4 Turbo', '3.5 Turbo', '3.2 Turbo','1.3 Turbo','2.5 Turbo','1.9 Turbo', '4.4 Turbo', '4.7 Turbo', '0.2 Turbo','4.8 Turbo', '4.6 Turbo','1.2 Turbo','1.7 Turbo', '6.3 Turbo', '2.7 Turbo','2.9 Turbo', '4.0 Turbo','3.6 Turbo','3.7 Turbo','5.5 Turbo','2.1 Turbo','0.7 Turbo', '0.6 Turbo','1.0 Turbo', '4.5 Turbo', '0.8 Turbo', '4.2 Turbo', '3.1', '5.0 Turbo','5.7 Turbo','0.4 Turbo', '5.4 Turbo', '0.3 Turbo','1.1 Turbo', '6.0 Turbo', '2.6 Turbo'],'Turbo')\n",
        "test['Engine volume'] = test['Engine volume'].replace(['3.5','3','1.3','2.5','2','1.8','2.4','4','1.6','3.3','4.7','1.5','4.4','3.6','2.3','2.2','1.4','5.5','3.2','3.8','4.6','1.2','5', '1.7', '2.9', '0.5','1.9','2.7','4.8','5.3','0.4','2.8','1.1','2.1','0.7','5.4','3.7','1','2.6','5.7','3.4','4.3','4.2','5.9','6.8','4.5','0.6','7.3','0.1','6.3','6.4','5.2','5.8','0.8', '6.7', '6.2', '0', '20', '0.3', '0.2','5.6', '6', '3.9', '0.9', '6.6', '6.1', '10.8'],'Non-Turbo')\n",
        "\n",
        "lb = LabelEncoder()\n",
        "\n",
        "#train[\"Manufacturer\"] = lb.fit_transform(train[\"Manufacturer\"])\n",
        "#test[\"Manufacturer\"] = lb.fit_transform(test[\"Manufacturer\"])\n",
        "\n",
        "train[\"Leather interior\"] = lb.fit_transform(train[\"Leather interior\"])\n",
        "test[\"Leather interior\"] = lb.fit_transform(test[\"Leather interior\"])\n",
        "\n",
        "train[\"Drive wheels\"] = lb.fit_transform(train[\"Drive wheels\"])\n",
        "test[\"Drive wheels\"] = lb.fit_transform(test[\"Drive wheels\"])\n",
        "\n",
        "train[\"Doors\"] = lb.fit_transform(train[\"Doors\"])\n",
        "test[\"Doors\"] = lb.fit_transform(test[\"Doors\"])\n",
        "\n",
        "train[\"Wheel\"] = lb.fit_transform(train[\"Wheel\"])\n",
        "test[\"Wheel\"] = lb.fit_transform(test[\"Wheel\"])\n",
        "\n",
        "train[\"Color\"] = lb.fit_transform(train[\"Color\"])\n",
        "test[\"Color\"] = lb.fit_transform(test[\"Color\"])\n",
        " \n",
        "train[\"Engine volume\"] = lb.fit_transform(train[\"Engine volume\"])\n",
        "test[\"Engine volume\"] = lb.fit_transform(test[\"Engine volume\"])\n",
        "\n",
        "train[\"Gear box type\"] = lb.fit_transform(train[\"Gear box type\"])\n",
        "test[\"Gear box type\"] = lb.fit_transform(test[\"Gear box type\"])\n",
        "\n",
        "train[\"Fuel type\"] = lb.fit_transform(train[\"Fuel type\"])\n",
        "test[\"Fuel type\"] = lb.fit_transform(test[\"Fuel type\"])\n",
        "\n",
        "train[\"Category\"] = lb.fit_transform(train[\"Category\"])\n",
        "test[\"Category\"] = lb.fit_transform(test[\"Category\"])\n",
        "\n",
        "train[\"Model\"] = lb.fit_transform(train[\"Model\"])\n",
        "test[\"Model\"] = lb.fit_transform(test[\"Model\"])\n",
        "\n",
        "train['Levy'] = train['Levy'].replace(\"-\", \"0\")\n",
        "test['Levy'] = test['Levy'].replace(\"-\", \"0\")\n",
        "train[\"Levy\"] = train[\"Levy\"].astype(\"str\").astype(\"int\")\n",
        "test[\"Levy\"] = test[\"Levy\"].astype(\"str\").astype(\"int\")\n",
        "\n",
        "train[\"Cylinders\"] = train[\"Cylinders\"].astype(int)\n",
        "test[\"Cylinders\"] = test[\"Cylinders\"].astype(int)\n",
        "\n",
        "#train[['Mileage']] = train[['Mileage']].replace(to_replace=r'([a-z/]+|[A-Z/]+)', value='', regex=True)\n",
        "#train[\"Mileage\"] = train[\"Mileage\"].astype(\"str\").astype(\"int\") \n",
        "#test[['Mileage']] = test[['Mileage']].replace(to_replace=r'([a-z/]+|[A-Z/]+)', value='', regex=True)\n",
        "#test[\"Mileage\"] = test[\"Mileage\"].astype(\"str\").astype(\"int\")\n",
        "\n",
        "X = train.iloc[ : ,  1: ]\n",
        "Y = train.iloc[ : , : 1]\n",
        "\n",
        "X_train, X_test, Y_train, Y_test = train_test_split(X, Y, test_size = 0.2, random_state = SEED, shuffle = True)\n",
        "\n",
        "sc = StandardScaler()\n",
        "\n",
        "X_train = sc.fit_transform(X_train)\n",
        "X_test = sc.fit_transform(X_test)\n",
        "\n",
        "\n",
        "estimators = [\n",
        "              (\"xgb\", RandomForestRegressor(random_state = SEED)),\n",
        "              (\"svr\", LinearSVR(random_state = SEED)),\n",
        "              (\"rf\", xgb.XGBRegressor()),\n",
        "            \n",
        "]\n",
        "\n",
        "reg = StackingRegressor(\n",
        "    estimators = estimators, \n",
        "    final_estimator = RandomForestRegressor(random_state = SEED)\n",
        ")\n",
        "\n",
        "reg.fit(X_train, Y_train)\n",
        "predicted = reg.predict(X_test)\n",
        "\n",
        "\n",
        "check1 = np.sqrt(mean_squared_log_error(Y_test, predicted))\n",
        "r2 = r2_score(Y_test, predicted)\n",
        "\n",
        "print(f\"The np.sqrt is : {check1}\")\n",
        "print(f\"The r2 score is : {r2}\")"
      ],
      "execution_count": null,
      "outputs": [
        {
          "output_type": "stream",
          "text": [
            "/usr/local/lib/python3.7/dist-packages/sklearn/ensemble/_stacking.py:642: DataConversionWarning:\n",
            "\n",
            "A column-vector y was passed when a 1d array was expected. Please change the shape of y to (n_samples, ), for example using ravel().\n",
            "\n"
          ],
          "name": "stderr"
        },
        {
          "output_type": "stream",
          "text": [
            "[17:00:01] WARNING: /workspace/src/objective/regression_obj.cu:152: reg:linear is now deprecated in favor of reg:squarederror.\n",
            "[17:00:22] WARNING: /workspace/src/objective/regression_obj.cu:152: reg:linear is now deprecated in favor of reg:squarederror.\n",
            "[17:00:23] WARNING: /workspace/src/objective/regression_obj.cu:152: reg:linear is now deprecated in favor of reg:squarederror.\n",
            "[17:00:23] WARNING: /workspace/src/objective/regression_obj.cu:152: reg:linear is now deprecated in favor of reg:squarederror.\n",
            "[17:00:24] WARNING: /workspace/src/objective/regression_obj.cu:152: reg:linear is now deprecated in favor of reg:squarederror.\n",
            "[17:00:25] WARNING: /workspace/src/objective/regression_obj.cu:152: reg:linear is now deprecated in favor of reg:squarederror.\n",
            "The np.sqrt is : 1.1852814243298577\n",
            "The r2 score is : 0.3456353566543279\n"
          ],
          "name": "stdout"
        }
      ]
    },
    {
      "cell_type": "code",
      "metadata": {
        "colab": {
          "base_uri": "https://localhost:8080/"
        },
        "id": "cXoOt9e1t9R7",
        "outputId": "70ea2293-a118-4b6d-df58-7c9b33b3b8df"
      },
      "source": [
        "train = pd.read_csv(\"train.csv\")\n",
        "test = pd.read_csv(\"test.csv\")\n",
        "\n",
        "train.drop([\"ID\", \"Mileage\", \"Manufacturer\", \"Cylinders\", \"Gear box type\"], axis = 1, inplace = True)\n",
        "test.drop([\"ID\", \"Mileage\", \"Manufacturer\", \"Cylinders\", \"Gear box type\"], axis = 1, inplace = True)\n",
        "\n",
        "train['Engine volume'] = train['Engine volume'].replace(['2.0 Turbo', '2.2 Turbo','3.0 Turbo','1.4 Turbo','1.5 Turbo', '1.6 Turbo','2.3 Turbo','2.8 Turbo','1.8 Turbo', '2.4 Turbo', '3.5 Turbo', '3.2 Turbo','1.3 Turbo','2.5 Turbo','1.9 Turbo', '4.4 Turbo', '4.7 Turbo', '0.2 Turbo','4.8 Turbo', '4.6 Turbo','1.2 Turbo','1.7 Turbo', '6.3 Turbo', '2.7 Turbo','2.9 Turbo', '4.0 Turbo','3.6 Turbo','3.7 Turbo','5.5 Turbo','2.1 Turbo','0.7 Turbo', '0.6 Turbo','1.0 Turbo', '4.5 Turbo', '0.8 Turbo', '4.2 Turbo', '3.1', '5.0 Turbo','5.7 Turbo','0.4 Turbo', '5.4 Turbo', '0.3 Turbo','1.1 Turbo', '6.0 Turbo', '2.6 Turbo'],'Turbo')\n",
        "train['Engine volume'] = train['Engine volume'].replace(['3.5','3','1.3','2.5','2','1.8','2.4','4','1.6','3.3','4.7','1.5','4.4','3.6','2.3','2.2','1.4','5.5','3.2','3.8','4.6','1.2','5', '1.7', '2.9', '0.5','1.9','2.7','4.8','5.3','0.4','2.8','1.1','2.1','0.7','5.4','3.7','1','2.6','5.7','3.4','4.3','4.2','5.9','6.8','4.5','0.6','7.3','0.1','6.3','6.4','5.2','5.8','0.8', '6.7', '6.2', '0', '20', '0.3', '0.2','5.6', '6', '3.9', '0.9', '6.6', '6.1', '10.8'],'Non-Turbo')\n",
        "\n",
        "test['Engine volume'] = test['Engine volume'].replace(['2.0 Turbo', '2.2 Turbo','3.0 Turbo','1.4 Turbo','1.5 Turbo', '1.6 Turbo','2.3 Turbo','2.8 Turbo','1.8 Turbo', '2.4 Turbo', '3.5 Turbo', '3.2 Turbo','1.3 Turbo','2.5 Turbo','1.9 Turbo', '4.4 Turbo', '4.7 Turbo', '0.2 Turbo','4.8 Turbo', '4.6 Turbo','1.2 Turbo','1.7 Turbo', '6.3 Turbo', '2.7 Turbo','2.9 Turbo', '4.0 Turbo','3.6 Turbo','3.7 Turbo','5.5 Turbo','2.1 Turbo','0.7 Turbo', '0.6 Turbo','1.0 Turbo', '4.5 Turbo', '0.8 Turbo', '4.2 Turbo', '3.1', '5.0 Turbo','5.7 Turbo','0.4 Turbo', '5.4 Turbo', '0.3 Turbo','1.1 Turbo', '6.0 Turbo', '2.6 Turbo'],'Turbo')\n",
        "test['Engine volume'] = test['Engine volume'].replace(['3.5','3','1.3','2.5','2','1.8','2.4','4','1.6','3.3','4.7','1.5','4.4','3.6','2.3','2.2','1.4','5.5','3.2','3.8','4.6','1.2','5', '1.7', '2.9', '0.5','1.9','2.7','4.8','5.3','0.4','2.8','1.1','2.1','0.7','5.4','3.7','1','2.6','5.7','3.4','4.3','4.2','5.9','6.8','4.5','0.6','7.3','0.1','6.3','6.4','5.2','5.8','0.8', '6.7', '6.2', '0', '20', '0.3', '0.2','5.6', '6', '3.9', '0.9', '6.6', '6.1', '10.8'],'Non-Turbo')\n",
        "\n",
        "lb = LabelEncoder()\n",
        "\n",
        "#train[\"Manufacturer\"] = lb.fit_transform(train[\"Manufacturer\"])\n",
        "#test[\"Manufacturer\"] = lb.fit_transform(test[\"Manufacturer\"])\n",
        "\n",
        "train[\"Leather interior\"] = lb.fit_transform(train[\"Leather interior\"])\n",
        "test[\"Leather interior\"] = lb.fit_transform(test[\"Leather interior\"])\n",
        "\n",
        "train[\"Drive wheels\"] = lb.fit_transform(train[\"Drive wheels\"])\n",
        "test[\"Drive wheels\"] = lb.fit_transform(test[\"Drive wheels\"])\n",
        "\n",
        "train[\"Doors\"] = lb.fit_transform(train[\"Doors\"])\n",
        "test[\"Doors\"] = lb.fit_transform(test[\"Doors\"])\n",
        "\n",
        "train[\"Wheel\"] = lb.fit_transform(train[\"Wheel\"])\n",
        "test[\"Wheel\"] = lb.fit_transform(test[\"Wheel\"])\n",
        "\n",
        "train[\"Color\"] = lb.fit_transform(train[\"Color\"])\n",
        "test[\"Color\"] = lb.fit_transform(test[\"Color\"])\n",
        " \n",
        "train[\"Engine volume\"] = lb.fit_transform(train[\"Engine volume\"])\n",
        "test[\"Engine volume\"] = lb.fit_transform(test[\"Engine volume\"])\n",
        "\n",
        "#train[\"Gear box type\"] = lb.fit_transform(train[\"Gear box type\"])\n",
        "#test[\"Gear box type\"] = lb.fit_transform(test[\"Gear box type\"])\n",
        "\n",
        "train[\"Fuel type\"] = lb.fit_transform(train[\"Fuel type\"])\n",
        "test[\"Fuel type\"] = lb.fit_transform(test[\"Fuel type\"])\n",
        "\n",
        "train[\"Category\"] = lb.fit_transform(train[\"Category\"])\n",
        "test[\"Category\"] = lb.fit_transform(test[\"Category\"])\n",
        "\n",
        "train[\"Model\"] = lb.fit_transform(train[\"Model\"])\n",
        "test[\"Model\"] = lb.fit_transform(test[\"Model\"])\n",
        "\n",
        "train['Levy'] = train['Levy'].replace(\"-\", \"0\")\n",
        "test['Levy'] = test['Levy'].replace(\"-\", \"0\")\n",
        "train[\"Levy\"] = train[\"Levy\"].astype(\"str\").astype(\"int\")\n",
        "test[\"Levy\"] = test[\"Levy\"].astype(\"str\").astype(\"int\")\n",
        "\n",
        "#train[\"Cylinders\"] = train[\"Cylinders\"].astype(int)\n",
        "#test[\"Cylinders\"] = test[\"Cylinders\"].astype(int)\n",
        "\n",
        "#train[['Mileage']] = train[['Mileage']].replace(to_replace=r'([a-z/]+|[A-Z/]+)', value='', regex=True)\n",
        "#train[\"Mileage\"] = train[\"Mileage\"].astype(\"str\").astype(\"int\") \n",
        "#test[['Mileage']] = test[['Mileage']].replace(to_replace=r'([a-z/]+|[A-Z/]+)', value='', regex=True)\n",
        "#test[\"Mileage\"] = test[\"Mileage\"].astype(\"str\").astype(\"int\")\n",
        "\n",
        "X = train.iloc[ : ,  1: ]\n",
        "Y = train.iloc[ : , : 1]\n",
        "\n",
        "X_train, X_test, Y_train, Y_test = train_test_split(X, Y, test_size = 0.2, random_state = SEED, shuffle = True)\n",
        "\n",
        "sc = StandardScaler()\n",
        "\n",
        "X_train = sc.fit_transform(X_train)\n",
        "X_test = sc.fit_transform(X_test)\n",
        "\n",
        "\n",
        "estimators = [\n",
        "              (\"xgb\", RandomForestRegressor(random_state = SEED)),\n",
        "              (\"svr\", LinearSVR(random_state = SEED)),\n",
        "              (\"rf\", xgb.XGBRegressor()),\n",
        "            \n",
        "]\n",
        "\n",
        "reg = StackingRegressor(\n",
        "    estimators = estimators, \n",
        "    final_estimator = RandomForestRegressor(random_state = SEED)\n",
        ")\n",
        "\n",
        "reg.fit(X_train, Y_train)\n",
        "predicted = reg.predict(X_test)\n",
        "\n",
        "\n",
        "check1 = np.sqrt(mean_squared_log_error(Y_test, predicted))\n",
        "r2 = r2_score(Y_test, predicted)\n",
        "\n",
        "print(f\"The np.sqrt is : {check1}\")\n",
        "print(f\"The r2 score is : {r2}\")"
      ],
      "execution_count": null,
      "outputs": [
        {
          "output_type": "stream",
          "text": [
            "/usr/local/lib/python3.7/dist-packages/sklearn/ensemble/_stacking.py:642: DataConversionWarning:\n",
            "\n",
            "A column-vector y was passed when a 1d array was expected. Please change the shape of y to (n_samples, ), for example using ravel().\n",
            "\n"
          ],
          "name": "stderr"
        },
        {
          "output_type": "stream",
          "text": [
            "[17:00:37] WARNING: /workspace/src/objective/regression_obj.cu:152: reg:linear is now deprecated in favor of reg:squarederror.\n",
            "[17:00:56] WARNING: /workspace/src/objective/regression_obj.cu:152: reg:linear is now deprecated in favor of reg:squarederror.\n",
            "[17:00:56] WARNING: /workspace/src/objective/regression_obj.cu:152: reg:linear is now deprecated in favor of reg:squarederror.\n",
            "[17:00:57] WARNING: /workspace/src/objective/regression_obj.cu:152: reg:linear is now deprecated in favor of reg:squarederror.\n",
            "[17:00:58] WARNING: /workspace/src/objective/regression_obj.cu:152: reg:linear is now deprecated in favor of reg:squarederror.\n",
            "[17:00:58] WARNING: /workspace/src/objective/regression_obj.cu:152: reg:linear is now deprecated in favor of reg:squarederror.\n",
            "The np.sqrt is : 1.2605722558217434\n",
            "The r2 score is : -397.4833811881592\n"
          ],
          "name": "stdout"
        }
      ]
    },
    {
      "cell_type": "code",
      "metadata": {
        "colab": {
          "base_uri": "https://localhost:8080/"
        },
        "id": "RaofmC66uw0_",
        "outputId": "867ecd9a-b10f-4e5b-8172-19dfc14ebf7d"
      },
      "source": [
        "train = pd.read_csv(\"train.csv\")\n",
        "test = pd.read_csv(\"test.csv\")\n",
        "\n",
        "train.drop([\"ID\", \"Mileage\", \"Manufacturer\", \"Cylinders\"], axis = 1, inplace = True)\n",
        "test.drop([\"ID\", \"Mileage\", \"Manufacturer\", \"Cylinders\"], axis = 1, inplace = True)\n",
        "\n",
        "train['Engine volume'] = train['Engine volume'].replace(['2.0 Turbo', '2.2 Turbo','3.0 Turbo','1.4 Turbo','1.5 Turbo', '1.6 Turbo','2.3 Turbo','2.8 Turbo','1.8 Turbo', '2.4 Turbo', '3.5 Turbo', '3.2 Turbo','1.3 Turbo','2.5 Turbo','1.9 Turbo', '4.4 Turbo', '4.7 Turbo', '0.2 Turbo','4.8 Turbo', '4.6 Turbo','1.2 Turbo','1.7 Turbo', '6.3 Turbo', '2.7 Turbo','2.9 Turbo', '4.0 Turbo','3.6 Turbo','3.7 Turbo','5.5 Turbo','2.1 Turbo','0.7 Turbo', '0.6 Turbo','1.0 Turbo', '4.5 Turbo', '0.8 Turbo', '4.2 Turbo', '3.1', '5.0 Turbo','5.7 Turbo','0.4 Turbo', '5.4 Turbo', '0.3 Turbo','1.1 Turbo', '6.0 Turbo', '2.6 Turbo'],'Turbo')\n",
        "train['Engine volume'] = train['Engine volume'].replace(['3.5','3','1.3','2.5','2','1.8','2.4','4','1.6','3.3','4.7','1.5','4.4','3.6','2.3','2.2','1.4','5.5','3.2','3.8','4.6','1.2','5', '1.7', '2.9', '0.5','1.9','2.7','4.8','5.3','0.4','2.8','1.1','2.1','0.7','5.4','3.7','1','2.6','5.7','3.4','4.3','4.2','5.9','6.8','4.5','0.6','7.3','0.1','6.3','6.4','5.2','5.8','0.8', '6.7', '6.2', '0', '20', '0.3', '0.2','5.6', '6', '3.9', '0.9', '6.6', '6.1', '10.8'],'Non-Turbo')\n",
        "\n",
        "test['Engine volume'] = test['Engine volume'].replace(['2.0 Turbo', '2.2 Turbo','3.0 Turbo','1.4 Turbo','1.5 Turbo', '1.6 Turbo','2.3 Turbo','2.8 Turbo','1.8 Turbo', '2.4 Turbo', '3.5 Turbo', '3.2 Turbo','1.3 Turbo','2.5 Turbo','1.9 Turbo', '4.4 Turbo', '4.7 Turbo', '0.2 Turbo','4.8 Turbo', '4.6 Turbo','1.2 Turbo','1.7 Turbo', '6.3 Turbo', '2.7 Turbo','2.9 Turbo', '4.0 Turbo','3.6 Turbo','3.7 Turbo','5.5 Turbo','2.1 Turbo','0.7 Turbo', '0.6 Turbo','1.0 Turbo', '4.5 Turbo', '0.8 Turbo', '4.2 Turbo', '3.1', '5.0 Turbo','5.7 Turbo','0.4 Turbo', '5.4 Turbo', '0.3 Turbo','1.1 Turbo', '6.0 Turbo', '2.6 Turbo'],'Turbo')\n",
        "test['Engine volume'] = test['Engine volume'].replace(['3.5','3','1.3','2.5','2','1.8','2.4','4','1.6','3.3','4.7','1.5','4.4','3.6','2.3','2.2','1.4','5.5','3.2','3.8','4.6','1.2','5', '1.7', '2.9', '0.5','1.9','2.7','4.8','5.3','0.4','2.8','1.1','2.1','0.7','5.4','3.7','1','2.6','5.7','3.4','4.3','4.2','5.9','6.8','4.5','0.6','7.3','0.1','6.3','6.4','5.2','5.8','0.8', '6.7', '6.2', '0', '20', '0.3', '0.2','5.6', '6', '3.9', '0.9', '6.6', '6.1', '10.8'],'Non-Turbo')\n",
        "\n",
        "lb = LabelEncoder()\n",
        "\n",
        "#train[\"Manufacturer\"] = lb.fit_transform(train[\"Manufacturer\"])\n",
        "#test[\"Manufacturer\"] = lb.fit_transform(test[\"Manufacturer\"])\n",
        "\n",
        "train[\"Leather interior\"] = lb.fit_transform(train[\"Leather interior\"])\n",
        "test[\"Leather interior\"] = lb.fit_transform(test[\"Leather interior\"])\n",
        "\n",
        "train[\"Drive wheels\"] = lb.fit_transform(train[\"Drive wheels\"])\n",
        "test[\"Drive wheels\"] = lb.fit_transform(test[\"Drive wheels\"])\n",
        "\n",
        "train[\"Doors\"] = lb.fit_transform(train[\"Doors\"])\n",
        "test[\"Doors\"] = lb.fit_transform(test[\"Doors\"])\n",
        "\n",
        "train[\"Wheel\"] = lb.fit_transform(train[\"Wheel\"])\n",
        "test[\"Wheel\"] = lb.fit_transform(test[\"Wheel\"])\n",
        "\n",
        "train[\"Color\"] = lb.fit_transform(train[\"Color\"])\n",
        "test[\"Color\"] = lb.fit_transform(test[\"Color\"])\n",
        " \n",
        "train[\"Engine volume\"] = lb.fit_transform(train[\"Engine volume\"])\n",
        "test[\"Engine volume\"] = lb.fit_transform(test[\"Engine volume\"])\n",
        "\n",
        "train[\"Gear box type\"] = lb.fit_transform(train[\"Gear box type\"])\n",
        "test[\"Gear box type\"] = lb.fit_transform(test[\"Gear box type\"])\n",
        "\n",
        "train[\"Fuel type\"] = lb.fit_transform(train[\"Fuel type\"])\n",
        "test[\"Fuel type\"] = lb.fit_transform(test[\"Fuel type\"])\n",
        "\n",
        "train[\"Category\"] = lb.fit_transform(train[\"Category\"])\n",
        "test[\"Category\"] = lb.fit_transform(test[\"Category\"])\n",
        "\n",
        "train[\"Model\"] = lb.fit_transform(train[\"Model\"])\n",
        "test[\"Model\"] = lb.fit_transform(test[\"Model\"])\n",
        "\n",
        "train['Levy'] = train['Levy'].replace(\"-\", \"0\")\n",
        "test['Levy'] = test['Levy'].replace(\"-\", \"0\")\n",
        "train[\"Levy\"] = train[\"Levy\"].astype(\"str\").astype(\"int\")\n",
        "test[\"Levy\"] = test[\"Levy\"].astype(\"str\").astype(\"int\")\n",
        "\n",
        "#train[\"Cylinders\"] = train[\"Cylinders\"].astype(int)\n",
        "#test[\"Cylinders\"] = test[\"Cylinders\"].astype(int)\n",
        "\n",
        "#train[['Mileage']] = train[['Mileage']].replace(to_replace=r'([a-z/]+|[A-Z/]+)', value='', regex=True)\n",
        "#train[\"Mileage\"] = train[\"Mileage\"].astype(\"str\").astype(\"int\") \n",
        "#test[['Mileage']] = test[['Mileage']].replace(to_replace=r'([a-z/]+|[A-Z/]+)', value='', regex=True)\n",
        "#test[\"Mileage\"] = test[\"Mileage\"].astype(\"str\").astype(\"int\")\n",
        "\n",
        "X = train.iloc[ : ,  1: ]\n",
        "Y = train.iloc[ : , : 1]\n",
        "\n",
        "X_train, X_test, Y_train, Y_test = train_test_split(X, Y, test_size = 0.2, random_state = SEED, shuffle = True)\n",
        "\n",
        "sc = StandardScaler()\n",
        "\n",
        "X_train = sc.fit_transform(X_train)\n",
        "X_test = sc.fit_transform(X_test)\n",
        "\n",
        "\n",
        "estimators = [\n",
        "              (\"xgb\", RandomForestRegressor(random_state = SEED)),\n",
        "              (\"svr\", LinearSVR(random_state = SEED)),\n",
        "              (\"rf\", xgb.XGBRegressor()),\n",
        "            \n",
        "]\n",
        "\n",
        "reg = StackingRegressor(\n",
        "    estimators = estimators, \n",
        "    final_estimator = RandomForestRegressor(random_state = SEED)\n",
        ")\n",
        "\n",
        "reg.fit(X_train, Y_train)\n",
        "predicted = reg.predict(X_test)\n",
        "\n",
        "\n",
        "check1 = np.sqrt(mean_squared_log_error(Y_test, predicted))\n",
        "r2 = r2_score(Y_test, predicted)\n",
        "\n",
        "print(f\"The np.sqrt is : {check1}\")\n",
        "print(f\"The r2 score is : {r2}\")"
      ],
      "execution_count": null,
      "outputs": [
        {
          "output_type": "stream",
          "text": [
            "/usr/local/lib/python3.7/dist-packages/sklearn/ensemble/_stacking.py:642: DataConversionWarning:\n",
            "\n",
            "A column-vector y was passed when a 1d array was expected. Please change the shape of y to (n_samples, ), for example using ravel().\n",
            "\n"
          ],
          "name": "stderr"
        },
        {
          "output_type": "stream",
          "text": [
            "[17:02:10] WARNING: /workspace/src/objective/regression_obj.cu:152: reg:linear is now deprecated in favor of reg:squarederror.\n",
            "[17:02:30] WARNING: /workspace/src/objective/regression_obj.cu:152: reg:linear is now deprecated in favor of reg:squarederror.\n",
            "[17:02:31] WARNING: /workspace/src/objective/regression_obj.cu:152: reg:linear is now deprecated in favor of reg:squarederror.\n",
            "[17:02:31] WARNING: /workspace/src/objective/regression_obj.cu:152: reg:linear is now deprecated in favor of reg:squarederror.\n",
            "[17:02:32] WARNING: /workspace/src/objective/regression_obj.cu:152: reg:linear is now deprecated in favor of reg:squarederror.\n",
            "[17:02:32] WARNING: /workspace/src/objective/regression_obj.cu:152: reg:linear is now deprecated in favor of reg:squarederror.\n",
            "The np.sqrt is : 1.1996722759567418\n",
            "The r2 score is : -14.37403680416477\n"
          ],
          "name": "stdout"
        }
      ]
    },
    {
      "cell_type": "code",
      "metadata": {
        "colab": {
          "base_uri": "https://localhost:8080/"
        },
        "id": "l4rOgWPrxM9m",
        "outputId": "ba976724-f39f-4dd9-f887-23268c182653"
      },
      "source": [
        "train = pd.read_csv(\"train.csv\")\n",
        "test = pd.read_csv(\"test.csv\")\n",
        "\n",
        "train.drop([\"ID\", \"Mileage\", \"Manufacturer\"], axis = 1, inplace = True)\n",
        "test.drop([\"ID\", \"Mileage\", \"Manufacturer\"], axis = 1, inplace = True)\n",
        "\n",
        "train['Engine volume'] = train['Engine volume'].replace(['2.0 Turbo', '2.2 Turbo','3.0 Turbo','1.4 Turbo','1.5 Turbo', '1.6 Turbo','2.3 Turbo','2.8 Turbo','1.8 Turbo', '2.4 Turbo', '3.5 Turbo', '3.2 Turbo','1.3 Turbo','2.5 Turbo','1.9 Turbo', '4.4 Turbo', '4.7 Turbo', '0.2 Turbo','4.8 Turbo', '4.6 Turbo','1.2 Turbo','1.7 Turbo', '6.3 Turbo', '2.7 Turbo','2.9 Turbo', '4.0 Turbo','3.6 Turbo','3.7 Turbo','5.5 Turbo','2.1 Turbo','0.7 Turbo', '0.6 Turbo','1.0 Turbo', '4.5 Turbo', '0.8 Turbo', '4.2 Turbo', '3.1', '5.0 Turbo','5.7 Turbo','0.4 Turbo', '5.4 Turbo', '0.3 Turbo','1.1 Turbo', '6.0 Turbo', '2.6 Turbo'],'Turbo')\n",
        "train['Engine volume'] = train['Engine volume'].replace(['3.5','3','1.3','2.5','2','1.8','2.4','4','1.6','3.3','4.7','1.5','4.4','3.6','2.3','2.2','1.4','5.5','3.2','3.8','4.6','1.2','5', '1.7', '2.9', '0.5','1.9','2.7','4.8','5.3','0.4','2.8','1.1','2.1','0.7','5.4','3.7','1','2.6','5.7','3.4','4.3','4.2','5.9','6.8','4.5','0.6','7.3','0.1','6.3','6.4','5.2','5.8','0.8', '6.7', '6.2', '0', '20', '0.3', '0.2','5.6', '6', '3.9', '0.9', '6.6', '6.1', '10.8'],'Non-Turbo')\n",
        "\n",
        "test['Engine volume'] = test['Engine volume'].replace(['2.0 Turbo', '2.2 Turbo','3.0 Turbo','1.4 Turbo','1.5 Turbo', '1.6 Turbo','2.3 Turbo','2.8 Turbo','1.8 Turbo', '2.4 Turbo', '3.5 Turbo', '3.2 Turbo','1.3 Turbo','2.5 Turbo','1.9 Turbo', '4.4 Turbo', '4.7 Turbo', '0.2 Turbo','4.8 Turbo', '4.6 Turbo','1.2 Turbo','1.7 Turbo', '6.3 Turbo', '2.7 Turbo','2.9 Turbo', '4.0 Turbo','3.6 Turbo','3.7 Turbo','5.5 Turbo','2.1 Turbo','0.7 Turbo', '0.6 Turbo','1.0 Turbo', '4.5 Turbo', '0.8 Turbo', '4.2 Turbo', '3.1', '5.0 Turbo','5.7 Turbo','0.4 Turbo', '5.4 Turbo', '0.3 Turbo','1.1 Turbo', '6.0 Turbo', '2.6 Turbo'],'Turbo')\n",
        "test['Engine volume'] = test['Engine volume'].replace(['3.5','3','1.3','2.5','2','1.8','2.4','4','1.6','3.3','4.7','1.5','4.4','3.6','2.3','2.2','1.4','5.5','3.2','3.8','4.6','1.2','5', '1.7', '2.9', '0.5','1.9','2.7','4.8','5.3','0.4','2.8','1.1','2.1','0.7','5.4','3.7','1','2.6','5.7','3.4','4.3','4.2','5.9','6.8','4.5','0.6','7.3','0.1','6.3','6.4','5.2','5.8','0.8', '6.7', '6.2', '0', '20', '0.3', '0.2','5.6', '6', '3.9', '0.9', '6.6', '6.1', '10.8'],'Non-Turbo')\n",
        "\n",
        "lb = LabelEncoder()\n",
        "\n",
        "#train[\"Manufacturer\"] = lb.fit_transform(train[\"Manufacturer\"])\n",
        "#test[\"Manufacturer\"] = lb.fit_transform(test[\"Manufacturer\"])\n",
        "\n",
        "train[\"Leather interior\"] = lb.fit_transform(train[\"Leather interior\"])\n",
        "test[\"Leather interior\"] = lb.fit_transform(test[\"Leather interior\"])\n",
        "\n",
        "train[\"Drive wheels\"] = lb.fit_transform(train[\"Drive wheels\"])\n",
        "test[\"Drive wheels\"] = lb.fit_transform(test[\"Drive wheels\"])\n",
        "\n",
        "train[\"Doors\"] = lb.fit_transform(train[\"Doors\"])\n",
        "test[\"Doors\"] = lb.fit_transform(test[\"Doors\"])\n",
        "\n",
        "train[\"Wheel\"] = lb.fit_transform(train[\"Wheel\"])\n",
        "test[\"Wheel\"] = lb.fit_transform(test[\"Wheel\"])\n",
        "\n",
        "train[\"Color\"] = lb.fit_transform(train[\"Color\"])\n",
        "test[\"Color\"] = lb.fit_transform(test[\"Color\"])\n",
        " \n",
        "train[\"Engine volume\"] = lb.fit_transform(train[\"Engine volume\"])\n",
        "test[\"Engine volume\"] = lb.fit_transform(test[\"Engine volume\"])\n",
        "\n",
        "train[\"Gear box type\"] = lb.fit_transform(train[\"Gear box type\"])\n",
        "test[\"Gear box type\"] = lb.fit_transform(test[\"Gear box type\"])\n",
        "\n",
        "train[\"Fuel type\"] = lb.fit_transform(train[\"Fuel type\"])\n",
        "test[\"Fuel type\"] = lb.fit_transform(test[\"Fuel type\"])\n",
        "\n",
        "train[\"Category\"] = lb.fit_transform(train[\"Category\"])\n",
        "test[\"Category\"] = lb.fit_transform(test[\"Category\"])\n",
        "\n",
        "train[\"Model\"] = lb.fit_transform(train[\"Model\"])\n",
        "test[\"Model\"] = lb.fit_transform(test[\"Model\"])\n",
        "\n",
        "train['Levy'] = train['Levy'].replace(\"-\", \"0\")\n",
        "test['Levy'] = test['Levy'].replace(\"-\", \"0\")\n",
        "train[\"Levy\"] = train[\"Levy\"].astype(\"str\").astype(\"int\")\n",
        "test[\"Levy\"] = test[\"Levy\"].astype(\"str\").astype(\"int\")\n",
        "\n",
        "train[\"Cylinders\"] = train[\"Cylinders\"].astype(int)\n",
        "test[\"Cylinders\"] = test[\"Cylinders\"].astype(int)\n",
        "\n",
        "#train[['Mileage']] = train[['Mileage']].replace(to_replace=r'([a-z/]+|[A-Z/]+)', value='', regex=True)\n",
        "#train[\"Mileage\"] = train[\"Mileage\"].astype(\"str\").astype(\"int\") \n",
        "#test[['Mileage']] = test[['Mileage']].replace(to_replace=r'([a-z/]+|[A-Z/]+)', value='', regex=True)\n",
        "#test[\"Mileage\"] = test[\"Mileage\"].astype(\"str\").astype(\"int\")\n",
        "\n",
        "X = train.iloc[ : ,  1: ]\n",
        "Y = train.iloc[ : , : 1]\n",
        "\n",
        "X_train, X_test, Y_train, Y_test = train_test_split(X, Y, test_size = 0.2, random_state = SEED, shuffle = True)\n",
        "\n",
        "sc = StandardScaler()\n",
        "\n",
        "X_train = sc.fit_transform(X_train)\n",
        "X_test = sc.fit_transform(X_test)\n",
        "\n",
        "\n",
        "estimators = [\n",
        "              (\"xgb\", RandomForestRegressor(random_state = SEED)),\n",
        "              (\"svr\", LinearSVR(random_state = SEED)),\n",
        "              (\"rf\", xgb.XGBRegressor()),\n",
        "            \n",
        "]\n",
        "\n",
        "reg = StackingRegressor(\n",
        "    estimators = estimators, \n",
        "    final_estimator = RandomForestRegressor(random_state = SEED)\n",
        ")\n",
        "\n",
        "reg.fit(X_train, Y_train)\n",
        "predicted = reg.predict(X_test)\n",
        "\n",
        "\n",
        "check1 = np.sqrt(mean_squared_log_error(Y_test, predicted))\n",
        "r2 = r2_score(Y_test, predicted)\n",
        "\n",
        "print(f\"The np.sqrt is : {check1}\")\n",
        "print(f\"The r2 score is : {r2}\")"
      ],
      "execution_count": null,
      "outputs": [
        {
          "output_type": "stream",
          "text": [
            "/usr/local/lib/python3.7/dist-packages/sklearn/ensemble/_stacking.py:642: DataConversionWarning:\n",
            "\n",
            "A column-vector y was passed when a 1d array was expected. Please change the shape of y to (n_samples, ), for example using ravel().\n",
            "\n"
          ],
          "name": "stderr"
        },
        {
          "output_type": "stream",
          "text": [
            "[17:06:04] WARNING: /workspace/src/objective/regression_obj.cu:152: reg:linear is now deprecated in favor of reg:squarederror.\n",
            "[17:06:25] WARNING: /workspace/src/objective/regression_obj.cu:152: reg:linear is now deprecated in favor of reg:squarederror.\n",
            "[17:06:26] WARNING: /workspace/src/objective/regression_obj.cu:152: reg:linear is now deprecated in favor of reg:squarederror.\n",
            "[17:06:27] WARNING: /workspace/src/objective/regression_obj.cu:152: reg:linear is now deprecated in favor of reg:squarederror.\n",
            "[17:06:27] WARNING: /workspace/src/objective/regression_obj.cu:152: reg:linear is now deprecated in favor of reg:squarederror.\n",
            "[17:06:28] WARNING: /workspace/src/objective/regression_obj.cu:152: reg:linear is now deprecated in favor of reg:squarederror.\n",
            "The np.sqrt is : 1.1852814243298577\n",
            "The r2 score is : 0.3456353566543279\n"
          ],
          "name": "stdout"
        }
      ]
    },
    {
      "cell_type": "code",
      "metadata": {
        "id": "G4hozm-zxlhC"
      },
      "source": [
        "#ID, Manufacturer, Mileage --> 0.57 deleted.\n"
      ],
      "execution_count": null,
      "outputs": []
    },
    {
      "cell_type": "code",
      "metadata": {
        "colab": {
          "base_uri": "https://localhost:8080/"
        },
        "id": "LGxkItTryuOJ",
        "outputId": "d271d123-ed6a-416e-fee6-a22cf6624196"
      },
      "source": [
        "train = pd.read_csv(\"train.csv\")\n",
        "test = pd.read_csv(\"test.csv\")\n",
        "\n",
        "train.drop([\"ID\", \"Mileage\", \"Manufacturer\"], axis = 1, inplace = True)\n",
        "test.drop([\"ID\", \"Mileage\", \"Manufacturer\"], axis = 1, inplace = True)\n",
        "\n",
        "train['Engine volume'] = train['Engine volume'].replace(['2.0 Turbo', '2.2 Turbo','3.0 Turbo','1.4 Turbo','1.5 Turbo', '1.6 Turbo','2.3 Turbo','2.8 Turbo','1.8 Turbo', '2.4 Turbo', '3.5 Turbo', '3.2 Turbo','1.3 Turbo','2.5 Turbo','1.9 Turbo', '4.4 Turbo', '4.7 Turbo', '0.2 Turbo','4.8 Turbo', '4.6 Turbo','1.2 Turbo','1.7 Turbo', '6.3 Turbo', '2.7 Turbo','2.9 Turbo', '4.0 Turbo','3.6 Turbo','3.7 Turbo','5.5 Turbo','2.1 Turbo','0.7 Turbo', '0.6 Turbo','1.0 Turbo', '4.5 Turbo', '0.8 Turbo', '4.2 Turbo', '3.1', '5.0 Turbo','5.7 Turbo','0.4 Turbo', '5.4 Turbo', '0.3 Turbo','1.1 Turbo', '6.0 Turbo', '2.6 Turbo'],'Turbo')\n",
        "train['Engine volume'] = train['Engine volume'].replace(['3.5','3','1.3','2.5','2','1.8','2.4','4','1.6','3.3','4.7','1.5','4.4','3.6','2.3','2.2','1.4','5.5','3.2','3.8','4.6','1.2','5', '1.7', '2.9', '0.5','1.9','2.7','4.8','5.3','0.4','2.8','1.1','2.1','0.7','5.4','3.7','1','2.6','5.7','3.4','4.3','4.2','5.9','6.8','4.5','0.6','7.3','0.1','6.3','6.4','5.2','5.8','0.8', '6.7', '6.2', '0', '20', '0.3', '0.2','5.6', '6', '3.9', '0.9', '6.6', '6.1', '10.8'],'Non-Turbo')\n",
        "\n",
        "test['Engine volume'] = test['Engine volume'].replace(['2.0 Turbo', '2.2 Turbo','3.0 Turbo','1.4 Turbo','1.5 Turbo', '1.6 Turbo','2.3 Turbo','2.8 Turbo','1.8 Turbo', '2.4 Turbo', '3.5 Turbo', '3.2 Turbo','1.3 Turbo','2.5 Turbo','1.9 Turbo', '4.4 Turbo', '4.7 Turbo', '0.2 Turbo','4.8 Turbo', '4.6 Turbo','1.2 Turbo','1.7 Turbo', '6.3 Turbo', '2.7 Turbo','2.9 Turbo', '4.0 Turbo','3.6 Turbo','3.7 Turbo','5.5 Turbo','2.1 Turbo','0.7 Turbo', '0.6 Turbo','1.0 Turbo', '4.5 Turbo', '0.8 Turbo', '4.2 Turbo', '3.1', '5.0 Turbo','5.7 Turbo','0.4 Turbo', '5.4 Turbo', '0.3 Turbo','1.1 Turbo', '6.0 Turbo', '2.6 Turbo'],'Turbo')\n",
        "test['Engine volume'] = test['Engine volume'].replace(['3.5','3','1.3','2.5','2','1.8','2.4','4','1.6','3.3','4.7','1.5','4.4','3.6','2.3','2.2','1.4','5.5','3.2','3.8','4.6','1.2','5', '1.7', '2.9', '0.5','1.9','2.7','4.8','5.3','0.4','2.8','1.1','2.1','0.7','5.4','3.7','1','2.6','5.7','3.4','4.3','4.2','5.9','6.8','4.5','0.6','7.3','0.1','6.3','6.4','5.2','5.8','0.8', '6.7', '6.2', '0', '20', '0.3', '0.2','5.6', '6', '3.9', '0.9', '6.6', '6.1', '10.8'],'Non-Turbo')\n",
        "\n",
        "lb = LabelEncoder()\n",
        "\n",
        "#train[\"Manufacturer\"] = lb.fit_transform(train[\"Manufacturer\"])\n",
        "#test[\"Manufacturer\"] = lb.fit_transform(test[\"Manufacturer\"])\n",
        "\n",
        "train[\"Leather interior\"] = lb.fit_transform(train[\"Leather interior\"])\n",
        "test[\"Leather interior\"] = lb.fit_transform(test[\"Leather interior\"])\n",
        "\n",
        "train[\"Drive wheels\"] = lb.fit_transform(train[\"Drive wheels\"])\n",
        "test[\"Drive wheels\"] = lb.fit_transform(test[\"Drive wheels\"])\n",
        "\n",
        "train[\"Doors\"] = lb.fit_transform(train[\"Doors\"])\n",
        "test[\"Doors\"] = lb.fit_transform(test[\"Doors\"])\n",
        "\n",
        "train[\"Wheel\"] = lb.fit_transform(train[\"Wheel\"])\n",
        "test[\"Wheel\"] = lb.fit_transform(test[\"Wheel\"])\n",
        "\n",
        "train[\"Color\"] = lb.fit_transform(train[\"Color\"])\n",
        "test[\"Color\"] = lb.fit_transform(test[\"Color\"])\n",
        " \n",
        "train[\"Engine volume\"] = lb.fit_transform(train[\"Engine volume\"])\n",
        "test[\"Engine volume\"] = lb.fit_transform(test[\"Engine volume\"])\n",
        "\n",
        "train[\"Gear box type\"] = lb.fit_transform(train[\"Gear box type\"])\n",
        "test[\"Gear box type\"] = lb.fit_transform(test[\"Gear box type\"])\n",
        "\n",
        "train[\"Fuel type\"] = lb.fit_transform(train[\"Fuel type\"])\n",
        "test[\"Fuel type\"] = lb.fit_transform(test[\"Fuel type\"])\n",
        "\n",
        "train[\"Category\"] = lb.fit_transform(train[\"Category\"])\n",
        "test[\"Category\"] = lb.fit_transform(test[\"Category\"])\n",
        "\n",
        "train[\"Model\"] = lb.fit_transform(train[\"Model\"])\n",
        "test[\"Model\"] = lb.fit_transform(test[\"Model\"])\n",
        "\n",
        "train['Levy'] = train['Levy'].replace(\"-\", \"0\")\n",
        "test['Levy'] = test['Levy'].replace(\"-\", \"0\")\n",
        "train[\"Levy\"] = train[\"Levy\"].astype(\"str\").astype(\"int\")\n",
        "test[\"Levy\"] = test[\"Levy\"].astype(\"str\").astype(\"int\")\n",
        "\n",
        "train[\"Cylinders\"] = train[\"Cylinders\"].astype(int)\n",
        "test[\"Cylinders\"] = test[\"Cylinders\"].astype(int)\n",
        "\n",
        "#train[['Mileage']] = train[['Mileage']].replace(to_replace=r'([a-z/]+|[A-Z/]+)', value='', regex=True)\n",
        "#train[\"Mileage\"] = train[\"Mileage\"].astype(\"str\").astype(\"int\") \n",
        "#test[['Mileage']] = test[['Mileage']].replace(to_replace=r'([a-z/]+|[A-Z/]+)', value='', regex=True)\n",
        "#test[\"Mileage\"] = test[\"Mileage\"].astype(\"str\").astype(\"int\")\n",
        "\n",
        "X = train.iloc[ : ,  1: ]\n",
        "Y = train.iloc[ : , : 1]\n",
        "\n",
        "X_train, X_test, Y_train, Y_test = train_test_split(X, Y, test_size = 0.2, random_state = SEED, shuffle = True)\n",
        "\n",
        "sc = StandardScaler()\n",
        "\n",
        "X_train = sc.fit_transform(X_train)\n",
        "X_test = sc.fit_transform(X_test)\n",
        "\n",
        "\n",
        "estimators = [\n",
        "              (\"xgb\", RandomForestRegressor(random_state = SEED)),\n",
        "              (\"svr\", LinearSVR(random_state = SEED)),\n",
        "              (\"rf\", xgb.XGBRegressor()),\n",
        "            \n",
        "]\n",
        "\n",
        "reg = StackingRegressor(\n",
        "    estimators = estimators, \n",
        "    final_estimator = RandomForestRegressor(random_state = SEED)\n",
        ")\n",
        "\n",
        "reg.fit(X_train, Y_train)\n",
        "predicted = reg.predict(X_test)\n",
        "\n",
        "\n",
        "check1 = np.sqrt(mean_squared_log_error(Y_test, predicted))\n",
        "r2 = r2_score(Y_test, predicted)\n",
        "\n",
        "print(f\"The np.sqrt is : {check1}\")\n",
        "print(f\"The r2 score is : {r2}\")"
      ],
      "execution_count": null,
      "outputs": [
        {
          "output_type": "stream",
          "text": [
            "/usr/local/lib/python3.7/dist-packages/sklearn/ensemble/_stacking.py:642: DataConversionWarning:\n",
            "\n",
            "A column-vector y was passed when a 1d array was expected. Please change the shape of y to (n_samples, ), for example using ravel().\n",
            "\n"
          ],
          "name": "stderr"
        },
        {
          "output_type": "stream",
          "text": [
            "[17:10:03] WARNING: /workspace/src/objective/regression_obj.cu:152: reg:linear is now deprecated in favor of reg:squarederror.\n",
            "[17:10:24] WARNING: /workspace/src/objective/regression_obj.cu:152: reg:linear is now deprecated in favor of reg:squarederror.\n",
            "[17:10:25] WARNING: /workspace/src/objective/regression_obj.cu:152: reg:linear is now deprecated in favor of reg:squarederror.\n",
            "[17:10:25] WARNING: /workspace/src/objective/regression_obj.cu:152: reg:linear is now deprecated in favor of reg:squarederror.\n",
            "[17:10:26] WARNING: /workspace/src/objective/regression_obj.cu:152: reg:linear is now deprecated in favor of reg:squarederror.\n",
            "[17:10:27] WARNING: /workspace/src/objective/regression_obj.cu:152: reg:linear is now deprecated in favor of reg:squarederror.\n",
            "The np.sqrt is : 1.1852814243298577\n",
            "The r2 score is : 0.3456353566543279\n"
          ],
          "name": "stdout"
        }
      ]
    },
    {
      "cell_type": "code",
      "metadata": {
        "id": "mn-6Xv_f6aa4"
      },
      "source": [
        "train = pd.read_csv(\"train.csv\")\n",
        "test = pd.read_csv(\"test.csv\")"
      ],
      "execution_count": null,
      "outputs": []
    },
    {
      "cell_type": "code",
      "metadata": {
        "colab": {
          "base_uri": "https://localhost:8080/"
        },
        "id": "W-KX1LR4_HHX",
        "outputId": "355646fb-d95e-43e9-c930-7166b1ecd320"
      },
      "source": [
        "len(train)"
      ],
      "execution_count": null,
      "outputs": [
        {
          "output_type": "execute_result",
          "data": {
            "text/plain": [
              "19237"
            ]
          },
          "metadata": {
            "tags": []
          },
          "execution_count": 49
        }
      ]
    },
    {
      "cell_type": "code",
      "metadata": {
        "colab": {
          "base_uri": "https://localhost:8080/"
        },
        "id": "zHLkYgO-_IeW",
        "outputId": "ce58b63c-cb92-4c1e-ee2a-64025351a0a6"
      },
      "source": [
        "train.drop_duplicates(inplace = True)\n",
        "len(train)"
      ],
      "execution_count": null,
      "outputs": [
        {
          "output_type": "execute_result",
          "data": {
            "text/plain": [
              "18924"
            ]
          },
          "metadata": {
            "tags": []
          },
          "execution_count": 50
        }
      ]
    },
    {
      "cell_type": "code",
      "metadata": {
        "id": "PLXbN4hw_OV3"
      },
      "source": [
        "train.drop([\"ID\", \"Mileage\", \"Manufacturer\"], axis = 1, inplace = True)\n",
        "test.drop([\"ID\", \"Mileage\", \"Manufacturer\"], axis = 1, inplace = True)"
      ],
      "execution_count": null,
      "outputs": []
    },
    {
      "cell_type": "code",
      "metadata": {
        "colab": {
          "base_uri": "https://localhost:8080/"
        },
        "id": "SCddQl--_RZm",
        "outputId": "308fa4a2-9e23-4f1b-b575-1b4b783c2584"
      },
      "source": [
        "train = pd.read_csv(\"train.csv\")\n",
        "test = pd.read_csv(\"test.csv\")\n",
        "\n",
        "train.drop_duplicates(inplace = True)\n",
        "\n",
        "train.drop([\"ID\", \"Mileage\", \"Manufacturer\"], axis = 1, inplace = True)\n",
        "test.drop([\"ID\", \"Mileage\", \"Manufacturer\"], axis = 1, inplace = True)\n",
        "\n",
        "train['Engine volume'] = train['Engine volume'].replace(['2.0 Turbo', '2.2 Turbo','3.0 Turbo','1.4 Turbo','1.5 Turbo', '1.6 Turbo','2.3 Turbo','2.8 Turbo','1.8 Turbo', '2.4 Turbo', '3.5 Turbo', '3.2 Turbo','1.3 Turbo','2.5 Turbo','1.9 Turbo', '4.4 Turbo', '4.7 Turbo', '0.2 Turbo','4.8 Turbo', '4.6 Turbo','1.2 Turbo','1.7 Turbo', '6.3 Turbo', '2.7 Turbo','2.9 Turbo', '4.0 Turbo','3.6 Turbo','3.7 Turbo','5.5 Turbo','2.1 Turbo','0.7 Turbo', '0.6 Turbo','1.0 Turbo', '4.5 Turbo', '0.8 Turbo', '4.2 Turbo', '3.1', '5.0 Turbo','5.7 Turbo','0.4 Turbo', '5.4 Turbo', '0.3 Turbo','1.1 Turbo', '6.0 Turbo', '2.6 Turbo'],'Turbo')\n",
        "train['Engine volume'] = train['Engine volume'].replace(['3.5','3','1.3','2.5','2','1.8','2.4','4','1.6','3.3','4.7','1.5','4.4','3.6','2.3','2.2','1.4','5.5','3.2','3.8','4.6','1.2','5', '1.7', '2.9', '0.5','1.9','2.7','4.8','5.3','0.4','2.8','1.1','2.1','0.7','5.4','3.7','1','2.6','5.7','3.4','4.3','4.2','5.9','6.8','4.5','0.6','7.3','0.1','6.3','6.4','5.2','5.8','0.8', '6.7', '6.2', '0', '20', '0.3', '0.2','5.6', '6', '3.9', '0.9', '6.6', '6.1', '10.8'],'Non-Turbo')\n",
        "\n",
        "test['Engine volume'] = test['Engine volume'].replace(['2.0 Turbo', '2.2 Turbo','3.0 Turbo','1.4 Turbo','1.5 Turbo', '1.6 Turbo','2.3 Turbo','2.8 Turbo','1.8 Turbo', '2.4 Turbo', '3.5 Turbo', '3.2 Turbo','1.3 Turbo','2.5 Turbo','1.9 Turbo', '4.4 Turbo', '4.7 Turbo', '0.2 Turbo','4.8 Turbo', '4.6 Turbo','1.2 Turbo','1.7 Turbo', '6.3 Turbo', '2.7 Turbo','2.9 Turbo', '4.0 Turbo','3.6 Turbo','3.7 Turbo','5.5 Turbo','2.1 Turbo','0.7 Turbo', '0.6 Turbo','1.0 Turbo', '4.5 Turbo', '0.8 Turbo', '4.2 Turbo', '3.1', '5.0 Turbo','5.7 Turbo','0.4 Turbo', '5.4 Turbo', '0.3 Turbo','1.1 Turbo', '6.0 Turbo', '2.6 Turbo'],'Turbo')\n",
        "test['Engine volume'] = test['Engine volume'].replace(['3.5','3','1.3','2.5','2','1.8','2.4','4','1.6','3.3','4.7','1.5','4.4','3.6','2.3','2.2','1.4','5.5','3.2','3.8','4.6','1.2','5', '1.7', '2.9', '0.5','1.9','2.7','4.8','5.3','0.4','2.8','1.1','2.1','0.7','5.4','3.7','1','2.6','5.7','3.4','4.3','4.2','5.9','6.8','4.5','0.6','7.3','0.1','6.3','6.4','5.2','5.8','0.8', '6.7', '6.2', '0', '20', '0.3', '0.2','5.6', '6', '3.9', '0.9', '6.6', '6.1', '10.8'],'Non-Turbo')\n",
        "\n",
        "lb = LabelEncoder()\n",
        "\n",
        "encoder = ce.OneHotEncoder(cols=[\"Model\"], handle_unknown='return_nan',return_df=True,use_cat_names=True)\n",
        "train = encoder.fit_transform(train)\n",
        "test = encoder.fit_transform(test)\n",
        "\n",
        "#train[\"Manufacturer\"] = lb.fit_transform(train[\"Manufacturer\"])\n",
        "#test[\"Manufacturer\"] = lb.fit_transform(test[\"Manufacturer\"])\n",
        "\n",
        "train[\"Leather interior\"] = lb.fit_transform(train[\"Leather interior\"])\n",
        "test[\"Leather interior\"] = lb.fit_transform(test[\"Leather interior\"])\n",
        "\n",
        "train[\"Drive wheels\"] = lb.fit_transform(train[\"Drive wheels\"])\n",
        "test[\"Drive wheels\"] = lb.fit_transform(test[\"Drive wheels\"])\n",
        "\n",
        "train[\"Doors\"] = lb.fit_transform(train[\"Doors\"])\n",
        "test[\"Doors\"] = lb.fit_transform(test[\"Doors\"])\n",
        "\n",
        "train[\"Wheel\"] = lb.fit_transform(train[\"Wheel\"])\n",
        "test[\"Wheel\"] = lb.fit_transform(test[\"Wheel\"])\n",
        "\n",
        "train[\"Color\"] = lb.fit_transform(train[\"Color\"])\n",
        "test[\"Color\"] = lb.fit_transform(test[\"Color\"])\n",
        " \n",
        "train[\"Engine volume\"] = lb.fit_transform(train[\"Engine volume\"])\n",
        "test[\"Engine volume\"] = lb.fit_transform(test[\"Engine volume\"])\n",
        "\n",
        "train[\"Gear box type\"] = lb.fit_transform(train[\"Gear box type\"])\n",
        "test[\"Gear box type\"] = lb.fit_transform(test[\"Gear box type\"])\n",
        "\n",
        "train[\"Fuel type\"] = lb.fit_transform(train[\"Fuel type\"])\n",
        "test[\"Fuel type\"] = lb.fit_transform(test[\"Fuel type\"])\n",
        "\n",
        "train[\"Category\"] = lb.fit_transform(train[\"Category\"])\n",
        "test[\"Category\"] = lb.fit_transform(test[\"Category\"])\n",
        "\n",
        "#train[\"Model\"] = lb.fit_transform(train[\"Model\"])\n",
        "#test[\"Model\"] = lb.fit_transform(test[\"Model\"])\n",
        "\n",
        "train['Levy'] = train['Levy'].replace(\"-\", \"0\")\n",
        "test['Levy'] = test['Levy'].replace(\"-\", \"0\")\n",
        "train[\"Levy\"] = train[\"Levy\"].astype(\"str\").astype(\"int\")\n",
        "test[\"Levy\"] = test[\"Levy\"].astype(\"str\").astype(\"int\")\n",
        "\n",
        "train[\"Cylinders\"] = train[\"Cylinders\"].astype(int)\n",
        "test[\"Cylinders\"] = test[\"Cylinders\"].astype(int)\n",
        "\n",
        "#train[['Mileage']] = train[['Mileage']].replace(to_replace=r'([a-z/]+|[A-Z/]+)', value='', regex=True)\n",
        "#train[\"Mileage\"] = train[\"Mileage\"].astype(\"str\").astype(\"int\") \n",
        "#test[['Mileage']] = test[['Mileage']].replace(to_replace=r'([a-z/]+|[A-Z/]+)', value='', regex=True)\n",
        "#test[\"Mileage\"] = test[\"Mileage\"].astype(\"str\").astype(\"int\")\n",
        "\n",
        "X = train.iloc[ : ,  1: ]\n",
        "Y = train.iloc[ : , : 1]\n",
        "\n",
        "X_train, X_test, Y_train, Y_test = train_test_split(X, Y, test_size = 0.2, random_state = SEED, shuffle = True)\n",
        "\n",
        "sc = StandardScaler()\n",
        "\n",
        "X_train = sc.fit_transform(X_train)\n",
        "X_test = sc.fit_transform(X_test)\n",
        "\n",
        "\n",
        "estimators = [\n",
        "              (\"xgb\", RandomForestRegressor(random_state = SEED)),\n",
        "              (\"svr\", LinearSVR(random_state = SEED)),\n",
        "              (\"rf\", xgb.XGBRegressor()),\n",
        "            \n",
        "]\n",
        "\n",
        "reg = StackingRegressor(\n",
        "    estimators = estimators, \n",
        "    final_estimator = RandomForestRegressor(random_state = SEED)\n",
        ")\n",
        "\n",
        "reg.fit(X_train, Y_train)\n",
        "predicted = reg.predict(X_test)\n",
        "\n",
        "\n",
        "check1 = np.sqrt(mean_squared_log_error(Y_test, predicted))\n",
        "r2 = r2_score(Y_test, predicted)\n",
        "\n",
        "print(f\"The np.sqrt is : {check1}\")\n",
        "print(f\"The r2 score is : {r2}\")"
      ],
      "execution_count": null,
      "outputs": [
        {
          "output_type": "stream",
          "text": [
            "/usr/local/lib/python3.7/dist-packages/category_encoders/utils.py:21: FutureWarning:\n",
            "\n",
            "is_categorical is deprecated and will be removed in a future version.  Use is_categorical_dtype instead\n",
            "\n",
            "/usr/local/lib/python3.7/dist-packages/category_encoders/utils.py:21: FutureWarning:\n",
            "\n",
            "is_categorical is deprecated and will be removed in a future version.  Use is_categorical_dtype instead\n",
            "\n",
            "/usr/local/lib/python3.7/dist-packages/sklearn/ensemble/_stacking.py:642: DataConversionWarning:\n",
            "\n",
            "A column-vector y was passed when a 1d array was expected. Please change the shape of y to (n_samples, ), for example using ravel().\n",
            "\n"
          ],
          "name": "stderr"
        },
        {
          "output_type": "stream",
          "text": [
            "[18:07:02] WARNING: /workspace/src/objective/regression_obj.cu:152: reg:linear is now deprecated in favor of reg:squarederror.\n",
            "[18:17:23] WARNING: /workspace/src/objective/regression_obj.cu:152: reg:linear is now deprecated in favor of reg:squarederror.\n",
            "[18:18:02] WARNING: /workspace/src/objective/regression_obj.cu:152: reg:linear is now deprecated in favor of reg:squarederror.\n",
            "[18:18:40] WARNING: /workspace/src/objective/regression_obj.cu:152: reg:linear is now deprecated in favor of reg:squarederror.\n",
            "[18:19:18] WARNING: /workspace/src/objective/regression_obj.cu:152: reg:linear is now deprecated in favor of reg:squarederror.\n",
            "[18:19:56] WARNING: /workspace/src/objective/regression_obj.cu:152: reg:linear is now deprecated in favor of reg:squarederror.\n",
            "The np.sqrt is : 1.2171310791822365\n",
            "The r2 score is : 0.6152580685094706\n"
          ],
          "name": "stdout"
        }
      ]
    },
    {
      "cell_type": "code",
      "metadata": {
        "colab": {
          "base_uri": "https://localhost:8080/"
        },
        "id": "w62tbue0DZJV",
        "outputId": "f3e0f162-7191-49fa-cbe7-13ed633faa7d"
      },
      "source": [
        "train = pd.read_csv(\"train.csv\")\n",
        "test = pd.read_csv(\"test.csv\")\n",
        "\n",
        "train.drop_duplicates(inplace = True)\n",
        "\n",
        "train.drop([\"ID\", \"Mileage\", \"Manufacturer\", \"Model\"], axis = 1, inplace = True)\n",
        "test.drop([\"ID\", \"Mileage\", \"Manufacturer\", \"Model\"], axis = 1, inplace = True)\n",
        "\n",
        "train['Engine volume'] = train['Engine volume'].replace(['2.0 Turbo', '2.2 Turbo','3.0 Turbo','1.4 Turbo','1.5 Turbo', '1.6 Turbo','2.3 Turbo','2.8 Turbo','1.8 Turbo', '2.4 Turbo', '3.5 Turbo', '3.2 Turbo','1.3 Turbo','2.5 Turbo','1.9 Turbo', '4.4 Turbo', '4.7 Turbo', '0.2 Turbo','4.8 Turbo', '4.6 Turbo','1.2 Turbo','1.7 Turbo', '6.3 Turbo', '2.7 Turbo','2.9 Turbo', '4.0 Turbo','3.6 Turbo','3.7 Turbo','5.5 Turbo','2.1 Turbo','0.7 Turbo', '0.6 Turbo','1.0 Turbo', '4.5 Turbo', '0.8 Turbo', '4.2 Turbo', '3.1', '5.0 Turbo','5.7 Turbo','0.4 Turbo', '5.4 Turbo', '0.3 Turbo','1.1 Turbo', '6.0 Turbo', '2.6 Turbo'],'Turbo')\n",
        "train['Engine volume'] = train['Engine volume'].replace(['3.5','3','1.3','2.5','2','1.8','2.4','4','1.6','3.3','4.7','1.5','4.4','3.6','2.3','2.2','1.4','5.5','3.2','3.8','4.6','1.2','5', '1.7', '2.9', '0.5','1.9','2.7','4.8','5.3','0.4','2.8','1.1','2.1','0.7','5.4','3.7','1','2.6','5.7','3.4','4.3','4.2','5.9','6.8','4.5','0.6','7.3','0.1','6.3','6.4','5.2','5.8','0.8', '6.7', '6.2', '0', '20', '0.3', '0.2','5.6', '6', '3.9', '0.9', '6.6', '6.1', '10.8'],'Non-Turbo')\n",
        "\n",
        "test['Engine volume'] = test['Engine volume'].replace(['2.0 Turbo', '2.2 Turbo','3.0 Turbo','1.4 Turbo','1.5 Turbo', '1.6 Turbo','2.3 Turbo','2.8 Turbo','1.8 Turbo', '2.4 Turbo', '3.5 Turbo', '3.2 Turbo','1.3 Turbo','2.5 Turbo','1.9 Turbo', '4.4 Turbo', '4.7 Turbo', '0.2 Turbo','4.8 Turbo', '4.6 Turbo','1.2 Turbo','1.7 Turbo', '6.3 Turbo', '2.7 Turbo','2.9 Turbo', '4.0 Turbo','3.6 Turbo','3.7 Turbo','5.5 Turbo','2.1 Turbo','0.7 Turbo', '0.6 Turbo','1.0 Turbo', '4.5 Turbo', '0.8 Turbo', '4.2 Turbo', '3.1', '5.0 Turbo','5.7 Turbo','0.4 Turbo', '5.4 Turbo', '0.3 Turbo','1.1 Turbo', '6.0 Turbo', '2.6 Turbo'],'Turbo')\n",
        "test['Engine volume'] = test['Engine volume'].replace(['3.5','3','1.3','2.5','2','1.8','2.4','4','1.6','3.3','4.7','1.5','4.4','3.6','2.3','2.2','1.4','5.5','3.2','3.8','4.6','1.2','5', '1.7', '2.9', '0.5','1.9','2.7','4.8','5.3','0.4','2.8','1.1','2.1','0.7','5.4','3.7','1','2.6','5.7','3.4','4.3','4.2','5.9','6.8','4.5','0.6','7.3','0.1','6.3','6.4','5.2','5.8','0.8', '6.7', '6.2', '0', '20', '0.3', '0.2','5.6', '6', '3.9', '0.9', '6.6', '6.1', '10.8'],'Non-Turbo')\n",
        "\n",
        "lb = LabelEncoder()\n",
        "\n",
        "\n",
        "#train[\"Manufacturer\"] = lb.fit_transform(train[\"Manufacturer\"])\n",
        "#test[\"Manufacturer\"] = lb.fit_transform(test[\"Manufacturer\"])\n",
        "\n",
        "train[\"Leather interior\"] = lb.fit_transform(train[\"Leather interior\"])\n",
        "test[\"Leather interior\"] = lb.fit_transform(test[\"Leather interior\"])\n",
        "\n",
        "train[\"Drive wheels\"] = lb.fit_transform(train[\"Drive wheels\"])\n",
        "test[\"Drive wheels\"] = lb.fit_transform(test[\"Drive wheels\"])\n",
        "\n",
        "train[\"Doors\"] = lb.fit_transform(train[\"Doors\"])\n",
        "test[\"Doors\"] = lb.fit_transform(test[\"Doors\"])\n",
        "\n",
        "train[\"Wheel\"] = lb.fit_transform(train[\"Wheel\"])\n",
        "test[\"Wheel\"] = lb.fit_transform(test[\"Wheel\"])\n",
        "\n",
        "train[\"Color\"] = lb.fit_transform(train[\"Color\"])\n",
        "test[\"Color\"] = lb.fit_transform(test[\"Color\"])\n",
        " \n",
        "train[\"Engine volume\"] = lb.fit_transform(train[\"Engine volume\"])\n",
        "test[\"Engine volume\"] = lb.fit_transform(test[\"Engine volume\"])\n",
        "\n",
        "train[\"Gear box type\"] = lb.fit_transform(train[\"Gear box type\"])\n",
        "test[\"Gear box type\"] = lb.fit_transform(test[\"Gear box type\"])\n",
        "\n",
        "train[\"Fuel type\"] = lb.fit_transform(train[\"Fuel type\"])\n",
        "test[\"Fuel type\"] = lb.fit_transform(test[\"Fuel type\"])\n",
        "\n",
        "train[\"Category\"] = lb.fit_transform(train[\"Category\"])\n",
        "test[\"Category\"] = lb.fit_transform(test[\"Category\"])\n",
        "\n",
        "#train[\"Model\"] = lb.fit_transform(train[\"Model\"])\n",
        "#test[\"Model\"] = lb.fit_transform(test[\"Model\"])\n",
        "\n",
        "train['Levy'] = train['Levy'].replace(\"-\", \"0\")\n",
        "test['Levy'] = test['Levy'].replace(\"-\", \"0\")\n",
        "train[\"Levy\"] = train[\"Levy\"].astype(\"str\").astype(\"int\")\n",
        "test[\"Levy\"] = test[\"Levy\"].astype(\"str\").astype(\"int\")\n",
        "\n",
        "train[\"Cylinders\"] = train[\"Cylinders\"].astype(int)\n",
        "test[\"Cylinders\"] = test[\"Cylinders\"].astype(int)\n",
        "\n",
        "#train[['Mileage']] = train[['Mileage']].replace(to_replace=r'([a-z/]+|[A-Z/]+)', value='', regex=True)\n",
        "#train[\"Mileage\"] = train[\"Mileage\"].astype(\"str\").astype(\"int\") \n",
        "#test[['Mileage']] = test[['Mileage']].replace(to_replace=r'([a-z/]+|[A-Z/]+)', value='', regex=True)\n",
        "#test[\"Mileage\"] = test[\"Mileage\"]  .astype(\"str\").astype(\"int\")\n",
        "\n",
        "X = train.iloc[ : ,  1: ]\n",
        "Y = train.iloc[ : , : 1]\n",
        "\n",
        "#X_train, X_test, Y_train, Y_test = train_test_split(X, Y, test_size = 0.2, random_state = SEED, shuffle = True)\n",
        "\n",
        "sc = StandardScaler()\n",
        "X = sc.fit_transform(X)\n",
        "\n",
        "#X_train = sc.fit_transform(X_train)\n",
        "#X_test = sc.fit_transform(X_test)\n",
        "\n",
        "\n",
        "estimators = [\n",
        "              (\"xgb\", RandomForestRegressor(random_state = SEED)),\n",
        "              (\"svr\", LinearSVR(random_state = SEED)),\n",
        "              (\"rf\", xgb.XGBRegressor())           \n",
        "]\n",
        "\n",
        "reg = StackingRegressor(\n",
        "    estimators = estimators, \n",
        "    final_estimator = RandomForestRegressor(random_state = SEED)\n",
        ")\n",
        "\n",
        "reg.fit(X, Y)\n",
        "\n",
        "predicted = reg.predict(X)\n",
        "\n",
        "check1 = np.sqrt(mean_squared_log_error(Y, predicted))\n",
        "r2 = r2_score(Y, predicted)\n",
        "\n",
        "print(f\"The np.sqrt is : {check1}\")\n",
        "print(f\"The r2 score is : {r2}\")"
      ],
      "execution_count": null,
      "outputs": [
        {
          "output_type": "stream",
          "text": [
            "/usr/local/lib/python3.7/dist-packages/sklearn/ensemble/_stacking.py:642: DataConversionWarning:\n",
            "\n",
            "A column-vector y was passed when a 1d array was expected. Please change the shape of y to (n_samples, ), for example using ravel().\n",
            "\n"
          ],
          "name": "stderr"
        },
        {
          "output_type": "stream",
          "text": [
            "[19:23:38] WARNING: /workspace/src/objective/regression_obj.cu:152: reg:linear is now deprecated in favor of reg:squarederror.\n",
            "[19:23:59] WARNING: /workspace/src/objective/regression_obj.cu:152: reg:linear is now deprecated in favor of reg:squarederror.\n",
            "[19:23:59] WARNING: /workspace/src/objective/regression_obj.cu:152: reg:linear is now deprecated in favor of reg:squarederror.\n",
            "[19:24:00] WARNING: /workspace/src/objective/regression_obj.cu:152: reg:linear is now deprecated in favor of reg:squarederror.\n",
            "[19:24:01] WARNING: /workspace/src/objective/regression_obj.cu:152: reg:linear is now deprecated in favor of reg:squarederror.\n",
            "[19:24:02] WARNING: /workspace/src/objective/regression_obj.cu:152: reg:linear is now deprecated in favor of reg:squarederror.\n",
            "The np.sqrt is : 1.0376915991989972\n",
            "The r2 score is : -0.11667664630419572\n"
          ],
          "name": "stdout"
        }
      ]
    },
    {
      "cell_type": "code",
      "metadata": {
        "id": "3otgt_phQ8Tg"
      },
      "source": [
        "train = pd.read_csv(\"train.csv\")\n",
        "test = pd.read_csv(\"test.csv\")"
      ],
      "execution_count": null,
      "outputs": []
    },
    {
      "cell_type": "code",
      "metadata": {
        "colab": {
          "base_uri": "https://localhost:8080/"
        },
        "id": "hTrvdLzrRse8",
        "outputId": "6c0de583-d125-4fa9-c182-5e8f4f3be83e"
      },
      "source": [
        "len(train) + len(test)"
      ],
      "execution_count": null,
      "outputs": [
        {
          "output_type": "execute_result",
          "data": {
            "text/plain": [
              "27482"
            ]
          },
          "metadata": {
            "tags": []
          },
          "execution_count": 137
        }
      ]
    },
    {
      "cell_type": "code",
      "metadata": {
        "colab": {
          "base_uri": "https://localhost:8080/"
        },
        "id": "tt6S-IVcY3Jw",
        "outputId": "0bdff2ee-cf93-41d1-e888-21c102b26e22"
      },
      "source": [
        "len(train)"
      ],
      "execution_count": null,
      "outputs": [
        {
          "output_type": "execute_result",
          "data": {
            "text/plain": [
              "19237"
            ]
          },
          "metadata": {
            "tags": []
          },
          "execution_count": 138
        }
      ]
    },
    {
      "cell_type": "code",
      "metadata": {
        "colab": {
          "base_uri": "https://localhost:8080/"
        },
        "id": "AB22RbBtY4Wg",
        "outputId": "3d237f8b-bab3-4c79-df51-591d7af2283d"
      },
      "source": [
        "len(test)"
      ],
      "execution_count": null,
      "outputs": [
        {
          "output_type": "execute_result",
          "data": {
            "text/plain": [
              "8245"
            ]
          },
          "metadata": {
            "tags": []
          },
          "execution_count": 139
        }
      ]
    },
    {
      "cell_type": "code",
      "metadata": {
        "id": "6A5d91UVY4zz"
      },
      "source": [
        "dataset = [train, test]"
      ],
      "execution_count": null,
      "outputs": []
    },
    {
      "cell_type": "code",
      "metadata": {
        "id": "YwEukn35Y_Ux"
      },
      "source": [
        "result = pd.concat(dataset)"
      ],
      "execution_count": null,
      "outputs": []
    },
    {
      "cell_type": "code",
      "metadata": {
        "colab": {
          "base_uri": "https://localhost:8080/",
          "height": 660
        },
        "id": "g1NTNguMZCdx",
        "outputId": "d3bf79a9-f97e-4db5-c5e1-dbfef415ae74"
      },
      "source": [
        "result"
      ],
      "execution_count": null,
      "outputs": [
        {
          "output_type": "execute_result",
          "data": {
            "text/html": [
              "<div>\n",
              "<style scoped>\n",
              "    .dataframe tbody tr th:only-of-type {\n",
              "        vertical-align: middle;\n",
              "    }\n",
              "\n",
              "    .dataframe tbody tr th {\n",
              "        vertical-align: top;\n",
              "    }\n",
              "\n",
              "    .dataframe thead th {\n",
              "        text-align: right;\n",
              "    }\n",
              "</style>\n",
              "<table border=\"1\" class=\"dataframe\">\n",
              "  <thead>\n",
              "    <tr style=\"text-align: right;\">\n",
              "      <th></th>\n",
              "      <th>ID</th>\n",
              "      <th>Price</th>\n",
              "      <th>Levy</th>\n",
              "      <th>Manufacturer</th>\n",
              "      <th>Model</th>\n",
              "      <th>Prod. year</th>\n",
              "      <th>Category</th>\n",
              "      <th>Leather interior</th>\n",
              "      <th>Fuel type</th>\n",
              "      <th>Engine volume</th>\n",
              "      <th>Mileage</th>\n",
              "      <th>Cylinders</th>\n",
              "      <th>Gear box type</th>\n",
              "      <th>Drive wheels</th>\n",
              "      <th>Doors</th>\n",
              "      <th>Wheel</th>\n",
              "      <th>Color</th>\n",
              "      <th>Airbags</th>\n",
              "    </tr>\n",
              "  </thead>\n",
              "  <tbody>\n",
              "    <tr>\n",
              "      <th>0</th>\n",
              "      <td>45654403</td>\n",
              "      <td>13328.0</td>\n",
              "      <td>1399</td>\n",
              "      <td>LEXUS</td>\n",
              "      <td>RX 450</td>\n",
              "      <td>2010</td>\n",
              "      <td>Jeep</td>\n",
              "      <td>Yes</td>\n",
              "      <td>Hybrid</td>\n",
              "      <td>3.5</td>\n",
              "      <td>186005 km</td>\n",
              "      <td>6.0</td>\n",
              "      <td>Automatic</td>\n",
              "      <td>4x4</td>\n",
              "      <td>04-May</td>\n",
              "      <td>Left wheel</td>\n",
              "      <td>Silver</td>\n",
              "      <td>12</td>\n",
              "    </tr>\n",
              "    <tr>\n",
              "      <th>1</th>\n",
              "      <td>44731507</td>\n",
              "      <td>16621.0</td>\n",
              "      <td>1018</td>\n",
              "      <td>CHEVROLET</td>\n",
              "      <td>Equinox</td>\n",
              "      <td>2011</td>\n",
              "      <td>Jeep</td>\n",
              "      <td>No</td>\n",
              "      <td>Petrol</td>\n",
              "      <td>3</td>\n",
              "      <td>192000 km</td>\n",
              "      <td>6.0</td>\n",
              "      <td>Tiptronic</td>\n",
              "      <td>4x4</td>\n",
              "      <td>04-May</td>\n",
              "      <td>Left wheel</td>\n",
              "      <td>Black</td>\n",
              "      <td>8</td>\n",
              "    </tr>\n",
              "    <tr>\n",
              "      <th>2</th>\n",
              "      <td>45774419</td>\n",
              "      <td>8467.0</td>\n",
              "      <td>-</td>\n",
              "      <td>HONDA</td>\n",
              "      <td>FIT</td>\n",
              "      <td>2006</td>\n",
              "      <td>Hatchback</td>\n",
              "      <td>No</td>\n",
              "      <td>Petrol</td>\n",
              "      <td>1.3</td>\n",
              "      <td>200000 km</td>\n",
              "      <td>4.0</td>\n",
              "      <td>Variator</td>\n",
              "      <td>Front</td>\n",
              "      <td>04-May</td>\n",
              "      <td>Right-hand drive</td>\n",
              "      <td>Black</td>\n",
              "      <td>2</td>\n",
              "    </tr>\n",
              "    <tr>\n",
              "      <th>3</th>\n",
              "      <td>45769185</td>\n",
              "      <td>3607.0</td>\n",
              "      <td>862</td>\n",
              "      <td>FORD</td>\n",
              "      <td>Escape</td>\n",
              "      <td>2011</td>\n",
              "      <td>Jeep</td>\n",
              "      <td>Yes</td>\n",
              "      <td>Hybrid</td>\n",
              "      <td>2.5</td>\n",
              "      <td>168966 km</td>\n",
              "      <td>4.0</td>\n",
              "      <td>Automatic</td>\n",
              "      <td>4x4</td>\n",
              "      <td>04-May</td>\n",
              "      <td>Left wheel</td>\n",
              "      <td>White</td>\n",
              "      <td>0</td>\n",
              "    </tr>\n",
              "    <tr>\n",
              "      <th>4</th>\n",
              "      <td>45809263</td>\n",
              "      <td>11726.0</td>\n",
              "      <td>446</td>\n",
              "      <td>HONDA</td>\n",
              "      <td>FIT</td>\n",
              "      <td>2014</td>\n",
              "      <td>Hatchback</td>\n",
              "      <td>Yes</td>\n",
              "      <td>Petrol</td>\n",
              "      <td>1.3</td>\n",
              "      <td>91901 km</td>\n",
              "      <td>4.0</td>\n",
              "      <td>Automatic</td>\n",
              "      <td>Front</td>\n",
              "      <td>04-May</td>\n",
              "      <td>Left wheel</td>\n",
              "      <td>Silver</td>\n",
              "      <td>4</td>\n",
              "    </tr>\n",
              "    <tr>\n",
              "      <th>...</th>\n",
              "      <td>...</td>\n",
              "      <td>...</td>\n",
              "      <td>...</td>\n",
              "      <td>...</td>\n",
              "      <td>...</td>\n",
              "      <td>...</td>\n",
              "      <td>...</td>\n",
              "      <td>...</td>\n",
              "      <td>...</td>\n",
              "      <td>...</td>\n",
              "      <td>...</td>\n",
              "      <td>...</td>\n",
              "      <td>...</td>\n",
              "      <td>...</td>\n",
              "      <td>...</td>\n",
              "      <td>...</td>\n",
              "      <td>...</td>\n",
              "      <td>...</td>\n",
              "    </tr>\n",
              "    <tr>\n",
              "      <th>8240</th>\n",
              "      <td>44824410</td>\n",
              "      <td>NaN</td>\n",
              "      <td>1357</td>\n",
              "      <td>FIAT</td>\n",
              "      <td>Stilo</td>\n",
              "      <td>2004</td>\n",
              "      <td>Universal</td>\n",
              "      <td>No</td>\n",
              "      <td>Petrol</td>\n",
              "      <td>1.6</td>\n",
              "      <td>164000 km</td>\n",
              "      <td>4.0</td>\n",
              "      <td>Manual</td>\n",
              "      <td>Front</td>\n",
              "      <td>04-May</td>\n",
              "      <td>Left wheel</td>\n",
              "      <td>Blue</td>\n",
              "      <td>6</td>\n",
              "    </tr>\n",
              "    <tr>\n",
              "      <th>8241</th>\n",
              "      <td>45682346</td>\n",
              "      <td>NaN</td>\n",
              "      <td>-</td>\n",
              "      <td>BMW</td>\n",
              "      <td>528 F10</td>\n",
              "      <td>2012</td>\n",
              "      <td>Sedan</td>\n",
              "      <td>Yes</td>\n",
              "      <td>Petrol</td>\n",
              "      <td>2.8 Turbo</td>\n",
              "      <td>156000 km</td>\n",
              "      <td>4.0</td>\n",
              "      <td>Tiptronic</td>\n",
              "      <td>Front</td>\n",
              "      <td>04-May</td>\n",
              "      <td>Left wheel</td>\n",
              "      <td>Black</td>\n",
              "      <td>6</td>\n",
              "    </tr>\n",
              "    <tr>\n",
              "      <th>8242</th>\n",
              "      <td>45649860</td>\n",
              "      <td>NaN</td>\n",
              "      <td>1646</td>\n",
              "      <td>LEXUS</td>\n",
              "      <td>GX 460</td>\n",
              "      <td>2015</td>\n",
              "      <td>Jeep</td>\n",
              "      <td>Yes</td>\n",
              "      <td>Petrol</td>\n",
              "      <td>4.6</td>\n",
              "      <td>102907 km</td>\n",
              "      <td>8.0</td>\n",
              "      <td>Automatic</td>\n",
              "      <td>4x4</td>\n",
              "      <td>04-May</td>\n",
              "      <td>Left wheel</td>\n",
              "      <td>Black</td>\n",
              "      <td>0</td>\n",
              "    </tr>\n",
              "    <tr>\n",
              "      <th>8243</th>\n",
              "      <td>45809706</td>\n",
              "      <td>NaN</td>\n",
              "      <td>784</td>\n",
              "      <td>TOYOTA</td>\n",
              "      <td>Aqua</td>\n",
              "      <td>2017</td>\n",
              "      <td>Hatchback</td>\n",
              "      <td>Yes</td>\n",
              "      <td>Petrol</td>\n",
              "      <td>1.5</td>\n",
              "      <td>3000 km</td>\n",
              "      <td>4.0</td>\n",
              "      <td>Automatic</td>\n",
              "      <td>Front</td>\n",
              "      <td>04-May</td>\n",
              "      <td>Left wheel</td>\n",
              "      <td>Green</td>\n",
              "      <td>4</td>\n",
              "    </tr>\n",
              "    <tr>\n",
              "      <th>8244</th>\n",
              "      <td>45813163</td>\n",
              "      <td>NaN</td>\n",
              "      <td>448</td>\n",
              "      <td>HONDA</td>\n",
              "      <td>Insight</td>\n",
              "      <td>2012</td>\n",
              "      <td>Hatchback</td>\n",
              "      <td>Yes</td>\n",
              "      <td>Hybrid</td>\n",
              "      <td>1.3</td>\n",
              "      <td>321269 km</td>\n",
              "      <td>4.0</td>\n",
              "      <td>Automatic</td>\n",
              "      <td>Front</td>\n",
              "      <td>04-May</td>\n",
              "      <td>Left wheel</td>\n",
              "      <td>Red</td>\n",
              "      <td>12</td>\n",
              "    </tr>\n",
              "  </tbody>\n",
              "</table>\n",
              "<p>27482 rows × 18 columns</p>\n",
              "</div>"
            ],
            "text/plain": [
              "            ID    Price  Levy  ...             Wheel   Color  Airbags\n",
              "0     45654403  13328.0  1399  ...        Left wheel  Silver       12\n",
              "1     44731507  16621.0  1018  ...        Left wheel   Black        8\n",
              "2     45774419   8467.0     -  ...  Right-hand drive   Black        2\n",
              "3     45769185   3607.0   862  ...        Left wheel   White        0\n",
              "4     45809263  11726.0   446  ...        Left wheel  Silver        4\n",
              "...        ...      ...   ...  ...               ...     ...      ...\n",
              "8240  44824410      NaN  1357  ...        Left wheel    Blue        6\n",
              "8241  45682346      NaN     -  ...        Left wheel   Black        6\n",
              "8242  45649860      NaN  1646  ...        Left wheel   Black        0\n",
              "8243  45809706      NaN   784  ...        Left wheel   Green        4\n",
              "8244  45813163      NaN   448  ...        Left wheel     Red       12\n",
              "\n",
              "[27482 rows x 18 columns]"
            ]
          },
          "metadata": {
            "tags": []
          },
          "execution_count": 142
        }
      ]
    },
    {
      "cell_type": "code",
      "metadata": {
        "colab": {
          "base_uri": "https://localhost:8080/",
          "height": 660
        },
        "id": "sDHFaajsZDbL",
        "outputId": "431ac233-16fd-444b-8abb-a7f83ba69674"
      },
      "source": [
        "train"
      ],
      "execution_count": null,
      "outputs": [
        {
          "output_type": "execute_result",
          "data": {
            "text/html": [
              "<div>\n",
              "<style scoped>\n",
              "    .dataframe tbody tr th:only-of-type {\n",
              "        vertical-align: middle;\n",
              "    }\n",
              "\n",
              "    .dataframe tbody tr th {\n",
              "        vertical-align: top;\n",
              "    }\n",
              "\n",
              "    .dataframe thead th {\n",
              "        text-align: right;\n",
              "    }\n",
              "</style>\n",
              "<table border=\"1\" class=\"dataframe\">\n",
              "  <thead>\n",
              "    <tr style=\"text-align: right;\">\n",
              "      <th></th>\n",
              "      <th>ID</th>\n",
              "      <th>Price</th>\n",
              "      <th>Levy</th>\n",
              "      <th>Manufacturer</th>\n",
              "      <th>Model</th>\n",
              "      <th>Prod. year</th>\n",
              "      <th>Category</th>\n",
              "      <th>Leather interior</th>\n",
              "      <th>Fuel type</th>\n",
              "      <th>Engine volume</th>\n",
              "      <th>Mileage</th>\n",
              "      <th>Cylinders</th>\n",
              "      <th>Gear box type</th>\n",
              "      <th>Drive wheels</th>\n",
              "      <th>Doors</th>\n",
              "      <th>Wheel</th>\n",
              "      <th>Color</th>\n",
              "      <th>Airbags</th>\n",
              "    </tr>\n",
              "  </thead>\n",
              "  <tbody>\n",
              "    <tr>\n",
              "      <th>0</th>\n",
              "      <td>45654403</td>\n",
              "      <td>13328</td>\n",
              "      <td>1399</td>\n",
              "      <td>LEXUS</td>\n",
              "      <td>RX 450</td>\n",
              "      <td>2010</td>\n",
              "      <td>Jeep</td>\n",
              "      <td>Yes</td>\n",
              "      <td>Hybrid</td>\n",
              "      <td>3.5</td>\n",
              "      <td>186005 km</td>\n",
              "      <td>6.0</td>\n",
              "      <td>Automatic</td>\n",
              "      <td>4x4</td>\n",
              "      <td>04-May</td>\n",
              "      <td>Left wheel</td>\n",
              "      <td>Silver</td>\n",
              "      <td>12</td>\n",
              "    </tr>\n",
              "    <tr>\n",
              "      <th>1</th>\n",
              "      <td>44731507</td>\n",
              "      <td>16621</td>\n",
              "      <td>1018</td>\n",
              "      <td>CHEVROLET</td>\n",
              "      <td>Equinox</td>\n",
              "      <td>2011</td>\n",
              "      <td>Jeep</td>\n",
              "      <td>No</td>\n",
              "      <td>Petrol</td>\n",
              "      <td>3</td>\n",
              "      <td>192000 km</td>\n",
              "      <td>6.0</td>\n",
              "      <td>Tiptronic</td>\n",
              "      <td>4x4</td>\n",
              "      <td>04-May</td>\n",
              "      <td>Left wheel</td>\n",
              "      <td>Black</td>\n",
              "      <td>8</td>\n",
              "    </tr>\n",
              "    <tr>\n",
              "      <th>2</th>\n",
              "      <td>45774419</td>\n",
              "      <td>8467</td>\n",
              "      <td>-</td>\n",
              "      <td>HONDA</td>\n",
              "      <td>FIT</td>\n",
              "      <td>2006</td>\n",
              "      <td>Hatchback</td>\n",
              "      <td>No</td>\n",
              "      <td>Petrol</td>\n",
              "      <td>1.3</td>\n",
              "      <td>200000 km</td>\n",
              "      <td>4.0</td>\n",
              "      <td>Variator</td>\n",
              "      <td>Front</td>\n",
              "      <td>04-May</td>\n",
              "      <td>Right-hand drive</td>\n",
              "      <td>Black</td>\n",
              "      <td>2</td>\n",
              "    </tr>\n",
              "    <tr>\n",
              "      <th>3</th>\n",
              "      <td>45769185</td>\n",
              "      <td>3607</td>\n",
              "      <td>862</td>\n",
              "      <td>FORD</td>\n",
              "      <td>Escape</td>\n",
              "      <td>2011</td>\n",
              "      <td>Jeep</td>\n",
              "      <td>Yes</td>\n",
              "      <td>Hybrid</td>\n",
              "      <td>2.5</td>\n",
              "      <td>168966 km</td>\n",
              "      <td>4.0</td>\n",
              "      <td>Automatic</td>\n",
              "      <td>4x4</td>\n",
              "      <td>04-May</td>\n",
              "      <td>Left wheel</td>\n",
              "      <td>White</td>\n",
              "      <td>0</td>\n",
              "    </tr>\n",
              "    <tr>\n",
              "      <th>4</th>\n",
              "      <td>45809263</td>\n",
              "      <td>11726</td>\n",
              "      <td>446</td>\n",
              "      <td>HONDA</td>\n",
              "      <td>FIT</td>\n",
              "      <td>2014</td>\n",
              "      <td>Hatchback</td>\n",
              "      <td>Yes</td>\n",
              "      <td>Petrol</td>\n",
              "      <td>1.3</td>\n",
              "      <td>91901 km</td>\n",
              "      <td>4.0</td>\n",
              "      <td>Automatic</td>\n",
              "      <td>Front</td>\n",
              "      <td>04-May</td>\n",
              "      <td>Left wheel</td>\n",
              "      <td>Silver</td>\n",
              "      <td>4</td>\n",
              "    </tr>\n",
              "    <tr>\n",
              "      <th>...</th>\n",
              "      <td>...</td>\n",
              "      <td>...</td>\n",
              "      <td>...</td>\n",
              "      <td>...</td>\n",
              "      <td>...</td>\n",
              "      <td>...</td>\n",
              "      <td>...</td>\n",
              "      <td>...</td>\n",
              "      <td>...</td>\n",
              "      <td>...</td>\n",
              "      <td>...</td>\n",
              "      <td>...</td>\n",
              "      <td>...</td>\n",
              "      <td>...</td>\n",
              "      <td>...</td>\n",
              "      <td>...</td>\n",
              "      <td>...</td>\n",
              "      <td>...</td>\n",
              "    </tr>\n",
              "    <tr>\n",
              "      <th>19232</th>\n",
              "      <td>45798355</td>\n",
              "      <td>8467</td>\n",
              "      <td>-</td>\n",
              "      <td>MERCEDES-BENZ</td>\n",
              "      <td>CLK 200</td>\n",
              "      <td>1999</td>\n",
              "      <td>Coupe</td>\n",
              "      <td>Yes</td>\n",
              "      <td>CNG</td>\n",
              "      <td>2.0 Turbo</td>\n",
              "      <td>300000 km</td>\n",
              "      <td>4.0</td>\n",
              "      <td>Manual</td>\n",
              "      <td>Rear</td>\n",
              "      <td>02-Mar</td>\n",
              "      <td>Left wheel</td>\n",
              "      <td>Silver</td>\n",
              "      <td>5</td>\n",
              "    </tr>\n",
              "    <tr>\n",
              "      <th>19233</th>\n",
              "      <td>45778856</td>\n",
              "      <td>15681</td>\n",
              "      <td>831</td>\n",
              "      <td>HYUNDAI</td>\n",
              "      <td>Sonata</td>\n",
              "      <td>2011</td>\n",
              "      <td>Sedan</td>\n",
              "      <td>Yes</td>\n",
              "      <td>Petrol</td>\n",
              "      <td>2.4</td>\n",
              "      <td>161600 km</td>\n",
              "      <td>4.0</td>\n",
              "      <td>Tiptronic</td>\n",
              "      <td>Front</td>\n",
              "      <td>04-May</td>\n",
              "      <td>Left wheel</td>\n",
              "      <td>Red</td>\n",
              "      <td>8</td>\n",
              "    </tr>\n",
              "    <tr>\n",
              "      <th>19234</th>\n",
              "      <td>45804997</td>\n",
              "      <td>26108</td>\n",
              "      <td>836</td>\n",
              "      <td>HYUNDAI</td>\n",
              "      <td>Tucson</td>\n",
              "      <td>2010</td>\n",
              "      <td>Jeep</td>\n",
              "      <td>Yes</td>\n",
              "      <td>Diesel</td>\n",
              "      <td>2</td>\n",
              "      <td>116365 km</td>\n",
              "      <td>4.0</td>\n",
              "      <td>Automatic</td>\n",
              "      <td>Front</td>\n",
              "      <td>04-May</td>\n",
              "      <td>Left wheel</td>\n",
              "      <td>Grey</td>\n",
              "      <td>4</td>\n",
              "    </tr>\n",
              "    <tr>\n",
              "      <th>19235</th>\n",
              "      <td>45793526</td>\n",
              "      <td>5331</td>\n",
              "      <td>1288</td>\n",
              "      <td>CHEVROLET</td>\n",
              "      <td>Captiva</td>\n",
              "      <td>2007</td>\n",
              "      <td>Jeep</td>\n",
              "      <td>Yes</td>\n",
              "      <td>Diesel</td>\n",
              "      <td>2</td>\n",
              "      <td>51258 km</td>\n",
              "      <td>4.0</td>\n",
              "      <td>Automatic</td>\n",
              "      <td>Front</td>\n",
              "      <td>04-May</td>\n",
              "      <td>Left wheel</td>\n",
              "      <td>Black</td>\n",
              "      <td>4</td>\n",
              "    </tr>\n",
              "    <tr>\n",
              "      <th>19236</th>\n",
              "      <td>45813273</td>\n",
              "      <td>470</td>\n",
              "      <td>753</td>\n",
              "      <td>HYUNDAI</td>\n",
              "      <td>Sonata</td>\n",
              "      <td>2012</td>\n",
              "      <td>Sedan</td>\n",
              "      <td>Yes</td>\n",
              "      <td>Hybrid</td>\n",
              "      <td>2.4</td>\n",
              "      <td>186923 km</td>\n",
              "      <td>4.0</td>\n",
              "      <td>Automatic</td>\n",
              "      <td>Front</td>\n",
              "      <td>04-May</td>\n",
              "      <td>Left wheel</td>\n",
              "      <td>White</td>\n",
              "      <td>12</td>\n",
              "    </tr>\n",
              "  </tbody>\n",
              "</table>\n",
              "<p>19237 rows × 18 columns</p>\n",
              "</div>"
            ],
            "text/plain": [
              "             ID  Price  Levy  ...             Wheel   Color  Airbags\n",
              "0      45654403  13328  1399  ...        Left wheel  Silver       12\n",
              "1      44731507  16621  1018  ...        Left wheel   Black        8\n",
              "2      45774419   8467     -  ...  Right-hand drive   Black        2\n",
              "3      45769185   3607   862  ...        Left wheel   White        0\n",
              "4      45809263  11726   446  ...        Left wheel  Silver        4\n",
              "...         ...    ...   ...  ...               ...     ...      ...\n",
              "19232  45798355   8467     -  ...        Left wheel  Silver        5\n",
              "19233  45778856  15681   831  ...        Left wheel     Red        8\n",
              "19234  45804997  26108   836  ...        Left wheel    Grey        4\n",
              "19235  45793526   5331  1288  ...        Left wheel   Black        4\n",
              "19236  45813273    470   753  ...        Left wheel   White       12\n",
              "\n",
              "[19237 rows x 18 columns]"
            ]
          },
          "metadata": {
            "tags": []
          },
          "execution_count": 143
        }
      ]
    },
    {
      "cell_type": "code",
      "metadata": {
        "id": "eBCay10KZjWD"
      },
      "source": [
        ""
      ],
      "execution_count": null,
      "outputs": []
    }
  ]
}