{
  "nbformat": 4,
  "nbformat_minor": 0,
  "metadata": {
    "colab": {
      "name": "compete1.ipynb",
      "provenance": []
    },
    "kernelspec": {
      "name": "python3",
      "display_name": "Python 3"
    },
    "language_info": {
      "name": "python"
    }
  },
  "cells": [
    {
      "cell_type": "code",
      "metadata": {
        "colab": {
          "base_uri": "https://localhost:8080/"
        },
        "id": "ucFlO9_EpRYl",
        "outputId": "3a619d85-735a-4563-8add-956fb96b3302"
      },
      "source": [
        "from google.colab import drive\n",
        "drive.mount('/content/gdrive')"
      ],
      "execution_count": null,
      "outputs": [
        {
          "output_type": "stream",
          "text": [
            "Drive already mounted at /content/gdrive; to attempt to forcibly remount, call drive.mount(\"/content/gdrive\", force_remount=True).\n"
          ],
          "name": "stdout"
        }
      ]
    },
    {
      "cell_type": "code",
      "metadata": {
        "id": "6ikLAPeOdviU"
      },
      "source": [
        "#!pip install category_encoders"
      ],
      "execution_count": null,
      "outputs": []
    },
    {
      "cell_type": "code",
      "metadata": {
        "id": "GGL8nz5GpUVM"
      },
      "source": [
        "import pandas as pd\n",
        "import numpy as np\n",
        "import matplotlib.pyplot as plt\n",
        "import plotly.express as px\n",
        "\n",
        "from sklearn.preprocessing import LabelEncoder\n",
        "from sklearn.compose import ColumnTransformer\n",
        "from sklearn.preprocessing import OneHotEncoder\n",
        "import category_encoders as ce\n",
        "from sklearn.ensemble import RandomForestRegressor\n",
        "from sklearn.preprocessing import OneHotEncoder, LabelEncoder\n",
        "from sklearn.metrics import mean_squared_log_error, r2_score, mean_squared_error\n",
        "from sklearn.utils import shuffle\n",
        "from sklearn.model_selection import train_test_split\n",
        "\n",
        "SEED = 42"
      ],
      "execution_count": null,
      "outputs": []
    },
    {
      "cell_type": "code",
      "metadata": {
        "colab": {
          "base_uri": "https://localhost:8080/"
        },
        "id": "Z4oE7nOapkFv",
        "outputId": "dd0ce9e3-f34d-4f0f-c841-78d17c040833"
      },
      "source": [
        "cd gdrive/MyDrive"
      ],
      "execution_count": null,
      "outputs": [
        {
          "output_type": "stream",
          "text": [
            "/content/gdrive/MyDrive\n"
          ],
          "name": "stdout"
        }
      ]
    },
    {
      "cell_type": "code",
      "metadata": {
        "id": "KDAQCT2GpfUK"
      },
      "source": [
        "train = pd.read_csv(\"train.csv\")\n",
        "test = pd.read_csv(\"test.csv\")\n",
        "df_test = pd.read_csv(\"test.csv\")\n",
        "df_train = pd.read_csv(\"train.csv\")"
      ],
      "execution_count": null,
      "outputs": []
    },
    {
      "cell_type": "code",
      "metadata": {
        "colab": {
          "base_uri": "https://localhost:8080/"
        },
        "id": "3Oii6mWXp6tM",
        "outputId": "f7b17547-0581-44f4-993d-0a09d9409cfc"
      },
      "source": [
        "df_test.columns"
      ],
      "execution_count": null,
      "outputs": [
        {
          "output_type": "execute_result",
          "data": {
            "text/plain": [
              "Index(['ID', 'Levy', 'Manufacturer', 'Model', 'Prod. year', 'Category',\n",
              "       'Leather interior', 'Fuel type', 'Engine volume', 'Mileage',\n",
              "       'Cylinders', 'Gear box type', 'Drive wheels', 'Doors', 'Wheel', 'Color',\n",
              "       'Airbags', 'Price'],\n",
              "      dtype='object')"
            ]
          },
          "metadata": {
            "tags": []
          },
          "execution_count": 6
        }
      ]
    },
    {
      "cell_type": "code",
      "metadata": {
        "id": "tJl9qbp7p9m8"
      },
      "source": [
        "features = ['ID', 'Levy', 'Manufacturer', 'Model', 'Prod. year', 'Category',\n",
        "       'Leather interior', 'Fuel type', 'Engine volume', 'Mileage',\n",
        "       'Cylinders', 'Gear box type', 'Drive wheels', 'Doors', 'Wheel', 'Color',\n",
        "       'Airbags','Price']"
      ],
      "execution_count": null,
      "outputs": []
    },
    {
      "cell_type": "code",
      "metadata": {
        "id": "Om3CNtxFVGR-"
      },
      "source": [
        "train = train[features]\n",
        "test = test[features]"
      ],
      "execution_count": null,
      "outputs": []
    },
    {
      "cell_type": "code",
      "metadata": {
        "colab": {
          "base_uri": "https://localhost:8080/",
          "height": 419
        },
        "id": "rWJOgZiPphaB",
        "outputId": "1b807cae-1ecc-4e4f-d83b-2deeae72e30f"
      },
      "source": [
        "train[train[\"Levy\"] == \"-\"]"
      ],
      "execution_count": null,
      "outputs": [
        {
          "output_type": "execute_result",
          "data": {
            "text/html": [
              "<div>\n",
              "<style scoped>\n",
              "    .dataframe tbody tr th:only-of-type {\n",
              "        vertical-align: middle;\n",
              "    }\n",
              "\n",
              "    .dataframe tbody tr th {\n",
              "        vertical-align: top;\n",
              "    }\n",
              "\n",
              "    .dataframe thead th {\n",
              "        text-align: right;\n",
              "    }\n",
              "</style>\n",
              "<table border=\"1\" class=\"dataframe\">\n",
              "  <thead>\n",
              "    <tr style=\"text-align: right;\">\n",
              "      <th></th>\n",
              "      <th>ID</th>\n",
              "      <th>Levy</th>\n",
              "      <th>Manufacturer</th>\n",
              "      <th>Model</th>\n",
              "      <th>Prod. year</th>\n",
              "      <th>Category</th>\n",
              "      <th>Leather interior</th>\n",
              "      <th>Fuel type</th>\n",
              "      <th>Engine volume</th>\n",
              "      <th>Mileage</th>\n",
              "      <th>Cylinders</th>\n",
              "      <th>Gear box type</th>\n",
              "      <th>Drive wheels</th>\n",
              "      <th>Doors</th>\n",
              "      <th>Wheel</th>\n",
              "      <th>Color</th>\n",
              "      <th>Airbags</th>\n",
              "      <th>Price</th>\n",
              "    </tr>\n",
              "  </thead>\n",
              "  <tbody>\n",
              "    <tr>\n",
              "      <th>2</th>\n",
              "      <td>45774419</td>\n",
              "      <td>-</td>\n",
              "      <td>HONDA</td>\n",
              "      <td>FIT</td>\n",
              "      <td>2006</td>\n",
              "      <td>Hatchback</td>\n",
              "      <td>No</td>\n",
              "      <td>Petrol</td>\n",
              "      <td>1.3</td>\n",
              "      <td>200000 km</td>\n",
              "      <td>4.0</td>\n",
              "      <td>Variator</td>\n",
              "      <td>Front</td>\n",
              "      <td>04-May</td>\n",
              "      <td>Right-hand drive</td>\n",
              "      <td>Black</td>\n",
              "      <td>2</td>\n",
              "      <td>8467</td>\n",
              "    </tr>\n",
              "    <tr>\n",
              "      <th>9</th>\n",
              "      <td>45756839</td>\n",
              "      <td>-</td>\n",
              "      <td>LEXUS</td>\n",
              "      <td>RX 350</td>\n",
              "      <td>2007</td>\n",
              "      <td>Jeep</td>\n",
              "      <td>Yes</td>\n",
              "      <td>Petrol</td>\n",
              "      <td>3.5</td>\n",
              "      <td>128500 km</td>\n",
              "      <td>6.0</td>\n",
              "      <td>Automatic</td>\n",
              "      <td>4x4</td>\n",
              "      <td>04-May</td>\n",
              "      <td>Left wheel</td>\n",
              "      <td>Silver</td>\n",
              "      <td>12</td>\n",
              "      <td>26657</td>\n",
              "    </tr>\n",
              "    <tr>\n",
              "      <th>11</th>\n",
              "      <td>45814819</td>\n",
              "      <td>-</td>\n",
              "      <td>FORD</td>\n",
              "      <td>Transit</td>\n",
              "      <td>1999</td>\n",
              "      <td>Microbus</td>\n",
              "      <td>No</td>\n",
              "      <td>CNG</td>\n",
              "      <td>4</td>\n",
              "      <td>0 km</td>\n",
              "      <td>8.0</td>\n",
              "      <td>Manual</td>\n",
              "      <td>Rear</td>\n",
              "      <td>02-Mar</td>\n",
              "      <td>Left wheel</td>\n",
              "      <td>Blue</td>\n",
              "      <td>0</td>\n",
              "      <td>8781</td>\n",
              "    </tr>\n",
              "    <tr>\n",
              "      <th>12</th>\n",
              "      <td>45815568</td>\n",
              "      <td>-</td>\n",
              "      <td>OPEL</td>\n",
              "      <td>Vectra</td>\n",
              "      <td>1997</td>\n",
              "      <td>Goods wagon</td>\n",
              "      <td>No</td>\n",
              "      <td>CNG</td>\n",
              "      <td>1.6</td>\n",
              "      <td>350000 km</td>\n",
              "      <td>4.0</td>\n",
              "      <td>Manual</td>\n",
              "      <td>Front</td>\n",
              "      <td>04-May</td>\n",
              "      <td>Left wheel</td>\n",
              "      <td>White</td>\n",
              "      <td>4</td>\n",
              "      <td>3000</td>\n",
              "    </tr>\n",
              "    <tr>\n",
              "      <th>23</th>\n",
              "      <td>45814106</td>\n",
              "      <td>-</td>\n",
              "      <td>FORD</td>\n",
              "      <td>Transit</td>\n",
              "      <td>2001</td>\n",
              "      <td>Microbus</td>\n",
              "      <td>No</td>\n",
              "      <td>Diesel</td>\n",
              "      <td>2.0 Turbo</td>\n",
              "      <td>230000 km</td>\n",
              "      <td>4.0</td>\n",
              "      <td>Manual</td>\n",
              "      <td>Front</td>\n",
              "      <td>02-Mar</td>\n",
              "      <td>Left wheel</td>\n",
              "      <td>White</td>\n",
              "      <td>0</td>\n",
              "      <td>7840</td>\n",
              "    </tr>\n",
              "    <tr>\n",
              "      <th>...</th>\n",
              "      <td>...</td>\n",
              "      <td>...</td>\n",
              "      <td>...</td>\n",
              "      <td>...</td>\n",
              "      <td>...</td>\n",
              "      <td>...</td>\n",
              "      <td>...</td>\n",
              "      <td>...</td>\n",
              "      <td>...</td>\n",
              "      <td>...</td>\n",
              "      <td>...</td>\n",
              "      <td>...</td>\n",
              "      <td>...</td>\n",
              "      <td>...</td>\n",
              "      <td>...</td>\n",
              "      <td>...</td>\n",
              "      <td>...</td>\n",
              "      <td>...</td>\n",
              "    </tr>\n",
              "    <tr>\n",
              "      <th>19223</th>\n",
              "      <td>44571028</td>\n",
              "      <td>-</td>\n",
              "      <td>DODGE</td>\n",
              "      <td>Caliber</td>\n",
              "      <td>2008</td>\n",
              "      <td>Hatchback</td>\n",
              "      <td>No</td>\n",
              "      <td>Petrol</td>\n",
              "      <td>2.4</td>\n",
              "      <td>0 km</td>\n",
              "      <td>4.0</td>\n",
              "      <td>Automatic</td>\n",
              "      <td>Front</td>\n",
              "      <td>04-May</td>\n",
              "      <td>Left wheel</td>\n",
              "      <td>Blue</td>\n",
              "      <td>4</td>\n",
              "      <td>8781</td>\n",
              "    </tr>\n",
              "    <tr>\n",
              "      <th>19224</th>\n",
              "      <td>45768089</td>\n",
              "      <td>-</td>\n",
              "      <td>KIA</td>\n",
              "      <td>Optima ex</td>\n",
              "      <td>2014</td>\n",
              "      <td>Sedan</td>\n",
              "      <td>Yes</td>\n",
              "      <td>Petrol</td>\n",
              "      <td>2.4</td>\n",
              "      <td>35800 km</td>\n",
              "      <td>4.0</td>\n",
              "      <td>Automatic</td>\n",
              "      <td>Front</td>\n",
              "      <td>04-May</td>\n",
              "      <td>Left wheel</td>\n",
              "      <td>Black</td>\n",
              "      <td>12</td>\n",
              "      <td>19130</td>\n",
              "    </tr>\n",
              "    <tr>\n",
              "      <th>19226</th>\n",
              "      <td>45796788</td>\n",
              "      <td>-</td>\n",
              "      <td>NISSAN</td>\n",
              "      <td>Skyline</td>\n",
              "      <td>2003</td>\n",
              "      <td>Sedan</td>\n",
              "      <td>Yes</td>\n",
              "      <td>Petrol</td>\n",
              "      <td>3</td>\n",
              "      <td>220000 km</td>\n",
              "      <td>6.0</td>\n",
              "      <td>Tiptronic</td>\n",
              "      <td>Rear</td>\n",
              "      <td>04-May</td>\n",
              "      <td>Right-hand drive</td>\n",
              "      <td>White</td>\n",
              "      <td>0</td>\n",
              "      <td>7840</td>\n",
              "    </tr>\n",
              "    <tr>\n",
              "      <th>19229</th>\n",
              "      <td>39977395</td>\n",
              "      <td>-</td>\n",
              "      <td>TOYOTA</td>\n",
              "      <td>Prius</td>\n",
              "      <td>2008</td>\n",
              "      <td>Hatchback</td>\n",
              "      <td>No</td>\n",
              "      <td>Hybrid</td>\n",
              "      <td>1.5</td>\n",
              "      <td>150000 km</td>\n",
              "      <td>4.0</td>\n",
              "      <td>Automatic</td>\n",
              "      <td>Front</td>\n",
              "      <td>04-May</td>\n",
              "      <td>Left wheel</td>\n",
              "      <td>Silver</td>\n",
              "      <td>6</td>\n",
              "      <td>50</td>\n",
              "    </tr>\n",
              "    <tr>\n",
              "      <th>19232</th>\n",
              "      <td>45798355</td>\n",
              "      <td>-</td>\n",
              "      <td>MERCEDES-BENZ</td>\n",
              "      <td>CLK 200</td>\n",
              "      <td>1999</td>\n",
              "      <td>Coupe</td>\n",
              "      <td>Yes</td>\n",
              "      <td>CNG</td>\n",
              "      <td>2.0 Turbo</td>\n",
              "      <td>300000 km</td>\n",
              "      <td>4.0</td>\n",
              "      <td>Manual</td>\n",
              "      <td>Rear</td>\n",
              "      <td>02-Mar</td>\n",
              "      <td>Left wheel</td>\n",
              "      <td>Silver</td>\n",
              "      <td>5</td>\n",
              "      <td>8467</td>\n",
              "    </tr>\n",
              "  </tbody>\n",
              "</table>\n",
              "<p>5819 rows × 18 columns</p>\n",
              "</div>"
            ],
            "text/plain": [
              "             ID Levy   Manufacturer  ...   Color  Airbags  Price\n",
              "2      45774419    -          HONDA  ...   Black        2   8467\n",
              "9      45756839    -          LEXUS  ...  Silver       12  26657\n",
              "11     45814819    -           FORD  ...    Blue        0   8781\n",
              "12     45815568    -           OPEL  ...   White        4   3000\n",
              "23     45814106    -           FORD  ...   White        0   7840\n",
              "...         ...  ...            ...  ...     ...      ...    ...\n",
              "19223  44571028    -          DODGE  ...    Blue        4   8781\n",
              "19224  45768089    -            KIA  ...   Black       12  19130\n",
              "19226  45796788    -         NISSAN  ...   White        0   7840\n",
              "19229  39977395    -         TOYOTA  ...  Silver        6     50\n",
              "19232  45798355    -  MERCEDES-BENZ  ...  Silver        5   8467\n",
              "\n",
              "[5819 rows x 18 columns]"
            ]
          },
          "metadata": {
            "tags": []
          },
          "execution_count": 9
        }
      ]
    },
    {
      "cell_type": "code",
      "metadata": {
        "colab": {
          "base_uri": "https://localhost:8080/"
        },
        "id": "HN15KzdkpmRg",
        "outputId": "e6493b1f-735a-4f30-c323-524951b664cd"
      },
      "source": [
        "train[\"Manufacturer\"].nunique()"
      ],
      "execution_count": null,
      "outputs": [
        {
          "output_type": "execute_result",
          "data": {
            "text/plain": [
              "65"
            ]
          },
          "metadata": {
            "tags": []
          },
          "execution_count": 10
        }
      ]
    },
    {
      "cell_type": "code",
      "metadata": {
        "colab": {
          "base_uri": "https://localhost:8080/"
        },
        "id": "ReJn_q_nFJX_",
        "outputId": "933bcb46-ffa3-4ea7-a522-9d7f72d29f6c"
      },
      "source": [
        "train[\"Manufacturer\"].unique()"
      ],
      "execution_count": null,
      "outputs": [
        {
          "output_type": "execute_result",
          "data": {
            "text/plain": [
              "array(['LEXUS', 'CHEVROLET', 'HONDA', 'FORD', 'HYUNDAI', 'TOYOTA',\n",
              "       'MERCEDES-BENZ', 'OPEL', 'PORSCHE', 'BMW', 'JEEP', 'VOLKSWAGEN',\n",
              "       'AUDI', 'RENAULT', 'NISSAN', 'SUBARU', 'DAEWOO', 'KIA',\n",
              "       'MITSUBISHI', 'SSANGYONG', 'MAZDA', 'GMC', 'FIAT', 'INFINITI',\n",
              "       'ALFA ROMEO', 'SUZUKI', 'ACURA', 'LINCOLN', 'VAZ', 'GAZ',\n",
              "       'CITROEN', 'LAND ROVER', 'MINI', 'DODGE', 'CHRYSLER', 'JAGUAR',\n",
              "       'ISUZU', 'SKODA', 'DAIHATSU', 'BUICK', 'TESLA', 'CADILLAC',\n",
              "       'PEUGEOT', 'BENTLEY', 'VOLVO', 'სხვა', 'HAVAL', 'HUMMER', 'SCION',\n",
              "       'UAZ', 'MERCURY', 'ZAZ', 'ROVER', 'SEAT', 'LANCIA', 'MOSKVICH',\n",
              "       'MASERATI', 'FERRARI', 'SAAB', 'LAMBORGHINI', 'ROLLS-ROYCE',\n",
              "       'PONTIAC', 'SATURN', 'ASTON MARTIN', 'GREATWALL'], dtype=object)"
            ]
          },
          "metadata": {
            "tags": []
          },
          "execution_count": 11
        }
      ]
    },
    {
      "cell_type": "code",
      "metadata": {
        "colab": {
          "base_uri": "https://localhost:8080/",
          "height": 419
        },
        "id": "qNd7PLEqFJbE",
        "outputId": "4eaeb7f3-aa9e-41f1-9b4b-b8a78d5cc0b4"
      },
      "source": [
        "train[(train[\"Manufacturer\"] == \"LEXUS\") & (train[\"Levy\"] == \"-\")]"
      ],
      "execution_count": null,
      "outputs": [
        {
          "output_type": "execute_result",
          "data": {
            "text/html": [
              "<div>\n",
              "<style scoped>\n",
              "    .dataframe tbody tr th:only-of-type {\n",
              "        vertical-align: middle;\n",
              "    }\n",
              "\n",
              "    .dataframe tbody tr th {\n",
              "        vertical-align: top;\n",
              "    }\n",
              "\n",
              "    .dataframe thead th {\n",
              "        text-align: right;\n",
              "    }\n",
              "</style>\n",
              "<table border=\"1\" class=\"dataframe\">\n",
              "  <thead>\n",
              "    <tr style=\"text-align: right;\">\n",
              "      <th></th>\n",
              "      <th>ID</th>\n",
              "      <th>Levy</th>\n",
              "      <th>Manufacturer</th>\n",
              "      <th>Model</th>\n",
              "      <th>Prod. year</th>\n",
              "      <th>Category</th>\n",
              "      <th>Leather interior</th>\n",
              "      <th>Fuel type</th>\n",
              "      <th>Engine volume</th>\n",
              "      <th>Mileage</th>\n",
              "      <th>Cylinders</th>\n",
              "      <th>Gear box type</th>\n",
              "      <th>Drive wheels</th>\n",
              "      <th>Doors</th>\n",
              "      <th>Wheel</th>\n",
              "      <th>Color</th>\n",
              "      <th>Airbags</th>\n",
              "      <th>Price</th>\n",
              "    </tr>\n",
              "  </thead>\n",
              "  <tbody>\n",
              "    <tr>\n",
              "      <th>9</th>\n",
              "      <td>45756839</td>\n",
              "      <td>-</td>\n",
              "      <td>LEXUS</td>\n",
              "      <td>RX 350</td>\n",
              "      <td>2007</td>\n",
              "      <td>Jeep</td>\n",
              "      <td>Yes</td>\n",
              "      <td>Petrol</td>\n",
              "      <td>3.5</td>\n",
              "      <td>128500 km</td>\n",
              "      <td>6.0</td>\n",
              "      <td>Automatic</td>\n",
              "      <td>4x4</td>\n",
              "      <td>04-May</td>\n",
              "      <td>Left wheel</td>\n",
              "      <td>Silver</td>\n",
              "      <td>12</td>\n",
              "      <td>26657</td>\n",
              "    </tr>\n",
              "    <tr>\n",
              "      <th>249</th>\n",
              "      <td>45794250</td>\n",
              "      <td>-</td>\n",
              "      <td>LEXUS</td>\n",
              "      <td>GS 350</td>\n",
              "      <td>2013</td>\n",
              "      <td>Sedan</td>\n",
              "      <td>Yes</td>\n",
              "      <td>Petrol</td>\n",
              "      <td>3.5</td>\n",
              "      <td>56000 km</td>\n",
              "      <td>6.0</td>\n",
              "      <td>Tiptronic</td>\n",
              "      <td>Rear</td>\n",
              "      <td>04-May</td>\n",
              "      <td>Left wheel</td>\n",
              "      <td>Black</td>\n",
              "      <td>12</td>\n",
              "      <td>73071</td>\n",
              "    </tr>\n",
              "    <tr>\n",
              "      <th>455</th>\n",
              "      <td>45756444</td>\n",
              "      <td>-</td>\n",
              "      <td>LEXUS</td>\n",
              "      <td>NX 200</td>\n",
              "      <td>2017</td>\n",
              "      <td>Jeep</td>\n",
              "      <td>Yes</td>\n",
              "      <td>Petrol</td>\n",
              "      <td>2.0 Turbo</td>\n",
              "      <td>35000 km</td>\n",
              "      <td>4.0</td>\n",
              "      <td>Tiptronic</td>\n",
              "      <td>Front</td>\n",
              "      <td>04-May</td>\n",
              "      <td>Left wheel</td>\n",
              "      <td>Beige</td>\n",
              "      <td>12</td>\n",
              "      <td>79971</td>\n",
              "    </tr>\n",
              "    <tr>\n",
              "      <th>485</th>\n",
              "      <td>45781983</td>\n",
              "      <td>-</td>\n",
              "      <td>LEXUS</td>\n",
              "      <td>GX 470</td>\n",
              "      <td>2006</td>\n",
              "      <td>Jeep</td>\n",
              "      <td>Yes</td>\n",
              "      <td>CNG</td>\n",
              "      <td>4.7</td>\n",
              "      <td>180000 km</td>\n",
              "      <td>8.0</td>\n",
              "      <td>Automatic</td>\n",
              "      <td>4x4</td>\n",
              "      <td>04-May</td>\n",
              "      <td>Left wheel</td>\n",
              "      <td>Black</td>\n",
              "      <td>0</td>\n",
              "      <td>42337</td>\n",
              "    </tr>\n",
              "    <tr>\n",
              "      <th>603</th>\n",
              "      <td>45815375</td>\n",
              "      <td>-</td>\n",
              "      <td>LEXUS</td>\n",
              "      <td>RX 300</td>\n",
              "      <td>2002</td>\n",
              "      <td>Jeep</td>\n",
              "      <td>Yes</td>\n",
              "      <td>Petrol</td>\n",
              "      <td>3.0 Turbo</td>\n",
              "      <td>201000 km</td>\n",
              "      <td>6.0</td>\n",
              "      <td>Automatic</td>\n",
              "      <td>4x4</td>\n",
              "      <td>04-May</td>\n",
              "      <td>Left wheel</td>\n",
              "      <td>Silver</td>\n",
              "      <td>8</td>\n",
              "      <td>11917</td>\n",
              "    </tr>\n",
              "    <tr>\n",
              "      <th>...</th>\n",
              "      <td>...</td>\n",
              "      <td>...</td>\n",
              "      <td>...</td>\n",
              "      <td>...</td>\n",
              "      <td>...</td>\n",
              "      <td>...</td>\n",
              "      <td>...</td>\n",
              "      <td>...</td>\n",
              "      <td>...</td>\n",
              "      <td>...</td>\n",
              "      <td>...</td>\n",
              "      <td>...</td>\n",
              "      <td>...</td>\n",
              "      <td>...</td>\n",
              "      <td>...</td>\n",
              "      <td>...</td>\n",
              "      <td>...</td>\n",
              "      <td>...</td>\n",
              "    </tr>\n",
              "    <tr>\n",
              "      <th>18504</th>\n",
              "      <td>37904919</td>\n",
              "      <td>-</td>\n",
              "      <td>LEXUS</td>\n",
              "      <td>GX 460</td>\n",
              "      <td>2011</td>\n",
              "      <td>Jeep</td>\n",
              "      <td>Yes</td>\n",
              "      <td>Petrol</td>\n",
              "      <td>4.6</td>\n",
              "      <td>170000 km</td>\n",
              "      <td>8.0</td>\n",
              "      <td>Tiptronic</td>\n",
              "      <td>4x4</td>\n",
              "      <td>04-May</td>\n",
              "      <td>Left wheel</td>\n",
              "      <td>Black</td>\n",
              "      <td>12</td>\n",
              "      <td>100</td>\n",
              "    </tr>\n",
              "    <tr>\n",
              "      <th>18640</th>\n",
              "      <td>44080587</td>\n",
              "      <td>-</td>\n",
              "      <td>LEXUS</td>\n",
              "      <td>GX 460</td>\n",
              "      <td>2014</td>\n",
              "      <td>Jeep</td>\n",
              "      <td>Yes</td>\n",
              "      <td>Petrol</td>\n",
              "      <td>4.6</td>\n",
              "      <td>92800 km</td>\n",
              "      <td>8.0</td>\n",
              "      <td>Tiptronic</td>\n",
              "      <td>4x4</td>\n",
              "      <td>04-May</td>\n",
              "      <td>Left wheel</td>\n",
              "      <td>Black</td>\n",
              "      <td>10</td>\n",
              "      <td>111332</td>\n",
              "    </tr>\n",
              "    <tr>\n",
              "      <th>18696</th>\n",
              "      <td>45774513</td>\n",
              "      <td>-</td>\n",
              "      <td>LEXUS</td>\n",
              "      <td>RX 400 H</td>\n",
              "      <td>2008</td>\n",
              "      <td>Jeep</td>\n",
              "      <td>Yes</td>\n",
              "      <td>Hybrid</td>\n",
              "      <td>3.3</td>\n",
              "      <td>304000 km</td>\n",
              "      <td>6.0</td>\n",
              "      <td>Variator</td>\n",
              "      <td>4x4</td>\n",
              "      <td>04-May</td>\n",
              "      <td>Left wheel</td>\n",
              "      <td>Carnelian red</td>\n",
              "      <td>12</td>\n",
              "      <td>29793</td>\n",
              "    </tr>\n",
              "    <tr>\n",
              "      <th>19135</th>\n",
              "      <td>45787015</td>\n",
              "      <td>-</td>\n",
              "      <td>LEXUS</td>\n",
              "      <td>IS 250</td>\n",
              "      <td>2010</td>\n",
              "      <td>Sedan</td>\n",
              "      <td>Yes</td>\n",
              "      <td>Petrol</td>\n",
              "      <td>2.5</td>\n",
              "      <td>201600 km</td>\n",
              "      <td>6.0</td>\n",
              "      <td>Tiptronic</td>\n",
              "      <td>Rear</td>\n",
              "      <td>04-May</td>\n",
              "      <td>Left wheel</td>\n",
              "      <td>Black</td>\n",
              "      <td>8</td>\n",
              "      <td>22580</td>\n",
              "    </tr>\n",
              "    <tr>\n",
              "      <th>19161</th>\n",
              "      <td>45677230</td>\n",
              "      <td>-</td>\n",
              "      <td>LEXUS</td>\n",
              "      <td>RX 450 F SPORT</td>\n",
              "      <td>2012</td>\n",
              "      <td>Jeep</td>\n",
              "      <td>Yes</td>\n",
              "      <td>Hybrid</td>\n",
              "      <td>3.5</td>\n",
              "      <td>97000 km</td>\n",
              "      <td>6.0</td>\n",
              "      <td>Variator</td>\n",
              "      <td>4x4</td>\n",
              "      <td>04-May</td>\n",
              "      <td>Left wheel</td>\n",
              "      <td>Black</td>\n",
              "      <td>12</td>\n",
              "      <td>64290</td>\n",
              "    </tr>\n",
              "  </tbody>\n",
              "</table>\n",
              "<p>90 rows × 18 columns</p>\n",
              "</div>"
            ],
            "text/plain": [
              "             ID Levy Manufacturer  ...          Color  Airbags   Price\n",
              "9      45756839    -        LEXUS  ...         Silver       12   26657\n",
              "249    45794250    -        LEXUS  ...          Black       12   73071\n",
              "455    45756444    -        LEXUS  ...          Beige       12   79971\n",
              "485    45781983    -        LEXUS  ...          Black        0   42337\n",
              "603    45815375    -        LEXUS  ...         Silver        8   11917\n",
              "...         ...  ...          ...  ...            ...      ...     ...\n",
              "18504  37904919    -        LEXUS  ...          Black       12     100\n",
              "18640  44080587    -        LEXUS  ...          Black       10  111332\n",
              "18696  45774513    -        LEXUS  ...  Carnelian red       12   29793\n",
              "19135  45787015    -        LEXUS  ...          Black        8   22580\n",
              "19161  45677230    -        LEXUS  ...          Black       12   64290\n",
              "\n",
              "[90 rows x 18 columns]"
            ]
          },
          "metadata": {
            "tags": []
          },
          "execution_count": 12
        }
      ]
    },
    {
      "cell_type": "code",
      "metadata": {
        "id": "31HRnWl5bgOC"
      },
      "source": [
        "train.drop_duplicates(inplace = True)"
      ],
      "execution_count": null,
      "outputs": []
    },
    {
      "cell_type": "code",
      "metadata": {
        "colab": {
          "base_uri": "https://localhost:8080/",
          "height": 293
        },
        "id": "ZC5y9yKYFJdz",
        "outputId": "330b0778-2b0f-41d5-e03c-ecf171c0c817"
      },
      "source": [
        "plt.plot(train[\"Price\"])"
      ],
      "execution_count": null,
      "outputs": [
        {
          "output_type": "execute_result",
          "data": {
            "text/plain": [
              "[<matplotlib.lines.Line2D at 0x7f7f15db9410>]"
            ]
          },
          "metadata": {
            "tags": []
          },
          "execution_count": 14
        },
        {
          "output_type": "display_data",
          "data": {
            "image/png": "[encoded data removed]",
            "text/plain": [
              "<Figure size 432x288 with 1 Axes>"
            ]
          },
          "metadata": {
            "tags": [],
            "needs_background": "light"
          }
        }
      ]
    },
    {
      "cell_type": "code",
      "metadata": {
        "colab": {
          "base_uri": "https://localhost:8080/",
          "height": 419
        },
        "id": "qbIpCSLRHH8Z",
        "outputId": "d97b74ff-ce06-4e45-d0b8-fe9173a5cef3"
      },
      "source": [
        "train"
      ],
      "execution_count": null,
      "outputs": [
        {
          "output_type": "execute_result",
          "data": {
            "text/html": [
              "<div>\n",
              "<style scoped>\n",
              "    .dataframe tbody tr th:only-of-type {\n",
              "        vertical-align: middle;\n",
              "    }\n",
              "\n",
              "    .dataframe tbody tr th {\n",
              "        vertical-align: top;\n",
              "    }\n",
              "\n",
              "    .dataframe thead th {\n",
              "        text-align: right;\n",
              "    }\n",
              "</style>\n",
              "<table border=\"1\" class=\"dataframe\">\n",
              "  <thead>\n",
              "    <tr style=\"text-align: right;\">\n",
              "      <th></th>\n",
              "      <th>ID</th>\n",
              "      <th>Levy</th>\n",
              "      <th>Manufacturer</th>\n",
              "      <th>Model</th>\n",
              "      <th>Prod. year</th>\n",
              "      <th>Category</th>\n",
              "      <th>Leather interior</th>\n",
              "      <th>Fuel type</th>\n",
              "      <th>Engine volume</th>\n",
              "      <th>Mileage</th>\n",
              "      <th>Cylinders</th>\n",
              "      <th>Gear box type</th>\n",
              "      <th>Drive wheels</th>\n",
              "      <th>Doors</th>\n",
              "      <th>Wheel</th>\n",
              "      <th>Color</th>\n",
              "      <th>Airbags</th>\n",
              "      <th>Price</th>\n",
              "    </tr>\n",
              "  </thead>\n",
              "  <tbody>\n",
              "    <tr>\n",
              "      <th>0</th>\n",
              "      <td>45654403</td>\n",
              "      <td>1399</td>\n",
              "      <td>LEXUS</td>\n",
              "      <td>RX 450</td>\n",
              "      <td>2010</td>\n",
              "      <td>Jeep</td>\n",
              "      <td>Yes</td>\n",
              "      <td>Hybrid</td>\n",
              "      <td>3.5</td>\n",
              "      <td>186005 km</td>\n",
              "      <td>6.0</td>\n",
              "      <td>Automatic</td>\n",
              "      <td>4x4</td>\n",
              "      <td>04-May</td>\n",
              "      <td>Left wheel</td>\n",
              "      <td>Silver</td>\n",
              "      <td>12</td>\n",
              "      <td>13328</td>\n",
              "    </tr>\n",
              "    <tr>\n",
              "      <th>1</th>\n",
              "      <td>44731507</td>\n",
              "      <td>1018</td>\n",
              "      <td>CHEVROLET</td>\n",
              "      <td>Equinox</td>\n",
              "      <td>2011</td>\n",
              "      <td>Jeep</td>\n",
              "      <td>No</td>\n",
              "      <td>Petrol</td>\n",
              "      <td>3</td>\n",
              "      <td>192000 km</td>\n",
              "      <td>6.0</td>\n",
              "      <td>Tiptronic</td>\n",
              "      <td>4x4</td>\n",
              "      <td>04-May</td>\n",
              "      <td>Left wheel</td>\n",
              "      <td>Black</td>\n",
              "      <td>8</td>\n",
              "      <td>16621</td>\n",
              "    </tr>\n",
              "    <tr>\n",
              "      <th>2</th>\n",
              "      <td>45774419</td>\n",
              "      <td>-</td>\n",
              "      <td>HONDA</td>\n",
              "      <td>FIT</td>\n",
              "      <td>2006</td>\n",
              "      <td>Hatchback</td>\n",
              "      <td>No</td>\n",
              "      <td>Petrol</td>\n",
              "      <td>1.3</td>\n",
              "      <td>200000 km</td>\n",
              "      <td>4.0</td>\n",
              "      <td>Variator</td>\n",
              "      <td>Front</td>\n",
              "      <td>04-May</td>\n",
              "      <td>Right-hand drive</td>\n",
              "      <td>Black</td>\n",
              "      <td>2</td>\n",
              "      <td>8467</td>\n",
              "    </tr>\n",
              "    <tr>\n",
              "      <th>3</th>\n",
              "      <td>45769185</td>\n",
              "      <td>862</td>\n",
              "      <td>FORD</td>\n",
              "      <td>Escape</td>\n",
              "      <td>2011</td>\n",
              "      <td>Jeep</td>\n",
              "      <td>Yes</td>\n",
              "      <td>Hybrid</td>\n",
              "      <td>2.5</td>\n",
              "      <td>168966 km</td>\n",
              "      <td>4.0</td>\n",
              "      <td>Automatic</td>\n",
              "      <td>4x4</td>\n",
              "      <td>04-May</td>\n",
              "      <td>Left wheel</td>\n",
              "      <td>White</td>\n",
              "      <td>0</td>\n",
              "      <td>3607</td>\n",
              "    </tr>\n",
              "    <tr>\n",
              "      <th>4</th>\n",
              "      <td>45809263</td>\n",
              "      <td>446</td>\n",
              "      <td>HONDA</td>\n",
              "      <td>FIT</td>\n",
              "      <td>2014</td>\n",
              "      <td>Hatchback</td>\n",
              "      <td>Yes</td>\n",
              "      <td>Petrol</td>\n",
              "      <td>1.3</td>\n",
              "      <td>91901 km</td>\n",
              "      <td>4.0</td>\n",
              "      <td>Automatic</td>\n",
              "      <td>Front</td>\n",
              "      <td>04-May</td>\n",
              "      <td>Left wheel</td>\n",
              "      <td>Silver</td>\n",
              "      <td>4</td>\n",
              "      <td>11726</td>\n",
              "    </tr>\n",
              "    <tr>\n",
              "      <th>...</th>\n",
              "      <td>...</td>\n",
              "      <td>...</td>\n",
              "      <td>...</td>\n",
              "      <td>...</td>\n",
              "      <td>...</td>\n",
              "      <td>...</td>\n",
              "      <td>...</td>\n",
              "      <td>...</td>\n",
              "      <td>...</td>\n",
              "      <td>...</td>\n",
              "      <td>...</td>\n",
              "      <td>...</td>\n",
              "      <td>...</td>\n",
              "      <td>...</td>\n",
              "      <td>...</td>\n",
              "      <td>...</td>\n",
              "      <td>...</td>\n",
              "      <td>...</td>\n",
              "    </tr>\n",
              "    <tr>\n",
              "      <th>19232</th>\n",
              "      <td>45798355</td>\n",
              "      <td>-</td>\n",
              "      <td>MERCEDES-BENZ</td>\n",
              "      <td>CLK 200</td>\n",
              "      <td>1999</td>\n",
              "      <td>Coupe</td>\n",
              "      <td>Yes</td>\n",
              "      <td>CNG</td>\n",
              "      <td>2.0 Turbo</td>\n",
              "      <td>300000 km</td>\n",
              "      <td>4.0</td>\n",
              "      <td>Manual</td>\n",
              "      <td>Rear</td>\n",
              "      <td>02-Mar</td>\n",
              "      <td>Left wheel</td>\n",
              "      <td>Silver</td>\n",
              "      <td>5</td>\n",
              "      <td>8467</td>\n",
              "    </tr>\n",
              "    <tr>\n",
              "      <th>19233</th>\n",
              "      <td>45778856</td>\n",
              "      <td>831</td>\n",
              "      <td>HYUNDAI</td>\n",
              "      <td>Sonata</td>\n",
              "      <td>2011</td>\n",
              "      <td>Sedan</td>\n",
              "      <td>Yes</td>\n",
              "      <td>Petrol</td>\n",
              "      <td>2.4</td>\n",
              "      <td>161600 km</td>\n",
              "      <td>4.0</td>\n",
              "      <td>Tiptronic</td>\n",
              "      <td>Front</td>\n",
              "      <td>04-May</td>\n",
              "      <td>Left wheel</td>\n",
              "      <td>Red</td>\n",
              "      <td>8</td>\n",
              "      <td>15681</td>\n",
              "    </tr>\n",
              "    <tr>\n",
              "      <th>19234</th>\n",
              "      <td>45804997</td>\n",
              "      <td>836</td>\n",
              "      <td>HYUNDAI</td>\n",
              "      <td>Tucson</td>\n",
              "      <td>2010</td>\n",
              "      <td>Jeep</td>\n",
              "      <td>Yes</td>\n",
              "      <td>Diesel</td>\n",
              "      <td>2</td>\n",
              "      <td>116365 km</td>\n",
              "      <td>4.0</td>\n",
              "      <td>Automatic</td>\n",
              "      <td>Front</td>\n",
              "      <td>04-May</td>\n",
              "      <td>Left wheel</td>\n",
              "      <td>Grey</td>\n",
              "      <td>4</td>\n",
              "      <td>26108</td>\n",
              "    </tr>\n",
              "    <tr>\n",
              "      <th>19235</th>\n",
              "      <td>45793526</td>\n",
              "      <td>1288</td>\n",
              "      <td>CHEVROLET</td>\n",
              "      <td>Captiva</td>\n",
              "      <td>2007</td>\n",
              "      <td>Jeep</td>\n",
              "      <td>Yes</td>\n",
              "      <td>Diesel</td>\n",
              "      <td>2</td>\n",
              "      <td>51258 km</td>\n",
              "      <td>4.0</td>\n",
              "      <td>Automatic</td>\n",
              "      <td>Front</td>\n",
              "      <td>04-May</td>\n",
              "      <td>Left wheel</td>\n",
              "      <td>Black</td>\n",
              "      <td>4</td>\n",
              "      <td>5331</td>\n",
              "    </tr>\n",
              "    <tr>\n",
              "      <th>19236</th>\n",
              "      <td>45813273</td>\n",
              "      <td>753</td>\n",
              "      <td>HYUNDAI</td>\n",
              "      <td>Sonata</td>\n",
              "      <td>2012</td>\n",
              "      <td>Sedan</td>\n",
              "      <td>Yes</td>\n",
              "      <td>Hybrid</td>\n",
              "      <td>2.4</td>\n",
              "      <td>186923 km</td>\n",
              "      <td>4.0</td>\n",
              "      <td>Automatic</td>\n",
              "      <td>Front</td>\n",
              "      <td>04-May</td>\n",
              "      <td>Left wheel</td>\n",
              "      <td>White</td>\n",
              "      <td>12</td>\n",
              "      <td>470</td>\n",
              "    </tr>\n",
              "  </tbody>\n",
              "</table>\n",
              "<p>18924 rows × 18 columns</p>\n",
              "</div>"
            ],
            "text/plain": [
              "             ID  Levy   Manufacturer  ...   Color  Airbags  Price\n",
              "0      45654403  1399          LEXUS  ...  Silver       12  13328\n",
              "1      44731507  1018      CHEVROLET  ...   Black        8  16621\n",
              "2      45774419     -          HONDA  ...   Black        2   8467\n",
              "3      45769185   862           FORD  ...   White        0   3607\n",
              "4      45809263   446          HONDA  ...  Silver        4  11726\n",
              "...         ...   ...            ...  ...     ...      ...    ...\n",
              "19232  45798355     -  MERCEDES-BENZ  ...  Silver        5   8467\n",
              "19233  45778856   831        HYUNDAI  ...     Red        8  15681\n",
              "19234  45804997   836        HYUNDAI  ...    Grey        4  26108\n",
              "19235  45793526  1288      CHEVROLET  ...   Black        4   5331\n",
              "19236  45813273   753        HYUNDAI  ...   White       12    470\n",
              "\n",
              "[18924 rows x 18 columns]"
            ]
          },
          "metadata": {
            "tags": []
          },
          "execution_count": 15
        }
      ]
    },
    {
      "cell_type": "code",
      "metadata": {
        "colab": {
          "base_uri": "https://localhost:8080/"
        },
        "id": "PVaJ6VY4HKjR",
        "outputId": "6a99a9ae-0d0a-4f8c-a7f1-66a63a0ba658"
      },
      "source": [
        "train[\"Price\"].max()"
      ],
      "execution_count": null,
      "outputs": [
        {
          "output_type": "execute_result",
          "data": {
            "text/plain": [
              "26307500"
            ]
          },
          "metadata": {
            "tags": []
          },
          "execution_count": 16
        }
      ]
    },
    {
      "cell_type": "code",
      "metadata": {
        "colab": {
          "base_uri": "https://localhost:8080/"
        },
        "id": "LhzEktzRILMV",
        "outputId": "9080c3b2-8380-4fe7-c68d-ac5f3cb631f5"
      },
      "source": [
        "train[\"Price\"].min()"
      ],
      "execution_count": null,
      "outputs": [
        {
          "output_type": "execute_result",
          "data": {
            "text/plain": [
              "1"
            ]
          },
          "metadata": {
            "tags": []
          },
          "execution_count": 17
        }
      ]
    },
    {
      "cell_type": "code",
      "metadata": {
        "colab": {
          "base_uri": "https://localhost:8080/",
          "height": 80
        },
        "id": "mnd4p90RISM_",
        "outputId": "6bb24b7c-ccf3-4a21-b54e-2be920f490b4"
      },
      "source": [
        "train[train[\"Price\"] == 26307500]"
      ],
      "execution_count": null,
      "outputs": [
        {
          "output_type": "execute_result",
          "data": {
            "text/html": [
              "<div>\n",
              "<style scoped>\n",
              "    .dataframe tbody tr th:only-of-type {\n",
              "        vertical-align: middle;\n",
              "    }\n",
              "\n",
              "    .dataframe tbody tr th {\n",
              "        vertical-align: top;\n",
              "    }\n",
              "\n",
              "    .dataframe thead th {\n",
              "        text-align: right;\n",
              "    }\n",
              "</style>\n",
              "<table border=\"1\" class=\"dataframe\">\n",
              "  <thead>\n",
              "    <tr style=\"text-align: right;\">\n",
              "      <th></th>\n",
              "      <th>ID</th>\n",
              "      <th>Levy</th>\n",
              "      <th>Manufacturer</th>\n",
              "      <th>Model</th>\n",
              "      <th>Prod. year</th>\n",
              "      <th>Category</th>\n",
              "      <th>Leather interior</th>\n",
              "      <th>Fuel type</th>\n",
              "      <th>Engine volume</th>\n",
              "      <th>Mileage</th>\n",
              "      <th>Cylinders</th>\n",
              "      <th>Gear box type</th>\n",
              "      <th>Drive wheels</th>\n",
              "      <th>Doors</th>\n",
              "      <th>Wheel</th>\n",
              "      <th>Color</th>\n",
              "      <th>Airbags</th>\n",
              "      <th>Price</th>\n",
              "    </tr>\n",
              "  </thead>\n",
              "  <tbody>\n",
              "    <tr>\n",
              "      <th>16983</th>\n",
              "      <td>45812886</td>\n",
              "      <td>-</td>\n",
              "      <td>OPEL</td>\n",
              "      <td>Combo</td>\n",
              "      <td>1999</td>\n",
              "      <td>Goods wagon</td>\n",
              "      <td>No</td>\n",
              "      <td>Diesel</td>\n",
              "      <td>1.7</td>\n",
              "      <td>99999 km</td>\n",
              "      <td>4.0</td>\n",
              "      <td>Manual</td>\n",
              "      <td>Front</td>\n",
              "      <td>02-Mar</td>\n",
              "      <td>Left wheel</td>\n",
              "      <td>Blue</td>\n",
              "      <td>0</td>\n",
              "      <td>26307500</td>\n",
              "    </tr>\n",
              "  </tbody>\n",
              "</table>\n",
              "</div>"
            ],
            "text/plain": [
              "             ID Levy Manufacturer  Model  ...       Wheel Color Airbags     Price\n",
              "16983  45812886    -         OPEL  Combo  ...  Left wheel  Blue       0  26307500\n",
              "\n",
              "[1 rows x 18 columns]"
            ]
          },
          "metadata": {
            "tags": []
          },
          "execution_count": 18
        }
      ]
    },
    {
      "cell_type": "code",
      "metadata": {
        "colab": {
          "base_uri": "https://localhost:8080/",
          "height": 111
        },
        "id": "HRZsjRUPIXh-",
        "outputId": "7164df9d-345e-4421-cf9a-d04ffe6af778"
      },
      "source": [
        "train[train[\"Price\"] == 1]"
      ],
      "execution_count": null,
      "outputs": [
        {
          "output_type": "execute_result",
          "data": {
            "text/html": [
              "<div>\n",
              "<style scoped>\n",
              "    .dataframe tbody tr th:only-of-type {\n",
              "        vertical-align: middle;\n",
              "    }\n",
              "\n",
              "    .dataframe tbody tr th {\n",
              "        vertical-align: top;\n",
              "    }\n",
              "\n",
              "    .dataframe thead th {\n",
              "        text-align: right;\n",
              "    }\n",
              "</style>\n",
              "<table border=\"1\" class=\"dataframe\">\n",
              "  <thead>\n",
              "    <tr style=\"text-align: right;\">\n",
              "      <th></th>\n",
              "      <th>ID</th>\n",
              "      <th>Levy</th>\n",
              "      <th>Manufacturer</th>\n",
              "      <th>Model</th>\n",
              "      <th>Prod. year</th>\n",
              "      <th>Category</th>\n",
              "      <th>Leather interior</th>\n",
              "      <th>Fuel type</th>\n",
              "      <th>Engine volume</th>\n",
              "      <th>Mileage</th>\n",
              "      <th>Cylinders</th>\n",
              "      <th>Gear box type</th>\n",
              "      <th>Drive wheels</th>\n",
              "      <th>Doors</th>\n",
              "      <th>Wheel</th>\n",
              "      <th>Color</th>\n",
              "      <th>Airbags</th>\n",
              "      <th>Price</th>\n",
              "    </tr>\n",
              "  </thead>\n",
              "  <tbody>\n",
              "    <tr>\n",
              "      <th>7815</th>\n",
              "      <td>45765530</td>\n",
              "      <td>-</td>\n",
              "      <td>OPEL</td>\n",
              "      <td>Astra</td>\n",
              "      <td>1999</td>\n",
              "      <td>Sedan</td>\n",
              "      <td>Yes</td>\n",
              "      <td>Petrol</td>\n",
              "      <td>1.6</td>\n",
              "      <td>122231 km</td>\n",
              "      <td>4.0</td>\n",
              "      <td>Manual</td>\n",
              "      <td>Front</td>\n",
              "      <td>04-May</td>\n",
              "      <td>Left wheel</td>\n",
              "      <td>Silver</td>\n",
              "      <td>4</td>\n",
              "      <td>1</td>\n",
              "    </tr>\n",
              "    <tr>\n",
              "      <th>16992</th>\n",
              "      <td>45772201</td>\n",
              "      <td>1202</td>\n",
              "      <td>CHEVROLET</td>\n",
              "      <td>Lacetti</td>\n",
              "      <td>2006</td>\n",
              "      <td>Hatchback</td>\n",
              "      <td>No</td>\n",
              "      <td>Petrol</td>\n",
              "      <td>1.6</td>\n",
              "      <td>200000 km</td>\n",
              "      <td>4.0</td>\n",
              "      <td>Manual</td>\n",
              "      <td>Front</td>\n",
              "      <td>04-May</td>\n",
              "      <td>Left wheel</td>\n",
              "      <td>Black</td>\n",
              "      <td>2</td>\n",
              "      <td>1</td>\n",
              "    </tr>\n",
              "  </tbody>\n",
              "</table>\n",
              "</div>"
            ],
            "text/plain": [
              "             ID  Levy Manufacturer    Model  ...       Wheel   Color Airbags Price\n",
              "7815   45765530     -         OPEL    Astra  ...  Left wheel  Silver       4     1\n",
              "16992  45772201  1202    CHEVROLET  Lacetti  ...  Left wheel   Black       2     1\n",
              "\n",
              "[2 rows x 18 columns]"
            ]
          },
          "metadata": {
            "tags": []
          },
          "execution_count": 19
        }
      ]
    },
    {
      "cell_type": "code",
      "metadata": {
        "colab": {
          "base_uri": "https://localhost:8080/",
          "height": 204
        },
        "id": "FlYFyM9fwES5",
        "outputId": "6929025b-b7a7-4cd0-a5be-4cbf838300d4"
      },
      "source": [
        "train.head()"
      ],
      "execution_count": null,
      "outputs": [
        {
          "output_type": "execute_result",
          "data": {
            "text/html": [
              "<div>\n",
              "<style scoped>\n",
              "    .dataframe tbody tr th:only-of-type {\n",
              "        vertical-align: middle;\n",
              "    }\n",
              "\n",
              "    .dataframe tbody tr th {\n",
              "        vertical-align: top;\n",
              "    }\n",
              "\n",
              "    .dataframe thead th {\n",
              "        text-align: right;\n",
              "    }\n",
              "</style>\n",
              "<table border=\"1\" class=\"dataframe\">\n",
              "  <thead>\n",
              "    <tr style=\"text-align: right;\">\n",
              "      <th></th>\n",
              "      <th>ID</th>\n",
              "      <th>Levy</th>\n",
              "      <th>Manufacturer</th>\n",
              "      <th>Model</th>\n",
              "      <th>Prod. year</th>\n",
              "      <th>Category</th>\n",
              "      <th>Leather interior</th>\n",
              "      <th>Fuel type</th>\n",
              "      <th>Engine volume</th>\n",
              "      <th>Mileage</th>\n",
              "      <th>Cylinders</th>\n",
              "      <th>Gear box type</th>\n",
              "      <th>Drive wheels</th>\n",
              "      <th>Doors</th>\n",
              "      <th>Wheel</th>\n",
              "      <th>Color</th>\n",
              "      <th>Airbags</th>\n",
              "      <th>Price</th>\n",
              "    </tr>\n",
              "  </thead>\n",
              "  <tbody>\n",
              "    <tr>\n",
              "      <th>0</th>\n",
              "      <td>45654403</td>\n",
              "      <td>1399</td>\n",
              "      <td>LEXUS</td>\n",
              "      <td>RX 450</td>\n",
              "      <td>2010</td>\n",
              "      <td>Jeep</td>\n",
              "      <td>Yes</td>\n",
              "      <td>Hybrid</td>\n",
              "      <td>3.5</td>\n",
              "      <td>186005 km</td>\n",
              "      <td>6.0</td>\n",
              "      <td>Automatic</td>\n",
              "      <td>4x4</td>\n",
              "      <td>04-May</td>\n",
              "      <td>Left wheel</td>\n",
              "      <td>Silver</td>\n",
              "      <td>12</td>\n",
              "      <td>13328</td>\n",
              "    </tr>\n",
              "    <tr>\n",
              "      <th>1</th>\n",
              "      <td>44731507</td>\n",
              "      <td>1018</td>\n",
              "      <td>CHEVROLET</td>\n",
              "      <td>Equinox</td>\n",
              "      <td>2011</td>\n",
              "      <td>Jeep</td>\n",
              "      <td>No</td>\n",
              "      <td>Petrol</td>\n",
              "      <td>3</td>\n",
              "      <td>192000 km</td>\n",
              "      <td>6.0</td>\n",
              "      <td>Tiptronic</td>\n",
              "      <td>4x4</td>\n",
              "      <td>04-May</td>\n",
              "      <td>Left wheel</td>\n",
              "      <td>Black</td>\n",
              "      <td>8</td>\n",
              "      <td>16621</td>\n",
              "    </tr>\n",
              "    <tr>\n",
              "      <th>2</th>\n",
              "      <td>45774419</td>\n",
              "      <td>-</td>\n",
              "      <td>HONDA</td>\n",
              "      <td>FIT</td>\n",
              "      <td>2006</td>\n",
              "      <td>Hatchback</td>\n",
              "      <td>No</td>\n",
              "      <td>Petrol</td>\n",
              "      <td>1.3</td>\n",
              "      <td>200000 km</td>\n",
              "      <td>4.0</td>\n",
              "      <td>Variator</td>\n",
              "      <td>Front</td>\n",
              "      <td>04-May</td>\n",
              "      <td>Right-hand drive</td>\n",
              "      <td>Black</td>\n",
              "      <td>2</td>\n",
              "      <td>8467</td>\n",
              "    </tr>\n",
              "    <tr>\n",
              "      <th>3</th>\n",
              "      <td>45769185</td>\n",
              "      <td>862</td>\n",
              "      <td>FORD</td>\n",
              "      <td>Escape</td>\n",
              "      <td>2011</td>\n",
              "      <td>Jeep</td>\n",
              "      <td>Yes</td>\n",
              "      <td>Hybrid</td>\n",
              "      <td>2.5</td>\n",
              "      <td>168966 km</td>\n",
              "      <td>4.0</td>\n",
              "      <td>Automatic</td>\n",
              "      <td>4x4</td>\n",
              "      <td>04-May</td>\n",
              "      <td>Left wheel</td>\n",
              "      <td>White</td>\n",
              "      <td>0</td>\n",
              "      <td>3607</td>\n",
              "    </tr>\n",
              "    <tr>\n",
              "      <th>4</th>\n",
              "      <td>45809263</td>\n",
              "      <td>446</td>\n",
              "      <td>HONDA</td>\n",
              "      <td>FIT</td>\n",
              "      <td>2014</td>\n",
              "      <td>Hatchback</td>\n",
              "      <td>Yes</td>\n",
              "      <td>Petrol</td>\n",
              "      <td>1.3</td>\n",
              "      <td>91901 km</td>\n",
              "      <td>4.0</td>\n",
              "      <td>Automatic</td>\n",
              "      <td>Front</td>\n",
              "      <td>04-May</td>\n",
              "      <td>Left wheel</td>\n",
              "      <td>Silver</td>\n",
              "      <td>4</td>\n",
              "      <td>11726</td>\n",
              "    </tr>\n",
              "  </tbody>\n",
              "</table>\n",
              "</div>"
            ],
            "text/plain": [
              "         ID  Levy Manufacturer  ...   Color  Airbags  Price\n",
              "0  45654403  1399        LEXUS  ...  Silver       12  13328\n",
              "1  44731507  1018    CHEVROLET  ...   Black        8  16621\n",
              "2  45774419     -        HONDA  ...   Black        2   8467\n",
              "3  45769185   862         FORD  ...   White        0   3607\n",
              "4  45809263   446        HONDA  ...  Silver        4  11726\n",
              "\n",
              "[5 rows x 18 columns]"
            ]
          },
          "metadata": {
            "tags": []
          },
          "execution_count": 20
        }
      ]
    },
    {
      "cell_type": "code",
      "metadata": {
        "id": "dDEPDZZNyc0W"
      },
      "source": [
        "train[['Mileage']] = train[['Mileage']].replace(to_replace=r'([a-z/]+|[A-Z/]+)', value='', regex=True)\n",
        "train[\"Mileage\"] = train[\"Mileage\"].astype(\"str\").astype(\"int\")\n",
        "\n",
        "test[['Mileage']] = test[['Mileage']].replace(to_replace=r'([a-z/]+|[A-Z/]+)', value='', regex=True)\n",
        "test[\"Mileage\"] = test[\"Mileage\"].astype(\"str\").astype(\"int\")"
      ],
      "execution_count": null,
      "outputs": []
    },
    {
      "cell_type": "code",
      "metadata": {
        "colab": {
          "base_uri": "https://localhost:8080/",
          "height": 49
        },
        "id": "PzihkDg_zEt2",
        "outputId": "bfb73145-d9d7-4871-d53e-abf52d803a43"
      },
      "source": [
        "duplicateRowsDF = train[train.duplicated()]\n",
        "duplicateRowsDF"
      ],
      "execution_count": null,
      "outputs": [
        {
          "output_type": "execute_result",
          "data": {
            "text/html": [
              "<div>\n",
              "<style scoped>\n",
              "    .dataframe tbody tr th:only-of-type {\n",
              "        vertical-align: middle;\n",
              "    }\n",
              "\n",
              "    .dataframe tbody tr th {\n",
              "        vertical-align: top;\n",
              "    }\n",
              "\n",
              "    .dataframe thead th {\n",
              "        text-align: right;\n",
              "    }\n",
              "</style>\n",
              "<table border=\"1\" class=\"dataframe\">\n",
              "  <thead>\n",
              "    <tr style=\"text-align: right;\">\n",
              "      <th></th>\n",
              "      <th>ID</th>\n",
              "      <th>Levy</th>\n",
              "      <th>Manufacturer</th>\n",
              "      <th>Model</th>\n",
              "      <th>Prod. year</th>\n",
              "      <th>Category</th>\n",
              "      <th>Leather interior</th>\n",
              "      <th>Fuel type</th>\n",
              "      <th>Engine volume</th>\n",
              "      <th>Mileage</th>\n",
              "      <th>Cylinders</th>\n",
              "      <th>Gear box type</th>\n",
              "      <th>Drive wheels</th>\n",
              "      <th>Doors</th>\n",
              "      <th>Wheel</th>\n",
              "      <th>Color</th>\n",
              "      <th>Airbags</th>\n",
              "      <th>Price</th>\n",
              "    </tr>\n",
              "  </thead>\n",
              "  <tbody>\n",
              "  </tbody>\n",
              "</table>\n",
              "</div>"
            ],
            "text/plain": [
              "Empty DataFrame\n",
              "Columns: [ID, Levy, Manufacturer, Model, Prod. year, Category, Leather interior, Fuel type, Engine volume, Mileage, Cylinders, Gear box type, Drive wheels, Doors, Wheel, Color, Airbags, Price]\n",
              "Index: []"
            ]
          },
          "metadata": {
            "tags": []
          },
          "execution_count": 22
        }
      ]
    },
    {
      "cell_type": "code",
      "metadata": {
        "colab": {
          "base_uri": "https://localhost:8080/"
        },
        "id": "rhKaLfqUKExq",
        "outputId": "a09f0b94-325f-4550-c1c6-88e5669e6139"
      },
      "source": [
        "len(train)"
      ],
      "execution_count": null,
      "outputs": [
        {
          "output_type": "execute_result",
          "data": {
            "text/plain": [
              "18924"
            ]
          },
          "metadata": {
            "tags": []
          },
          "execution_count": 23
        }
      ]
    },
    {
      "cell_type": "code",
      "metadata": {
        "id": "l-vtAR_xNxH4"
      },
      "source": [
        "train[\"Cylinders\"] = train[\"Cylinders\"].astype(int)\n",
        "test[\"Cylinders\"] = test[\"Cylinders\"].astype(int)"
      ],
      "execution_count": null,
      "outputs": []
    },
    {
      "cell_type": "code",
      "metadata": {
        "colab": {
          "base_uri": "https://localhost:8080/"
        },
        "id": "f6kN55WLXEge",
        "outputId": "1e1282d2-e8a8-4727-9fa4-8d007a2851ae"
      },
      "source": [
        "train[\"Cylinders\"].nunique()"
      ],
      "execution_count": null,
      "outputs": [
        {
          "output_type": "execute_result",
          "data": {
            "text/plain": [
              "13"
            ]
          },
          "metadata": {
            "tags": []
          },
          "execution_count": 25
        }
      ]
    },
    {
      "cell_type": "code",
      "metadata": {
        "id": "KL58yuLjXEpK"
      },
      "source": [
        "train['Levy'] = train['Levy'].replace(\"-\", \"0\")\n",
        "test['Levy'] = test['Levy'].replace(\"-\", \"0\")"
      ],
      "execution_count": null,
      "outputs": []
    },
    {
      "cell_type": "code",
      "metadata": {
        "id": "4g9pK-JDat8B"
      },
      "source": [
        "train[\"Levy\"] = train[\"Levy\"].astype(\"str\").astype(\"int\")\n",
        "test[\"Levy\"] = test[\"Levy\"].astype(\"str\").astype(\"int\")"
      ],
      "execution_count": null,
      "outputs": []
    },
    {
      "cell_type": "code",
      "metadata": {
        "colab": {
          "base_uri": "https://localhost:8080/"
        },
        "id": "Gry74KfbcJ4B",
        "outputId": "566d2adb-0831-42c2-dff8-aef45e4b04a9"
      },
      "source": [
        "train.dtypes"
      ],
      "execution_count": null,
      "outputs": [
        {
          "output_type": "execute_result",
          "data": {
            "text/plain": [
              "ID                   int64\n",
              "Levy                 int64\n",
              "Manufacturer        object\n",
              "Model               object\n",
              "Prod. year           int64\n",
              "Category            object\n",
              "Leather interior    object\n",
              "Fuel type           object\n",
              "Engine volume       object\n",
              "Mileage              int64\n",
              "Cylinders            int64\n",
              "Gear box type       object\n",
              "Drive wheels        object\n",
              "Doors               object\n",
              "Wheel               object\n",
              "Color               object\n",
              "Airbags              int64\n",
              "Price                int64\n",
              "dtype: object"
            ]
          },
          "metadata": {
            "tags": []
          },
          "execution_count": 28
        }
      ]
    },
    {
      "cell_type": "code",
      "metadata": {
        "id": "QKb7byupcx8f"
      },
      "source": [
        "encoder=ce.OneHotEncoder(cols=[\"Manufacturer\", \"Model\", \"Category\", \"Fuel type\", \"Engine volume\", \"Color\"], handle_unknown='return_nan',return_df=True,use_cat_names=True)"
      ],
      "execution_count": null,
      "outputs": []
    },
    {
      "cell_type": "code",
      "metadata": {
        "colab": {
          "base_uri": "https://localhost:8080/"
        },
        "id": "KfZHJSiBdzqi",
        "outputId": "f374b73e-7cc9-4412-b162-14e6e840e8f0"
      },
      "source": [
        "train = encoder.fit_transform(train)\n",
        "test = encoder.fit_transform(test)"
      ],
      "execution_count": null,
      "outputs": [
        {
          "output_type": "stream",
          "text": [
            "/usr/local/lib/python3.7/dist-packages/category_encoders/utils.py:21: FutureWarning:\n",
            "\n",
            "is_categorical is deprecated and will be removed in a future version.  Use is_categorical_dtype instead\n",
            "\n",
            "/usr/local/lib/python3.7/dist-packages/category_encoders/utils.py:21: FutureWarning:\n",
            "\n",
            "is_categorical is deprecated and will be removed in a future version.  Use is_categorical_dtype instead\n",
            "\n"
          ],
          "name": "stderr"
        }
      ]
    },
    {
      "cell_type": "code",
      "metadata": {
        "colab": {
          "base_uri": "https://localhost:8080/"
        },
        "id": "mWTrPqQnd0BG",
        "outputId": "c3edc4ae-90b0-4094-b896-c14e63e68bcf"
      },
      "source": [
        "test[\"Gear box type\"].unique()"
      ],
      "execution_count": null,
      "outputs": [
        {
          "output_type": "execute_result",
          "data": {
            "text/plain": [
              "array(['Manual', 'Tiptronic', 'Automatic', 'Variator'], dtype=object)"
            ]
          },
          "metadata": {
            "tags": []
          },
          "execution_count": 31
        }
      ]
    },
    {
      "cell_type": "code",
      "metadata": {
        "id": "SnG-nD1bd0EJ"
      },
      "source": [
        "l = {\n",
        "    'Automatic' : 2,\n",
        "     'Tiptronic' : 4,\n",
        "     'Variator' : 3 ,\n",
        "     'Manual' : 1\n",
        "}"
      ],
      "execution_count": null,
      "outputs": []
    },
    {
      "cell_type": "code",
      "metadata": {
        "id": "uTcUFPdNd0H8"
      },
      "source": [
        "train[\"Gear box type\"] = train[\"Gear box type\"].map(l)\n",
        "test[\"Gear box type\"] = test[\"Gear box type\"].map(l)"
      ],
      "execution_count": null,
      "outputs": []
    },
    {
      "cell_type": "code",
      "metadata": {
        "colab": {
          "base_uri": "https://localhost:8080/"
        },
        "id": "HnQdu_evhJ8e",
        "outputId": "77a5b72a-d15e-489f-b762-67768fb6f71b"
      },
      "source": [
        "df_train.dtypes"
      ],
      "execution_count": null,
      "outputs": [
        {
          "output_type": "execute_result",
          "data": {
            "text/plain": [
              "ID                    int64\n",
              "Price                 int64\n",
              "Levy                 object\n",
              "Manufacturer         object\n",
              "Model                object\n",
              "Prod. year            int64\n",
              "Category             object\n",
              "Leather interior     object\n",
              "Fuel type            object\n",
              "Engine volume        object\n",
              "Mileage              object\n",
              "Cylinders           float64\n",
              "Gear box type        object\n",
              "Drive wheels         object\n",
              "Doors                object\n",
              "Wheel                object\n",
              "Color                object\n",
              "Airbags               int64\n",
              "dtype: object"
            ]
          },
          "metadata": {
            "tags": []
          },
          "execution_count": 34
        }
      ]
    },
    {
      "cell_type": "code",
      "metadata": {
        "id": "AD2rA8Vxi1GN"
      },
      "source": [
        "train.drop([\"ID\"], axis = 1, inplace = True)\n",
        "test.drop([\"ID\"], axis = 1, inplace = True)"
      ],
      "execution_count": null,
      "outputs": []
    },
    {
      "cell_type": "code",
      "metadata": {
        "id": "UFTXKcAxmDPx"
      },
      "source": [
        "train.drop([\"Drive wheels\"], axis = 1, inplace = True)\n",
        "test.drop([\"Drive wheels\"], axis = 1, inplace = True)"
      ],
      "execution_count": null,
      "outputs": []
    },
    {
      "cell_type": "code",
      "metadata": {
        "id": "kkQQA0_7ntMm"
      },
      "source": [
        "train.drop([\"Doors\"], axis = 1, inplace = True)\n",
        "test.drop([\"Doors\"], axis = 1, inplace = True)"
      ],
      "execution_count": null,
      "outputs": []
    },
    {
      "cell_type": "code",
      "metadata": {
        "id": "9aO39hHSoaVR"
      },
      "source": [
        "l = {\n",
        "    \"Yes\" : 1,\n",
        "     \"No\" : 0\n",
        "}"
      ],
      "execution_count": null,
      "outputs": []
    },
    {
      "cell_type": "code",
      "metadata": {
        "id": "UML7D8N4ooAq"
      },
      "source": [
        "train[\"Leather interior\"] = train[\"Leather interior\"].map(l)\n",
        "test[\"Leather interior\"] = test[\"Leather interior\"].map(l)"
      ],
      "execution_count": null,
      "outputs": []
    },
    {
      "cell_type": "code",
      "metadata": {
        "colab": {
          "base_uri": "https://localhost:8080/"
        },
        "id": "6cfiBVs-o3oo",
        "outputId": "bff0f23d-10cc-4842-9bdb-43bf4257a26c"
      },
      "source": [
        "train[\"Wheel\"].unique()"
      ],
      "execution_count": null,
      "outputs": [
        {
          "output_type": "execute_result",
          "data": {
            "text/plain": [
              "array(['Left wheel', 'Right-hand drive'], dtype=object)"
            ]
          },
          "metadata": {
            "tags": []
          },
          "execution_count": 40
        }
      ]
    },
    {
      "cell_type": "code",
      "metadata": {
        "id": "qj9jQghEo3rs"
      },
      "source": [
        "l = {\n",
        "    'Left wheel' : 1, \n",
        "     'Right-hand drive' : 2\n",
        "}"
      ],
      "execution_count": null,
      "outputs": []
    },
    {
      "cell_type": "code",
      "metadata": {
        "id": "Em20gH5FouAy"
      },
      "source": [
        "train[\"Wheel\"] = train[\"Wheel\"].map(l)\n",
        "test[\"Wheel\"] = test[\"Wheel\"].map(l)"
      ],
      "execution_count": null,
      "outputs": []
    },
    {
      "cell_type": "code",
      "metadata": {
        "colab": {
          "base_uri": "https://localhost:8080/",
          "height": 287
        },
        "id": "8FhSgstKpzFW",
        "outputId": "0a3bf690-aa6d-4d9e-adb3-9c3e25c9bac4"
      },
      "source": [
        "train.head()"
      ],
      "execution_count": null,
      "outputs": [
        {
          "output_type": "execute_result",
          "data": {
            "text/html": [
              "<div>\n",
              "<style scoped>\n",
              "    .dataframe tbody tr th:only-of-type {\n",
              "        vertical-align: middle;\n",
              "    }\n",
              "\n",
              "    .dataframe tbody tr th {\n",
              "        vertical-align: top;\n",
              "    }\n",
              "\n",
              "    .dataframe thead th {\n",
              "        text-align: right;\n",
              "    }\n",
              "</style>\n",
              "<table border=\"1\" class=\"dataframe\">\n",
              "  <thead>\n",
              "    <tr style=\"text-align: right;\">\n",
              "      <th></th>\n",
              "      <th>Levy</th>\n",
              "      <th>Manufacturer_LEXUS</th>\n",
              "      <th>Manufacturer_CHEVROLET</th>\n",
              "      <th>Manufacturer_HONDA</th>\n",
              "      <th>Manufacturer_FORD</th>\n",
              "      <th>Manufacturer_HYUNDAI</th>\n",
              "      <th>Manufacturer_TOYOTA</th>\n",
              "      <th>Manufacturer_MERCEDES-BENZ</th>\n",
              "      <th>Manufacturer_OPEL</th>\n",
              "      <th>Manufacturer_PORSCHE</th>\n",
              "      <th>Manufacturer_BMW</th>\n",
              "      <th>Manufacturer_JEEP</th>\n",
              "      <th>Manufacturer_VOLKSWAGEN</th>\n",
              "      <th>Manufacturer_AUDI</th>\n",
              "      <th>Manufacturer_RENAULT</th>\n",
              "      <th>Manufacturer_NISSAN</th>\n",
              "      <th>Manufacturer_SUBARU</th>\n",
              "      <th>Manufacturer_DAEWOO</th>\n",
              "      <th>Manufacturer_KIA</th>\n",
              "      <th>Manufacturer_MITSUBISHI</th>\n",
              "      <th>Manufacturer_SSANGYONG</th>\n",
              "      <th>Manufacturer_MAZDA</th>\n",
              "      <th>Manufacturer_GMC</th>\n",
              "      <th>Manufacturer_FIAT</th>\n",
              "      <th>Manufacturer_INFINITI</th>\n",
              "      <th>Manufacturer_ALFA ROMEO</th>\n",
              "      <th>Manufacturer_SUZUKI</th>\n",
              "      <th>Manufacturer_ACURA</th>\n",
              "      <th>Manufacturer_LINCOLN</th>\n",
              "      <th>Manufacturer_VAZ</th>\n",
              "      <th>Manufacturer_GAZ</th>\n",
              "      <th>Manufacturer_CITROEN</th>\n",
              "      <th>Manufacturer_LAND ROVER</th>\n",
              "      <th>Manufacturer_MINI</th>\n",
              "      <th>Manufacturer_DODGE</th>\n",
              "      <th>Manufacturer_CHRYSLER</th>\n",
              "      <th>Manufacturer_JAGUAR</th>\n",
              "      <th>Manufacturer_ISUZU</th>\n",
              "      <th>Manufacturer_SKODA</th>\n",
              "      <th>Manufacturer_DAIHATSU</th>\n",
              "      <th>...</th>\n",
              "      <th>Engine volume_0.1</th>\n",
              "      <th>Engine volume_1.0 Turbo</th>\n",
              "      <th>Engine volume_6.3</th>\n",
              "      <th>Engine volume_4.5 Turbo</th>\n",
              "      <th>Engine volume_0.8 Turbo</th>\n",
              "      <th>Engine volume_4.2 Turbo</th>\n",
              "      <th>Engine volume_3.1</th>\n",
              "      <th>Engine volume_5.0 Turbo</th>\n",
              "      <th>Engine volume_6.4</th>\n",
              "      <th>Engine volume_3.9</th>\n",
              "      <th>Engine volume_5.7 Turbo</th>\n",
              "      <th>Engine volume_0.9</th>\n",
              "      <th>Engine volume_0.4 Turbo</th>\n",
              "      <th>Engine volume_5.4 Turbo</th>\n",
              "      <th>Engine volume_0.3 Turbo</th>\n",
              "      <th>Engine volume_5.2</th>\n",
              "      <th>Engine volume_5.8</th>\n",
              "      <th>Engine volume_1.1 Turbo</th>\n",
              "      <th>Mileage</th>\n",
              "      <th>Cylinders</th>\n",
              "      <th>Gear box type</th>\n",
              "      <th>Wheel</th>\n",
              "      <th>Color_Silver</th>\n",
              "      <th>Color_Black</th>\n",
              "      <th>Color_White</th>\n",
              "      <th>Color_Grey</th>\n",
              "      <th>Color_Blue</th>\n",
              "      <th>Color_Green</th>\n",
              "      <th>Color_Red</th>\n",
              "      <th>Color_Sky blue</th>\n",
              "      <th>Color_Orange</th>\n",
              "      <th>Color_Yellow</th>\n",
              "      <th>Color_Brown</th>\n",
              "      <th>Color_Golden</th>\n",
              "      <th>Color_Beige</th>\n",
              "      <th>Color_Carnelian red</th>\n",
              "      <th>Color_Purple</th>\n",
              "      <th>Color_Pink</th>\n",
              "      <th>Airbags</th>\n",
              "      <th>Price</th>\n",
              "    </tr>\n",
              "  </thead>\n",
              "  <tbody>\n",
              "    <tr>\n",
              "      <th>0</th>\n",
              "      <td>1399</td>\n",
              "      <td>1.0</td>\n",
              "      <td>0.0</td>\n",
              "      <td>0.0</td>\n",
              "      <td>0.0</td>\n",
              "      <td>0.0</td>\n",
              "      <td>0.0</td>\n",
              "      <td>0.0</td>\n",
              "      <td>0.0</td>\n",
              "      <td>0.0</td>\n",
              "      <td>0.0</td>\n",
              "      <td>0.0</td>\n",
              "      <td>0.0</td>\n",
              "      <td>0.0</td>\n",
              "      <td>0.0</td>\n",
              "      <td>0.0</td>\n",
              "      <td>0.0</td>\n",
              "      <td>0.0</td>\n",
              "      <td>0.0</td>\n",
              "      <td>0.0</td>\n",
              "      <td>0.0</td>\n",
              "      <td>0.0</td>\n",
              "      <td>0.0</td>\n",
              "      <td>0.0</td>\n",
              "      <td>0.0</td>\n",
              "      <td>0.0</td>\n",
              "      <td>0.0</td>\n",
              "      <td>0.0</td>\n",
              "      <td>0.0</td>\n",
              "      <td>0.0</td>\n",
              "      <td>0.0</td>\n",
              "      <td>0.0</td>\n",
              "      <td>0.0</td>\n",
              "      <td>0.0</td>\n",
              "      <td>0.0</td>\n",
              "      <td>0.0</td>\n",
              "      <td>0.0</td>\n",
              "      <td>0.0</td>\n",
              "      <td>0.0</td>\n",
              "      <td>0.0</td>\n",
              "      <td>...</td>\n",
              "      <td>0.0</td>\n",
              "      <td>0.0</td>\n",
              "      <td>0.0</td>\n",
              "      <td>0.0</td>\n",
              "      <td>0.0</td>\n",
              "      <td>0.0</td>\n",
              "      <td>0.0</td>\n",
              "      <td>0.0</td>\n",
              "      <td>0.0</td>\n",
              "      <td>0.0</td>\n",
              "      <td>0.0</td>\n",
              "      <td>0.0</td>\n",
              "      <td>0.0</td>\n",
              "      <td>0.0</td>\n",
              "      <td>0.0</td>\n",
              "      <td>0.0</td>\n",
              "      <td>0.0</td>\n",
              "      <td>0.0</td>\n",
              "      <td>186005</td>\n",
              "      <td>6</td>\n",
              "      <td>2</td>\n",
              "      <td>1</td>\n",
              "      <td>1.0</td>\n",
              "      <td>0.0</td>\n",
              "      <td>0.0</td>\n",
              "      <td>0.0</td>\n",
              "      <td>0.0</td>\n",
              "      <td>0.0</td>\n",
              "      <td>0.0</td>\n",
              "      <td>0.0</td>\n",
              "      <td>0.0</td>\n",
              "      <td>0.0</td>\n",
              "      <td>0.0</td>\n",
              "      <td>0.0</td>\n",
              "      <td>0.0</td>\n",
              "      <td>0.0</td>\n",
              "      <td>0.0</td>\n",
              "      <td>0.0</td>\n",
              "      <td>12</td>\n",
              "      <td>13328</td>\n",
              "    </tr>\n",
              "    <tr>\n",
              "      <th>1</th>\n",
              "      <td>1018</td>\n",
              "      <td>0.0</td>\n",
              "      <td>1.0</td>\n",
              "      <td>0.0</td>\n",
              "      <td>0.0</td>\n",
              "      <td>0.0</td>\n",
              "      <td>0.0</td>\n",
              "      <td>0.0</td>\n",
              "      <td>0.0</td>\n",
              "      <td>0.0</td>\n",
              "      <td>0.0</td>\n",
              "      <td>0.0</td>\n",
              "      <td>0.0</td>\n",
              "      <td>0.0</td>\n",
              "      <td>0.0</td>\n",
              "      <td>0.0</td>\n",
              "      <td>0.0</td>\n",
              "      <td>0.0</td>\n",
              "      <td>0.0</td>\n",
              "      <td>0.0</td>\n",
              "      <td>0.0</td>\n",
              "      <td>0.0</td>\n",
              "      <td>0.0</td>\n",
              "      <td>0.0</td>\n",
              "      <td>0.0</td>\n",
              "      <td>0.0</td>\n",
              "      <td>0.0</td>\n",
              "      <td>0.0</td>\n",
              "      <td>0.0</td>\n",
              "      <td>0.0</td>\n",
              "      <td>0.0</td>\n",
              "      <td>0.0</td>\n",
              "      <td>0.0</td>\n",
              "      <td>0.0</td>\n",
              "      <td>0.0</td>\n",
              "      <td>0.0</td>\n",
              "      <td>0.0</td>\n",
              "      <td>0.0</td>\n",
              "      <td>0.0</td>\n",
              "      <td>0.0</td>\n",
              "      <td>...</td>\n",
              "      <td>0.0</td>\n",
              "      <td>0.0</td>\n",
              "      <td>0.0</td>\n",
              "      <td>0.0</td>\n",
              "      <td>0.0</td>\n",
              "      <td>0.0</td>\n",
              "      <td>0.0</td>\n",
              "      <td>0.0</td>\n",
              "      <td>0.0</td>\n",
              "      <td>0.0</td>\n",
              "      <td>0.0</td>\n",
              "      <td>0.0</td>\n",
              "      <td>0.0</td>\n",
              "      <td>0.0</td>\n",
              "      <td>0.0</td>\n",
              "      <td>0.0</td>\n",
              "      <td>0.0</td>\n",
              "      <td>0.0</td>\n",
              "      <td>192000</td>\n",
              "      <td>6</td>\n",
              "      <td>4</td>\n",
              "      <td>1</td>\n",
              "      <td>0.0</td>\n",
              "      <td>1.0</td>\n",
              "      <td>0.0</td>\n",
              "      <td>0.0</td>\n",
              "      <td>0.0</td>\n",
              "      <td>0.0</td>\n",
              "      <td>0.0</td>\n",
              "      <td>0.0</td>\n",
              "      <td>0.0</td>\n",
              "      <td>0.0</td>\n",
              "      <td>0.0</td>\n",
              "      <td>0.0</td>\n",
              "      <td>0.0</td>\n",
              "      <td>0.0</td>\n",
              "      <td>0.0</td>\n",
              "      <td>0.0</td>\n",
              "      <td>8</td>\n",
              "      <td>16621</td>\n",
              "    </tr>\n",
              "    <tr>\n",
              "      <th>2</th>\n",
              "      <td>0</td>\n",
              "      <td>0.0</td>\n",
              "      <td>0.0</td>\n",
              "      <td>1.0</td>\n",
              "      <td>0.0</td>\n",
              "      <td>0.0</td>\n",
              "      <td>0.0</td>\n",
              "      <td>0.0</td>\n",
              "      <td>0.0</td>\n",
              "      <td>0.0</td>\n",
              "      <td>0.0</td>\n",
              "      <td>0.0</td>\n",
              "      <td>0.0</td>\n",
              "      <td>0.0</td>\n",
              "      <td>0.0</td>\n",
              "      <td>0.0</td>\n",
              "      <td>0.0</td>\n",
              "      <td>0.0</td>\n",
              "      <td>0.0</td>\n",
              "      <td>0.0</td>\n",
              "      <td>0.0</td>\n",
              "      <td>0.0</td>\n",
              "      <td>0.0</td>\n",
              "      <td>0.0</td>\n",
              "      <td>0.0</td>\n",
              "      <td>0.0</td>\n",
              "      <td>0.0</td>\n",
              "      <td>0.0</td>\n",
              "      <td>0.0</td>\n",
              "      <td>0.0</td>\n",
              "      <td>0.0</td>\n",
              "      <td>0.0</td>\n",
              "      <td>0.0</td>\n",
              "      <td>0.0</td>\n",
              "      <td>0.0</td>\n",
              "      <td>0.0</td>\n",
              "      <td>0.0</td>\n",
              "      <td>0.0</td>\n",
              "      <td>0.0</td>\n",
              "      <td>0.0</td>\n",
              "      <td>...</td>\n",
              "      <td>0.0</td>\n",
              "      <td>0.0</td>\n",
              "      <td>0.0</td>\n",
              "      <td>0.0</td>\n",
              "      <td>0.0</td>\n",
              "      <td>0.0</td>\n",
              "      <td>0.0</td>\n",
              "      <td>0.0</td>\n",
              "      <td>0.0</td>\n",
              "      <td>0.0</td>\n",
              "      <td>0.0</td>\n",
              "      <td>0.0</td>\n",
              "      <td>0.0</td>\n",
              "      <td>0.0</td>\n",
              "      <td>0.0</td>\n",
              "      <td>0.0</td>\n",
              "      <td>0.0</td>\n",
              "      <td>0.0</td>\n",
              "      <td>200000</td>\n",
              "      <td>4</td>\n",
              "      <td>3</td>\n",
              "      <td>2</td>\n",
              "      <td>0.0</td>\n",
              "      <td>1.0</td>\n",
              "      <td>0.0</td>\n",
              "      <td>0.0</td>\n",
              "      <td>0.0</td>\n",
              "      <td>0.0</td>\n",
              "      <td>0.0</td>\n",
              "      <td>0.0</td>\n",
              "      <td>0.0</td>\n",
              "      <td>0.0</td>\n",
              "      <td>0.0</td>\n",
              "      <td>0.0</td>\n",
              "      <td>0.0</td>\n",
              "      <td>0.0</td>\n",
              "      <td>0.0</td>\n",
              "      <td>0.0</td>\n",
              "      <td>2</td>\n",
              "      <td>8467</td>\n",
              "    </tr>\n",
              "    <tr>\n",
              "      <th>3</th>\n",
              "      <td>862</td>\n",
              "      <td>0.0</td>\n",
              "      <td>0.0</td>\n",
              "      <td>0.0</td>\n",
              "      <td>1.0</td>\n",
              "      <td>0.0</td>\n",
              "      <td>0.0</td>\n",
              "      <td>0.0</td>\n",
              "      <td>0.0</td>\n",
              "      <td>0.0</td>\n",
              "      <td>0.0</td>\n",
              "      <td>0.0</td>\n",
              "      <td>0.0</td>\n",
              "      <td>0.0</td>\n",
              "      <td>0.0</td>\n",
              "      <td>0.0</td>\n",
              "      <td>0.0</td>\n",
              "      <td>0.0</td>\n",
              "      <td>0.0</td>\n",
              "      <td>0.0</td>\n",
              "      <td>0.0</td>\n",
              "      <td>0.0</td>\n",
              "      <td>0.0</td>\n",
              "      <td>0.0</td>\n",
              "      <td>0.0</td>\n",
              "      <td>0.0</td>\n",
              "      <td>0.0</td>\n",
              "      <td>0.0</td>\n",
              "      <td>0.0</td>\n",
              "      <td>0.0</td>\n",
              "      <td>0.0</td>\n",
              "      <td>0.0</td>\n",
              "      <td>0.0</td>\n",
              "      <td>0.0</td>\n",
              "      <td>0.0</td>\n",
              "      <td>0.0</td>\n",
              "      <td>0.0</td>\n",
              "      <td>0.0</td>\n",
              "      <td>0.0</td>\n",
              "      <td>0.0</td>\n",
              "      <td>...</td>\n",
              "      <td>0.0</td>\n",
              "      <td>0.0</td>\n",
              "      <td>0.0</td>\n",
              "      <td>0.0</td>\n",
              "      <td>0.0</td>\n",
              "      <td>0.0</td>\n",
              "      <td>0.0</td>\n",
              "      <td>0.0</td>\n",
              "      <td>0.0</td>\n",
              "      <td>0.0</td>\n",
              "      <td>0.0</td>\n",
              "      <td>0.0</td>\n",
              "      <td>0.0</td>\n",
              "      <td>0.0</td>\n",
              "      <td>0.0</td>\n",
              "      <td>0.0</td>\n",
              "      <td>0.0</td>\n",
              "      <td>0.0</td>\n",
              "      <td>168966</td>\n",
              "      <td>4</td>\n",
              "      <td>2</td>\n",
              "      <td>1</td>\n",
              "      <td>0.0</td>\n",
              "      <td>0.0</td>\n",
              "      <td>1.0</td>\n",
              "      <td>0.0</td>\n",
              "      <td>0.0</td>\n",
              "      <td>0.0</td>\n",
              "      <td>0.0</td>\n",
              "      <td>0.0</td>\n",
              "      <td>0.0</td>\n",
              "      <td>0.0</td>\n",
              "      <td>0.0</td>\n",
              "      <td>0.0</td>\n",
              "      <td>0.0</td>\n",
              "      <td>0.0</td>\n",
              "      <td>0.0</td>\n",
              "      <td>0.0</td>\n",
              "      <td>0</td>\n",
              "      <td>3607</td>\n",
              "    </tr>\n",
              "    <tr>\n",
              "      <th>4</th>\n",
              "      <td>446</td>\n",
              "      <td>0.0</td>\n",
              "      <td>0.0</td>\n",
              "      <td>1.0</td>\n",
              "      <td>0.0</td>\n",
              "      <td>0.0</td>\n",
              "      <td>0.0</td>\n",
              "      <td>0.0</td>\n",
              "      <td>0.0</td>\n",
              "      <td>0.0</td>\n",
              "      <td>0.0</td>\n",
              "      <td>0.0</td>\n",
              "      <td>0.0</td>\n",
              "      <td>0.0</td>\n",
              "      <td>0.0</td>\n",
              "      <td>0.0</td>\n",
              "      <td>0.0</td>\n",
              "      <td>0.0</td>\n",
              "      <td>0.0</td>\n",
              "      <td>0.0</td>\n",
              "      <td>0.0</td>\n",
              "      <td>0.0</td>\n",
              "      <td>0.0</td>\n",
              "      <td>0.0</td>\n",
              "      <td>0.0</td>\n",
              "      <td>0.0</td>\n",
              "      <td>0.0</td>\n",
              "      <td>0.0</td>\n",
              "      <td>0.0</td>\n",
              "      <td>0.0</td>\n",
              "      <td>0.0</td>\n",
              "      <td>0.0</td>\n",
              "      <td>0.0</td>\n",
              "      <td>0.0</td>\n",
              "      <td>0.0</td>\n",
              "      <td>0.0</td>\n",
              "      <td>0.0</td>\n",
              "      <td>0.0</td>\n",
              "      <td>0.0</td>\n",
              "      <td>0.0</td>\n",
              "      <td>...</td>\n",
              "      <td>0.0</td>\n",
              "      <td>0.0</td>\n",
              "      <td>0.0</td>\n",
              "      <td>0.0</td>\n",
              "      <td>0.0</td>\n",
              "      <td>0.0</td>\n",
              "      <td>0.0</td>\n",
              "      <td>0.0</td>\n",
              "      <td>0.0</td>\n",
              "      <td>0.0</td>\n",
              "      <td>0.0</td>\n",
              "      <td>0.0</td>\n",
              "      <td>0.0</td>\n",
              "      <td>0.0</td>\n",
              "      <td>0.0</td>\n",
              "      <td>0.0</td>\n",
              "      <td>0.0</td>\n",
              "      <td>0.0</td>\n",
              "      <td>91901</td>\n",
              "      <td>4</td>\n",
              "      <td>2</td>\n",
              "      <td>1</td>\n",
              "      <td>1.0</td>\n",
              "      <td>0.0</td>\n",
              "      <td>0.0</td>\n",
              "      <td>0.0</td>\n",
              "      <td>0.0</td>\n",
              "      <td>0.0</td>\n",
              "      <td>0.0</td>\n",
              "      <td>0.0</td>\n",
              "      <td>0.0</td>\n",
              "      <td>0.0</td>\n",
              "      <td>0.0</td>\n",
              "      <td>0.0</td>\n",
              "      <td>0.0</td>\n",
              "      <td>0.0</td>\n",
              "      <td>0.0</td>\n",
              "      <td>0.0</td>\n",
              "      <td>4</td>\n",
              "      <td>11726</td>\n",
              "    </tr>\n",
              "  </tbody>\n",
              "</table>\n",
              "<p>5 rows × 1805 columns</p>\n",
              "</div>"
            ],
            "text/plain": [
              "   Levy  Manufacturer_LEXUS  Manufacturer_CHEVROLET  ...  Color_Pink  Airbags  Price\n",
              "0  1399                 1.0                     0.0  ...         0.0       12  13328\n",
              "1  1018                 0.0                     1.0  ...         0.0        8  16621\n",
              "2     0                 0.0                     0.0  ...         0.0        2   8467\n",
              "3   862                 0.0                     0.0  ...         0.0        0   3607\n",
              "4   446                 0.0                     0.0  ...         0.0        4  11726\n",
              "\n",
              "[5 rows x 1805 columns]"
            ]
          },
          "metadata": {
            "tags": []
          },
          "execution_count": 43
        }
      ]
    },
    {
      "cell_type": "markdown",
      "metadata": {
        "id": "xuRXL_UXtNwE"
      },
      "source": [
        ""
      ]
    },
    {
      "cell_type": "code",
      "metadata": {
        "id": "5mYYMB3Rq1pk"
      },
      "source": [
        "X = train.iloc[ : ,  : -1]\n",
        "Y = train.iloc[ : , -1 : ]"
      ],
      "execution_count": null,
      "outputs": []
    },
    {
      "cell_type": "code",
      "metadata": {
        "id": "OUVMxWDarB4i"
      },
      "source": [
        "X_train, X_test, Y_train, Y_test = train_test_split(X, Y, test_size = 0.2, random_state = SEED, shuffle = True)"
      ],
      "execution_count": null,
      "outputs": []
    },
    {
      "cell_type": "code",
      "metadata": {
        "colab": {
          "base_uri": "https://localhost:8080/"
        },
        "id": "9a1PjU91re32",
        "outputId": "d8d1e076-5c61-4a64-845e-2e2e04e6de16"
      },
      "source": [
        "regressor = RandomForestRegressor(random_state = SEED)\n",
        "regressor.fit(X_train, Y_train)"
      ],
      "execution_count": null,
      "outputs": [
        {
          "output_type": "stream",
          "text": [
            "/usr/local/lib/python3.7/dist-packages/ipykernel_launcher.py:2: DataConversionWarning:\n",
            "\n",
            "A column-vector y was passed when a 1d array was expected. Please change the shape of y to (n_samples,), for example using ravel().\n",
            "\n"
          ],
          "name": "stderr"
        },
        {
          "output_type": "execute_result",
          "data": {
            "text/plain": [
              "RandomForestRegressor(bootstrap=True, ccp_alpha=0.0, criterion='mse',\n",
              "                      max_depth=None, max_features='auto', max_leaf_nodes=None,\n",
              "                      max_samples=None, min_impurity_decrease=0.0,\n",
              "                      min_impurity_split=None, min_samples_leaf=1,\n",
              "                      min_samples_split=2, min_weight_fraction_leaf=0.0,\n",
              "                      n_estimators=100, n_jobs=None, oob_score=False,\n",
              "                      random_state=42, verbose=0, warm_start=False)"
            ]
          },
          "metadata": {
            "tags": []
          },
          "execution_count": 48
        }
      ]
    },
    {
      "cell_type": "code",
      "metadata": {
        "id": "8OkTj_Ffrh1-"
      },
      "source": [
        "predicted = regressor.predict(X_test)"
      ],
      "execution_count": null,
      "outputs": []
    },
    {
      "cell_type": "code",
      "metadata": {
        "colab": {
          "base_uri": "https://localhost:8080/"
        },
        "id": "kfHA3-errh5N",
        "outputId": "ac889d1e-6281-4f8d-c6f1-9082a6c81561"
      },
      "source": [
        "np.sqrt(mean_squared_log_error(Y_test, predicted))"
      ],
      "execution_count": null,
      "outputs": [
        {
          "output_type": "execute_result",
          "data": {
            "text/plain": [
              "1.0381181683037248"
            ]
          },
          "metadata": {
            "tags": []
          },
          "execution_count": 52
        }
      ]
    },
    {
      "cell_type": "code",
      "metadata": {
        "colab": {
          "base_uri": "https://localhost:8080/"
        },
        "id": "qsOjJY3grh8S",
        "outputId": "1045d9ca-d87c-4478-d7ae-9fd0a0b6f7a4"
      },
      "source": [
        "mean_squared_log_error(Y_test, predicted)"
      ],
      "execution_count": null,
      "outputs": [
        {
          "output_type": "execute_result",
          "data": {
            "text/plain": [
              "1.0776893313622808"
            ]
          },
          "metadata": {
            "tags": []
          },
          "execution_count": 54
        }
      ]
    },
    {
      "cell_type": "code",
      "metadata": {
        "colab": {
          "base_uri": "https://localhost:8080/"
        },
        "id": "GRLsD9VJsWs1",
        "outputId": "50c6a2a3-5ba4-44b3-9d2a-3c94db67a582"
      },
      "source": [
        "r2_score(Y_test, predicted)"
      ],
      "execution_count": null,
      "outputs": [
        {
          "output_type": "execute_result",
          "data": {
            "text/plain": [
              "-131.28605005646966"
            ]
          },
          "metadata": {
            "tags": []
          },
          "execution_count": 55
        }
      ]
    },
    {
      "cell_type": "code",
      "metadata": {
        "colab": {
          "base_uri": "https://localhost:8080/"
        },
        "id": "-0Dn7XdCtFXL",
        "outputId": "3b7d4711-93d7-4403-dd76-5df4ee1a6e23"
      },
      "source": [
        "mean_squared_error(Y_test, predicted)"
      ],
      "execution_count": null,
      "outputs": [
        {
          "output_type": "execute_result",
          "data": {
            "text/plain": [
              "45801162016.07022"
            ]
          },
          "metadata": {
            "tags": []
          },
          "execution_count": 57
        }
      ]
    }
  ]
}